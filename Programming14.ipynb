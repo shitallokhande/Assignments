{
  "nbformat": 4,
  "nbformat_minor": 0,
  "metadata": {
    "colab": {
      "name": "Untitled33.ipynb",
      "provenance": []
    },
    "kernelspec": {
      "name": "python3",
      "display_name": "Python 3"
    },
    "language_info": {
      "name": "python"
    }
  },
  "cells": [
    {
      "cell_type": "markdown",
      "metadata": {
        "id": "F5R_0uWoUiaB"
      },
      "source": [
        "Programming Assignment No. 14"
      ]
    },
    {
      "cell_type": "code",
      "metadata": {
        "id": "TbZWLOcoU2Fn"
      },
      "source": [
        "Question 1:\n",
        "\n",
        "Define a class with a generator which can iterate the numbers, which are divisible by 7, between a given range 0 and n."
      ],
      "execution_count": null,
      "outputs": []
    },
    {
      "cell_type": "code",
      "metadata": {
        "colab": {
          "base_uri": "https://localhost:8080/"
        },
        "id": "W_q_3qIgWW81",
        "outputId": "4aac7860-4465-402a-b492-6db557fc691e"
      },
      "source": [
        "class iterator(object):\n",
        "\tdef __init__(self, n):\n",
        "\t\tsuper(iterator, self).__init__()\n",
        "\t\tself.n = n\n",
        "\t\t\n",
        "\tdef divBySeven(self):\n",
        "\t\tfor i in range(0, self.n):\n",
        "\t\t\tif i % 7 == 0:\n",
        "\t\t\t\tyield i\n",
        "\n",
        "for num in iterator(100).divBySeven():\n",
        "\tprint(num)"
      ],
      "execution_count": 2,
      "outputs": [
        {
          "output_type": "stream",
          "text": [
            "0\n",
            "7\n",
            "14\n",
            "21\n",
            "28\n",
            "35\n",
            "42\n",
            "49\n",
            "56\n",
            "63\n",
            "70\n",
            "77\n",
            "84\n",
            "91\n",
            "98\n"
          ],
          "name": "stdout"
        }
      ]
    },
    {
      "cell_type": "code",
      "metadata": {
        "id": "uCOrBNynWr6s"
      },
      "source": [
        "Question 2:\n",
        "Write a program to compute the frequency of the words from the input. The output should output after sorting the key alphanumerically. \n",
        "Suppose the following input is supplied to the program:\n",
        "New to Python or choosing between Python 2 and Python 3? Read Python 2 or Python 3.\n",
        "Then, the output should be:\n",
        "2:2\n",
        "3.:1\n",
        "3?:1\n",
        "New:1\n",
        "Python:5\n",
        "Read:1\n",
        "and:1\n",
        "between:1\n",
        "choosing:1\n",
        "or:2\n",
        "to:1"
      ],
      "execution_count": null,
      "outputs": []
    },
    {
      "cell_type": "code",
      "metadata": {
        "colab": {
          "base_uri": "https://localhost:8080/"
        },
        "id": "NaFrOonUX5kB",
        "outputId": "67a5a6d4-5d19-4313-f07f-d6465642726a"
      },
      "source": [
        "import operator\n",
        "\n",
        "data = input(\"Enter the input string: \")\n",
        "\n",
        "freq = {}\n",
        "\n",
        "for i in data.split(' '):\n",
        "    if i.isalpha() or i.isdigit():\n",
        "        if i not in freq:\n",
        "            freq[i] = 1\n",
        "        elif i in freq:\n",
        "            freq[i] = freq[i] + 1\n",
        "    else:\n",
        "        pass\n",
        "    \n",
        "\n",
        "sorted_freq = sorted(freq.items(), key = operator.itemgetter(0))\n",
        "print(sorted_freq)\n",
        "\n",
        "for i in sorted_freq:\n",
        "    print(i[0], i[1])"
      ],
      "execution_count": 8,
      "outputs": [
        {
          "output_type": "stream",
          "text": [
            "Enter the input string: New to Python or choosing between Python 2 and Python 3? Read Python 2 or Python 3.\n",
            "[('2', 2), ('New', 1), ('Python', 5), ('Read', 1), ('and', 1), ('between', 1), ('choosing', 1), ('or', 2), ('to', 1)]\n",
            "2 2\n",
            "New 1\n",
            "Python 5\n",
            "Read 1\n",
            "and 1\n",
            "between 1\n",
            "choosing 1\n",
            "or 2\n",
            "to 1\n"
          ],
          "name": "stdout"
        }
      ]
    },
    {
      "cell_type": "code",
      "metadata": {
        "id": "MU_J7gatYXjA"
      },
      "source": [
        "Question 3:\n",
        "Define a class Person and its two child classes: Male and Female. \n",
        "All classes have a method \"getGender\" which can print \"Male\" for Male class and \"Female\" for Female class."
      ],
      "execution_count": null,
      "outputs": []
    },
    {
      "cell_type": "code",
      "metadata": {
        "colab": {
          "base_uri": "https://localhost:8080/"
        },
        "id": "MCWR1o25ak3_",
        "outputId": "b0b0b0c0-f987-4a74-ed40-2bedd3f51b29"
      },
      "source": [
        "class Person():\n",
        "\n",
        "  class Male():\n",
        "    def getGender() : \n",
        "     print('This is a male class')\n",
        "\n",
        "  class Female():\n",
        "    def GetGender() : \n",
        "     print('This is female class')\n",
        "\n",
        "Person.Male.getGender()\n",
        "Person.Female.GetGender()"
      ],
      "execution_count": 16,
      "outputs": [
        {
          "output_type": "stream",
          "text": [
            "This is a male class\n",
            "This is female class\n"
          ],
          "name": "stdout"
        }
      ]
    },
    {
      "cell_type": "code",
      "metadata": {
        "id": "9fgMTeh_a6Nw"
      },
      "source": [
        "Question 4:\n",
        "Please write a program to generate all sentences where subject is in \n",
        "[\"I\", \"You\"] and verb is in [\"Play\", \"Love\"] and the object is in [\"Hockey\",\"Football\"]."
      ],
      "execution_count": null,
      "outputs": []
    },
    {
      "cell_type": "code",
      "metadata": {
        "colab": {
          "base_uri": "https://localhost:8080/"
        },
        "id": "zctma0yibg7M",
        "outputId": "d8a1a412-920b-4da0-e289-285a1427ead7"
      },
      "source": [
        "def generate_sent(subject,verb,object):\n",
        "\tlist=[]\n",
        "\tfor i in subject:\n",
        "\t    for j in verb:\n",
        "\t        for k in object:\n",
        "\t            list.append(i+\" \"+j+\" \"+k)\n",
        "\treturn list \n",
        "\t           \n",
        "subject=[\"I\",\"You\"]\n",
        "verb=[\"love\", \"play\"]\n",
        "object=[\"Hockey\",\"Football\"]\n",
        "print(generate_sent(subject,verb,object))"
      ],
      "execution_count": 17,
      "outputs": [
        {
          "output_type": "stream",
          "text": [
            "['I love Hockey', 'I love Football', 'I play Hockey', 'I play Football', 'You love Hockey', 'You love Football', 'You play Hockey', 'You play Football']\n"
          ],
          "name": "stdout"
        }
      ]
    },
    {
      "cell_type": "code",
      "metadata": {
        "id": "UmqJBvIucLmT"
      },
      "source": [
        "Question 5:\n",
        "Please write a program to compress and decompress the string \"hello world!hello world!hello world!hello world!\"."
      ],
      "execution_count": null,
      "outputs": []
    },
    {
      "cell_type": "code",
      "metadata": {
        "colab": {
          "base_uri": "https://localhost:8080/"
        },
        "id": "qhONGvlEcMSK",
        "outputId": "d6bd5727-5246-47be-ea72-0490b0446ab4"
      },
      "source": [
        "import zlib\n",
        "input = 'hello world!hello world!hello world!hello world!'.encode()\n",
        "output = zlib.compress(input)\n",
        "print(output)\n",
        "print(zlib.decompress(output))"
      ],
      "execution_count": 19,
      "outputs": [
        {
          "output_type": "stream",
          "text": [
            "b'x\\x9c\\xcbH\\xcd\\xc9\\xc9W(\\xcf/\\xcaIQ\\xcc \\x82\\r\\x00\\xbd[\\x11\\xf5'\n",
            "b'hello world!hello world!hello world!hello world!'\n"
          ],
          "name": "stdout"
        }
      ]
    },
    {
      "cell_type": "code",
      "metadata": {
        "id": "6gyl73THcGqS"
      },
      "source": [
        "Question 6:\n",
        "Please write a binary search function which searches an item in a sorted list. \n",
        "The function should return the index of element to be searched in the list."
      ],
      "execution_count": null,
      "outputs": []
    },
    {
      "cell_type": "code",
      "metadata": {
        "colab": {
          "base_uri": "https://localhost:8080/"
        },
        "id": "K7VcTYOdcqF7",
        "outputId": "9e282fb8-c8d2-40a5-b872-7eb5eff40909"
      },
      "source": [
        "l = [1,2,3,4,5,6,7,8,9]\n",
        "print(l.index(4))"
      ],
      "execution_count": 22,
      "outputs": [
        {
          "output_type": "stream",
          "text": [
            "3\n"
          ],
          "name": "stdout"
        }
      ]
    }
  ]
}