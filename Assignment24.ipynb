{
  "nbformat": 4,
  "nbformat_minor": 0,
  "metadata": {
    "colab": {
      "name": "Untitled27.ipynb",
      "provenance": []
    },
    "kernelspec": {
      "name": "python3",
      "display_name": "Python 3"
    },
    "language_info": {
      "name": "python"
    }
  },
  "cells": [
    {
      "cell_type": "markdown",
      "metadata": {
        "id": "DaukAdkL06ko"
      },
      "source": [
        "Assignment No. 24"
      ]
    },
    {
      "cell_type": "code",
      "metadata": {
        "id": "RaUwjIM1092w"
      },
      "source": [
        "1. What is the relationship between def statements and lambda expressions ?\n",
        "\n",
        "def is used to define a function which can be used any number of times.\n",
        "\n",
        "Lambda expressions are used to create anonymous functions, or functions without a name. \n",
        "They are useful when we need to create a function that will only need to be used once and can be written in one line."
      ],
      "execution_count": null,
      "outputs": []
    },
    {
      "cell_type": "code",
      "metadata": {
        "colab": {
          "base_uri": "https://localhost:8080/"
        },
        "id": "ZsxX6gJy28A4",
        "outputId": "3da327b1-c02c-4795-f905-cc862dd16294"
      },
      "source": [
        "#normal dunction\n",
        "def square(num):\n",
        "   return num**2\n",
        "\n",
        "square(7)"
      ],
      "execution_count": 2,
      "outputs": [
        {
          "output_type": "execute_result",
          "data": {
            "text/plain": [
              "49"
            ]
          },
          "metadata": {
            "tags": []
          },
          "execution_count": 2
        }
      ]
    },
    {
      "cell_type": "code",
      "metadata": {
        "id": "WvlY6ZuK3AxV"
      },
      "source": [
        "#lambda function\n",
        "\n",
        "l = lambda num: num**2\n"
      ],
      "execution_count": 5,
      "outputs": []
    },
    {
      "cell_type": "code",
      "metadata": {
        "colab": {
          "base_uri": "https://localhost:8080/"
        },
        "id": "DEdyUvJV36N9",
        "outputId": "5a316013-8ee4-44cb-8f7f-6c96153b13fd"
      },
      "source": [
        "l(7)"
      ],
      "execution_count": 7,
      "outputs": [
        {
          "output_type": "execute_result",
          "data": {
            "text/plain": [
              "49"
            ]
          },
          "metadata": {
            "tags": []
          },
          "execution_count": 7
        }
      ]
    },
    {
      "cell_type": "code",
      "metadata": {
        "id": "ihBY_7M33_e3"
      },
      "source": [
        "2. What is the benefit of lambda?\n",
        "\n",
        "- We use lambda functions when we require a nameless function for a short period of time.\n",
        "- Lambda expressions are extremely useful to use in functions that take in another function as an argument.\n",
        " For example, in the map, filter, and reduce functions, we can pass in a lambda expression as the function."
      ],
      "execution_count": null,
      "outputs": []
    },
    {
      "cell_type": "code",
      "metadata": {
        "id": "jM8aQZvg44GT"
      },
      "source": [
        "3. Compare and contrast map, filter, and reduce.\n",
        "\n",
        "- The map() function iterates through all items in the given iterable and executes the function we passed as an argument on each of them.\n",
        "\n",
        "- filter() forms a new list that contains only elements that satisfy a certain condition, i.e. the function we passed returns True\n",
        "\n",
        "- reduce() works differently than map() and filter(). It does not return a new list based on the function and iterable we've passed. \n",
        "Instead, it returns a single value."
      ],
      "execution_count": null,
      "outputs": []
    },
    {
      "cell_type": "code",
      "metadata": {
        "id": "B4_z28x56ybf"
      },
      "source": [
        "4. What are function annotations, and how are they used?\n",
        "\n",
        "Function annotations are arbitrary python expressions that are associated with various part of functions. \n",
        "These expressions are evaluated at compile time and have no life in python’s runtime environment. \n",
        "Python does not attach any meaning to these annotations.\n",
        "\n"
      ],
      "execution_count": null,
      "outputs": []
    },
    {
      "cell_type": "code",
      "metadata": {
        "id": "Fe5HSpch7n_R"
      },
      "source": [
        "5. What are recursive functions, and how are they used?\n",
        "\n",
        "A recursive function is a function that calls itself during its execution. \n",
        "The process may repeat several times, outputting the result at the end of each iteration."
      ],
      "execution_count": null,
      "outputs": []
    },
    {
      "cell_type": "code",
      "metadata": {
        "colab": {
          "base_uri": "https://localhost:8080/"
        },
        "id": "sbOZZTeN8YDq",
        "outputId": "e3abf60c-b998-4e68-d1da-7905680392bf"
      },
      "source": [
        "#example of recursive function- factorial\n",
        "\n",
        "def factorial(x):\n",
        "    if x == 1:\n",
        "        return 1\n",
        "    else:\n",
        "        return (x * factorial(x-1))\n",
        "\n",
        "\n",
        "num = 9\n",
        "print(\"The factorial of\", num, \"is\", factorial(num))"
      ],
      "execution_count": 8,
      "outputs": [
        {
          "output_type": "stream",
          "text": [
            "The factorial of 9 is 362880\n"
          ],
          "name": "stdout"
        }
      ]
    },
    {
      "cell_type": "code",
      "metadata": {
        "id": "pDjcAcPL8lgn"
      },
      "source": [
        "6. What are some general design guidelines for coding functions?\n",
        "\n",
        "- Naming conventions for local variables, global variables, constants and functions:\n",
        "   Local variables should be named using camel case lettering starting with small letter (e.g. localData) \n",
        "   whereas Global variables names should start with a capital letter (e.g. GlobalData). \n",
        "   Constant names should be formed using capital letters only (e.g. CONSDATA).\n",
        "\n",
        "- Indentation:\n",
        "   Proper indentation is very important to increase the readability of the code. \n",
        "   For making the code readable, programmers should use White spaces properly.\n",
        "\n",
        "- Error return values and exception handling conventions:\n",
        "   All functions that encountering an error condition should either return a 0 or 1 for simplifying the debugging.\n",
        "\n",
        "- Code should be well documented:\n",
        "   The code should be properly commented for understanding easily. Comments regarding the statements increase the understandability of the code.\n",
        "\n",
        "- Avoid using a coding style that is too difficult to understand:\n",
        "   Code should be easily understandable. The complex code makes maintenance and debugging difficult and expensive.\n",
        "\n",
        "- Length of functions should not be very large:\n",
        "   Lengthy functions are very difficult to understand. \n",
        "   That’s why functions should be small enough to carry out small work and lengthy functions should be broken \n",
        "   into small ones for completing small tasks.\n",
        "\n",
        "- Try not to use GOTO statement:\n",
        "   GOTO statement makes the program unstructured, thus it reduces the understandability of the program and also debugging becomes difficult."
      ],
      "execution_count": null,
      "outputs": []
    },
    {
      "cell_type": "code",
      "metadata": {
        "id": "k9ulDuwW-CX2"
      },
      "source": [
        "7. Name three or more ways that functions can communicate results to a caller.\n",
        "\n",
        "- Return \n",
        "- print\n",
        "- Arguments"
      ],
      "execution_count": null,
      "outputs": []
    }
  ]
}