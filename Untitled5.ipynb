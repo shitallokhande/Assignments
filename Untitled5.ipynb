{
  "nbformat": 4,
  "nbformat_minor": 0,
  "metadata": {
    "colab": {
      "name": "Untitled5.ipynb",
      "provenance": []
    },
    "kernelspec": {
      "name": "python3",
      "display_name": "Python 3"
    },
    "language_info": {
      "name": "python"
    }
  },
  "cells": [
    {
      "cell_type": "markdown",
      "metadata": {
        "id": "oe_xRZQv1jEf"
      },
      "source": [
        "                          Python Assignment 3"
      ]
    },
    {
      "cell_type": "code",
      "metadata": {
        "id": "xkBgfb0y2CFc"
      },
      "source": [
        "1. Why are functions advantageous to have in your programs?\n",
        "\n",
        "Functions reduce the need for duplicate code. This makes programs shorter, easier to read, and easier to update."
      ],
      "execution_count": null,
      "outputs": []
    },
    {
      "cell_type": "code",
      "metadata": {
        "id": "qaK1HZ022HfI"
      },
      "source": [
        "2. When does the code in a function run: when it's specified or when it's called?\n",
        "\n",
        "When it is called"
      ],
      "execution_count": null,
      "outputs": []
    },
    {
      "cell_type": "code",
      "metadata": {
        "id": "3wY4jYke2OXA"
      },
      "source": [
        "3. What statement creates a function?\n",
        "\n",
        "The def statement"
      ],
      "execution_count": null,
      "outputs": []
    },
    {
      "cell_type": "code",
      "metadata": {
        "id": "VwhHLXeH2UBU"
      },
      "source": [
        "4. What is the difference between a function and a function call?\n",
        "\n",
        "- Function has a definition and logic inside it\n",
        "\n",
        "- Function call is calling the function while execution."
      ],
      "execution_count": null,
      "outputs": []
    },
    {
      "cell_type": "code",
      "metadata": {
        "id": "yH_sR1t7DoBx"
      },
      "source": [
        "5. How many global scopes are there in a Python program? How many local scopes?\n",
        "\n",
        "There is one global scope, and a local scope is created whenever a function is called."
      ],
      "execution_count": null,
      "outputs": []
    },
    {
      "cell_type": "code",
      "metadata": {
        "id": "y4UPFMo8Dyou"
      },
      "source": [
        "6. What happens to variables in a local scope when the function call returns?\n",
        "\n",
        "When a function returns, the local scope is destroyed, and all the variables in it are forgotten"
      ],
      "execution_count": null,
      "outputs": []
    },
    {
      "cell_type": "code",
      "metadata": {
        "id": "UX4sUUSnD40w"
      },
      "source": [
        "7. What is the concept of a return value? Is it possible to have a return value in an expression?\n",
        "\n",
        "Return value can be used as part of an expression."
      ],
      "execution_count": null,
      "outputs": []
    },
    {
      "cell_type": "code",
      "metadata": {
        "id": "KzCPmk6XEbx8"
      },
      "source": [
        "8. If a function does not have a return statement, what is the return value of a call to that function?\n",
        "\n",
        "None"
      ],
      "execution_count": null,
      "outputs": []
    },
    {
      "cell_type": "code",
      "metadata": {
        "id": "UKXqAsHJEhyG"
      },
      "source": [
        "9. How do you make a function variable refer to the global variable?\n",
        "\n",
        "Using a global statement"
      ],
      "execution_count": null,
      "outputs": []
    },
    {
      "cell_type": "code",
      "metadata": {
        "id": "xTphy2LyErRT"
      },
      "source": [
        "10. What is the data type of None?\n",
        "\n",
        "NoneType"
      ],
      "execution_count": null,
      "outputs": []
    },
    {
      "cell_type": "code",
      "metadata": {
        "id": "FGNhwnmSEvjO"
      },
      "source": [
        "11. What does the sentence import areallyourpetsnamederic do?\n",
        "\n",
        "It imports a module called as areallyourpetsnamederic."
      ],
      "execution_count": null,
      "outputs": []
    },
    {
      "cell_type": "code",
      "metadata": {
        "id": "7muR-dyAFMjd"
      },
      "source": [
        "12. If you had a bacon() feature in a spam module, what would you call it after importing spam?\n",
        "\n",
        "spam.bacon()"
      ],
      "execution_count": null,
      "outputs": []
    },
    {
      "cell_type": "code",
      "metadata": {
        "id": "DIu31CR-FT-H"
      },
      "source": [
        "13. What can you do to save a programme from crashing if it encounters an error?\n",
        "\n",
        "Place it in a try clause"
      ],
      "execution_count": null,
      "outputs": []
    },
    {
      "cell_type": "code",
      "metadata": {
        "id": "kjlcCiEzFbUe"
      },
      "source": [
        "14. What is the purpose of the try clause? What is the purpose of the except clause?\n",
        "\n",
        "The code that could potentially cause an error goes in the try clause.\n",
        "\n",
        "The code that executes if an error happens goes in the except clause."
      ],
      "execution_count": null,
      "outputs": []
    }
  ]
}