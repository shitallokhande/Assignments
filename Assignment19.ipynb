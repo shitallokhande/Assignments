{
  "nbformat": 4,
  "nbformat_minor": 0,
  "metadata": {
    "colab": {
      "name": "Untitled24.ipynb",
      "provenance": []
    },
    "kernelspec": {
      "name": "python3",
      "display_name": "Python 3"
    },
    "language_info": {
      "name": "python"
    }
  },
  "cells": [
    {
      "cell_type": "markdown",
      "metadata": {
        "id": "uLxFmK9yEBXT"
      },
      "source": [
        "Assignment No. 19"
      ]
    },
    {
      "cell_type": "code",
      "metadata": {
        "id": "A6P3we2hEFWT"
      },
      "source": [
        "1. Make a class called Thing with no contents and print it. \n",
        "Then, create an object called example from this class and also print it. Are the printed values the same or different?"
      ],
      "execution_count": null,
      "outputs": []
    },
    {
      "cell_type": "code",
      "metadata": {
        "id": "WgDCclTDEIIG"
      },
      "source": [
        "class Thing:\n",
        "  pass\n"
      ],
      "execution_count": 15,
      "outputs": []
    },
    {
      "cell_type": "code",
      "metadata": {
        "colab": {
          "base_uri": "https://localhost:8080/"
        },
        "id": "pqcdUpJAFdDO",
        "outputId": "f7653304-6a2f-426a-a049-4d0cd0cbb55f"
      },
      "source": [
        "  print(Thing)"
      ],
      "execution_count": 16,
      "outputs": [
        {
          "output_type": "stream",
          "text": [
            "<class '__main__.Thing'>\n"
          ],
          "name": "stdout"
        }
      ]
    },
    {
      "cell_type": "code",
      "metadata": {
        "colab": {
          "base_uri": "https://localhost:8080/"
        },
        "id": "umtelhgcEOZ9",
        "outputId": "e7a2bc14-1eca-4e02-e8c8-7313a7c76177"
      },
      "source": [
        "example = Thing()\n",
        "print(example)"
      ],
      "execution_count": 17,
      "outputs": [
        {
          "output_type": "stream",
          "text": [
            "<__main__.Thing object at 0x7fdb0f4ac7d0>\n"
          ],
          "name": "stdout"
        }
      ]
    },
    {
      "cell_type": "code",
      "metadata": {
        "id": "umYNgwdtEQcq"
      },
      "source": [
        "2. Create a new class called Thing2 and add the value 'abc' to the letters class attribute. Letters should be printed."
      ],
      "execution_count": null,
      "outputs": []
    },
    {
      "cell_type": "code",
      "metadata": {
        "id": "b5no-lvJFqbd"
      },
      "source": [
        "class Thing2:\n",
        "\n",
        "  letters = \"abc\""
      ],
      "execution_count": 19,
      "outputs": []
    },
    {
      "cell_type": "code",
      "metadata": {
        "colab": {
          "base_uri": "https://localhost:8080/",
          "height": 35
        },
        "id": "isC5D3ApL_Oy",
        "outputId": "027a8718-58cb-4b3d-9a26-2db1c915608f"
      },
      "source": [
        "Thing2.letters"
      ],
      "execution_count": 20,
      "outputs": [
        {
          "output_type": "execute_result",
          "data": {
            "application/vnd.google.colaboratory.intrinsic+json": {
              "type": "string"
            },
            "text/plain": [
              "'abc'"
            ]
          },
          "metadata": {
            "tags": []
          },
          "execution_count": 20
        }
      ]
    },
    {
      "cell_type": "code",
      "metadata": {
        "id": "rDWyxa_gMD1Y"
      },
      "source": [
        "3. Make yet another class called, of course, Thing3. This time, assign the value 'xyz' to an instance (object) attribute called letters. \n",
        "Print letters. Do you need to make an object from the class to do this?"
      ],
      "execution_count": null,
      "outputs": []
    },
    {
      "cell_type": "code",
      "metadata": {
        "id": "piJ4qjAIMKJr"
      },
      "source": [
        "class Thing3:\n",
        "\n",
        "  letters = \"xyz\""
      ],
      "execution_count": 21,
      "outputs": []
    },
    {
      "cell_type": "code",
      "metadata": {
        "colab": {
          "base_uri": "https://localhost:8080/",
          "height": 35
        },
        "id": "lFW7bnOkMQqA",
        "outputId": "96e25aff-9215-467c-8020-9c0683486977"
      },
      "source": [
        "Thing3.letters"
      ],
      "execution_count": 22,
      "outputs": [
        {
          "output_type": "execute_result",
          "data": {
            "application/vnd.google.colaboratory.intrinsic+json": {
              "type": "string"
            },
            "text/plain": [
              "'xyz'"
            ]
          },
          "metadata": {
            "tags": []
          },
          "execution_count": 22
        }
      ]
    },
    {
      "cell_type": "code",
      "metadata": {
        "id": "vbLKQIICMUEG"
      },
      "source": [
        "4. Create an Element class with the instance attributes name, symbol, and number. Create a class object with the values 'Hydrogen,' 'H,' and 1."
      ],
      "execution_count": null,
      "outputs": []
    },
    {
      "cell_type": "code",
      "metadata": {
        "id": "syOcWD8JMkCp"
      },
      "source": [
        "class Element:\n",
        "\n",
        "  def __init__(self,name,symbol,number):\n",
        "    self.name = name\n",
        "    self.symbol = symbol\n",
        "    self.number = number\n",
        "    "
      ],
      "execution_count": 23,
      "outputs": []
    },
    {
      "cell_type": "code",
      "metadata": {
        "id": "zkOafaZVM7qv"
      },
      "source": [
        "obj = Element('Hydrogen','H',1)"
      ],
      "execution_count": 27,
      "outputs": []
    },
    {
      "cell_type": "code",
      "metadata": {
        "colab": {
          "base_uri": "https://localhost:8080/"
        },
        "id": "JM6bNAESNGjh",
        "outputId": "c923c235-664e-4a72-ea76-91c63e8ec653"
      },
      "source": [
        "print(obj.name)"
      ],
      "execution_count": 32,
      "outputs": [
        {
          "output_type": "stream",
          "text": [
            "Hydrogen\n"
          ],
          "name": "stdout"
        }
      ]
    },
    {
      "cell_type": "code",
      "metadata": {
        "colab": {
          "base_uri": "https://localhost:8080/",
          "height": 35
        },
        "id": "Z70PPtMgNI8G",
        "outputId": "bb8bd60a-85fb-4a9b-dedf-1b978bf31f6f"
      },
      "source": [
        "obj.symbol"
      ],
      "execution_count": 33,
      "outputs": [
        {
          "output_type": "execute_result",
          "data": {
            "application/vnd.google.colaboratory.intrinsic+json": {
              "type": "string"
            },
            "text/plain": [
              "'H'"
            ]
          },
          "metadata": {
            "tags": []
          },
          "execution_count": 33
        }
      ]
    },
    {
      "cell_type": "code",
      "metadata": {
        "colab": {
          "base_uri": "https://localhost:8080/"
        },
        "id": "ojLwfR8VN-Ft",
        "outputId": "eb4cfd8a-7a56-4929-999a-629fa9ed52e1"
      },
      "source": [
        "obj.number"
      ],
      "execution_count": 34,
      "outputs": [
        {
          "output_type": "execute_result",
          "data": {
            "text/plain": [
              "1"
            ]
          },
          "metadata": {
            "tags": []
          },
          "execution_count": 34
        }
      ]
    },
    {
      "cell_type": "code",
      "metadata": {
        "id": "DqjM_3gjN_eA"
      },
      "source": [
        "5. Make a dictionary with these keys and values: 'name': 'Hydrogen', 'symbol': 'H', 'number': 1. \n",
        "Then, create an object called hydrogen from class Element using this dictionary."
      ],
      "execution_count": null,
      "outputs": []
    },
    {
      "cell_type": "code",
      "metadata": {
        "id": "Ss1HpZoMOFFQ"
      },
      "source": [
        "dict = {'name': 'Hydrogen', 'symbol': 'H', 'number': 1}"
      ],
      "execution_count": 35,
      "outputs": []
    },
    {
      "cell_type": "code",
      "metadata": {
        "id": "pKcObsvvOSck"
      },
      "source": [
        "hydrogen = Element(dict['name'],dict['symbol'],dict['number'])"
      ],
      "execution_count": 39,
      "outputs": []
    },
    {
      "cell_type": "code",
      "metadata": {
        "colab": {
          "base_uri": "https://localhost:8080/",
          "height": 35
        },
        "id": "A6GsXKPUOgvG",
        "outputId": "e038b1af-0071-4fc0-da4f-8220c28c5ed3"
      },
      "source": [
        "hydrogen.name"
      ],
      "execution_count": 40,
      "outputs": [
        {
          "output_type": "execute_result",
          "data": {
            "application/vnd.google.colaboratory.intrinsic+json": {
              "type": "string"
            },
            "text/plain": [
              "'Hydrogen'"
            ]
          },
          "metadata": {
            "tags": []
          },
          "execution_count": 40
        }
      ]
    },
    {
      "cell_type": "code",
      "metadata": {
        "colab": {
          "base_uri": "https://localhost:8080/",
          "height": 35
        },
        "id": "brxW6rFDOmu_",
        "outputId": "f629fbe3-ea56-42bd-a103-d32368e69758"
      },
      "source": [
        "hydrogen.symbol"
      ],
      "execution_count": 41,
      "outputs": [
        {
          "output_type": "execute_result",
          "data": {
            "application/vnd.google.colaboratory.intrinsic+json": {
              "type": "string"
            },
            "text/plain": [
              "'H'"
            ]
          },
          "metadata": {
            "tags": []
          },
          "execution_count": 41
        }
      ]
    },
    {
      "cell_type": "code",
      "metadata": {
        "colab": {
          "base_uri": "https://localhost:8080/"
        },
        "id": "czggEivyOuub",
        "outputId": "5361db61-211f-4c96-d66c-a9a79acaf32e"
      },
      "source": [
        "hydrogen.number"
      ],
      "execution_count": 42,
      "outputs": [
        {
          "output_type": "execute_result",
          "data": {
            "text/plain": [
              "1"
            ]
          },
          "metadata": {
            "tags": []
          },
          "execution_count": 42
        }
      ]
    },
    {
      "cell_type": "code",
      "metadata": {
        "id": "hFNKjyUsOxkx"
      },
      "source": [
        "6. For the Element class, define a method called dump() that prints the values of the object’s attributes (name, symbol, and number). \n",
        "Create the hydrogen object from this new definition and use dump() to print its attributes."
      ],
      "execution_count": null,
      "outputs": []
    },
    {
      "cell_type": "code",
      "metadata": {
        "id": "cQlQeS08O1uv"
      },
      "source": [
        "class Element:\n",
        "\n",
        "  def __init__(self,name,symbol,number):\n",
        "    self.name = name\n",
        "    self.symbol = symbol\n",
        "    self.number = number\n",
        "    \n",
        "  def dump(self):\n",
        "   print('name=%s, symbol=%s, number=%s' % \n",
        "         (self.name, self.symbol, self.number))"
      ],
      "execution_count": 43,
      "outputs": []
    },
    {
      "cell_type": "code",
      "metadata": {
        "id": "xDvSeyMQPlp_"
      },
      "source": [
        "hydrogen = Element('Hydrogen','H',1)"
      ],
      "execution_count": 44,
      "outputs": []
    },
    {
      "cell_type": "code",
      "metadata": {
        "colab": {
          "base_uri": "https://localhost:8080/"
        },
        "id": "Cq_CFHGHPuFX",
        "outputId": "5326a430-67df-4ff2-b5e7-178ca0dfe2c5"
      },
      "source": [
        "hydrogen.dump()"
      ],
      "execution_count": 46,
      "outputs": [
        {
          "output_type": "stream",
          "text": [
            "name=Hydrogen, symbol=H, number=1\n"
          ],
          "name": "stdout"
        }
      ]
    },
    {
      "cell_type": "code",
      "metadata": {
        "id": "8V03nAZVPxge"
      },
      "source": [
        "7. Call print(hydrogen). \n",
        "In the definition of Element, change the name of method dump to __str__, create a new hydrogen object, and call print(hydrogen) again."
      ],
      "execution_count": null,
      "outputs": []
    },
    {
      "cell_type": "code",
      "metadata": {
        "colab": {
          "base_uri": "https://localhost:8080/"
        },
        "id": "x3aWs2aGP_ZY",
        "outputId": "9113a2a2-50d4-499a-c3e4-831362bbaa52"
      },
      "source": [
        "print(hydrogen)"
      ],
      "execution_count": 47,
      "outputs": [
        {
          "output_type": "stream",
          "text": [
            "<__main__.Element object at 0x7fdb0b40fcd0>\n"
          ],
          "name": "stdout"
        }
      ]
    },
    {
      "cell_type": "code",
      "metadata": {
        "id": "ZwY-xg7GQgp-"
      },
      "source": [
        "class Element:\n",
        "\n",
        "  def __init__(self,name,symbol,number):\n",
        "    self.name = name\n",
        "    self.symbol = symbol\n",
        "    self.number = number\n",
        "    \n",
        "  def __str__(self):\n",
        "   print('name=%s, symbol=%s, number=%s' % \n",
        "         (self.name, self.symbol, self.number))"
      ],
      "execution_count": 48,
      "outputs": []
    },
    {
      "cell_type": "code",
      "metadata": {
        "id": "5WclvfvaQnOV"
      },
      "source": [
        "hydrogen = Element('Hydro','H1',1)"
      ],
      "execution_count": 49,
      "outputs": []
    },
    {
      "cell_type": "code",
      "metadata": {
        "colab": {
          "base_uri": "https://localhost:8080/",
          "height": 183
        },
        "id": "-lEI4MbGQs9R",
        "outputId": "424f060c-09ce-4db2-efc6-6ed5dc00d6a9"
      },
      "source": [
        "print(hydrogen)"
      ],
      "execution_count": 50,
      "outputs": [
        {
          "output_type": "stream",
          "text": [
            "name=Hydro, symbol=H1, number=1\n"
          ],
          "name": "stdout"
        },
        {
          "output_type": "error",
          "ename": "TypeError",
          "evalue": "ignored",
          "traceback": [
            "\u001b[0;31m---------------------------------------------------------------------------\u001b[0m",
            "\u001b[0;31mTypeError\u001b[0m                                 Traceback (most recent call last)",
            "\u001b[0;32m<ipython-input-50-60c7bef336f2>\u001b[0m in \u001b[0;36m<module>\u001b[0;34m()\u001b[0m\n\u001b[0;32m----> 1\u001b[0;31m \u001b[0mprint\u001b[0m\u001b[0;34m(\u001b[0m\u001b[0mhydrogen\u001b[0m\u001b[0;34m)\u001b[0m\u001b[0;34m\u001b[0m\u001b[0;34m\u001b[0m\u001b[0m\n\u001b[0m",
            "\u001b[0;31mTypeError\u001b[0m: __str__ returned non-string (type NoneType)"
          ]
        }
      ]
    },
    {
      "cell_type": "code",
      "metadata": {
        "id": "gN0RsoKmQwhu"
      },
      "source": [
        "9. Define three classes: Bear, Rabbit, and Octothorpe. For each, define only one method: eats(). \n",
        "This should return 'berries' (Bear), 'clover' (Rabbit), or 'campers' (Octothorpe). Create one object from each and print what it eats."
      ],
      "execution_count": null,
      "outputs": []
    },
    {
      "cell_type": "code",
      "metadata": {
        "id": "832OZkrDQ8On"
      },
      "source": [
        "class Bear:\n",
        " \n",
        " def eats(self):\n",
        "  return 'Berries'\n",
        "\n",
        "class Rabbit :\n",
        " def eats(self) : \n",
        "  return 'Clover'\n",
        "\n",
        "class Octothorpe : \n",
        " def eats(self) : \n",
        "   return 'Campers'"
      ],
      "execution_count": 65,
      "outputs": []
    },
    {
      "cell_type": "code",
      "metadata": {
        "id": "EF-I80sRSQS2"
      },
      "source": [
        "b = Bear()\n",
        "r = Rabbit()\n",
        "o = Octothorpe"
      ],
      "execution_count": 66,
      "outputs": []
    },
    {
      "cell_type": "code",
      "metadata": {
        "colab": {
          "base_uri": "https://localhost:8080/",
          "height": 35
        },
        "id": "cQZiEJ3RRjI4",
        "outputId": "abfbe194-2462-4bda-b75a-39f82d7283c2"
      },
      "source": [
        "b.eats()"
      ],
      "execution_count": 67,
      "outputs": [
        {
          "output_type": "execute_result",
          "data": {
            "application/vnd.google.colaboratory.intrinsic+json": {
              "type": "string"
            },
            "text/plain": [
              "'Berries'"
            ]
          },
          "metadata": {
            "tags": []
          },
          "execution_count": 67
        }
      ]
    },
    {
      "cell_type": "code",
      "metadata": {
        "colab": {
          "base_uri": "https://localhost:8080/",
          "height": 35
        },
        "id": "FQHJrh5IR5LO",
        "outputId": "33fe656c-ecc9-4164-b21e-0faa1cc41d6f"
      },
      "source": [
        "r.eats()"
      ],
      "execution_count": 68,
      "outputs": [
        {
          "output_type": "execute_result",
          "data": {
            "application/vnd.google.colaboratory.intrinsic+json": {
              "type": "string"
            },
            "text/plain": [
              "'Clover'"
            ]
          },
          "metadata": {
            "tags": []
          },
          "execution_count": 68
        }
      ]
    },
    {
      "cell_type": "code",
      "metadata": {
        "colab": {
          "base_uri": "https://localhost:8080/",
          "height": 166
        },
        "id": "dFcIOeRDR6mi",
        "outputId": "576bcadc-e9d0-4830-f014-d0c8dad3cdd5"
      },
      "source": [
        "o.eats()"
      ],
      "execution_count": 69,
      "outputs": [
        {
          "output_type": "error",
          "ename": "TypeError",
          "evalue": "ignored",
          "traceback": [
            "\u001b[0;31m---------------------------------------------------------------------------\u001b[0m",
            "\u001b[0;31mTypeError\u001b[0m                                 Traceback (most recent call last)",
            "\u001b[0;32m<ipython-input-69-fa20fd270a83>\u001b[0m in \u001b[0;36m<module>\u001b[0;34m()\u001b[0m\n\u001b[0;32m----> 1\u001b[0;31m \u001b[0mo\u001b[0m\u001b[0;34m.\u001b[0m\u001b[0meats\u001b[0m\u001b[0;34m(\u001b[0m\u001b[0;34m)\u001b[0m\u001b[0;34m\u001b[0m\u001b[0;34m\u001b[0m\u001b[0m\n\u001b[0m",
            "\u001b[0;31mTypeError\u001b[0m: eats() missing 1 required positional argument: 'self'"
          ]
        }
      ]
    },
    {
      "cell_type": "code",
      "metadata": {
        "id": "X_vrSdYiR756"
      },
      "source": [
        "10. Define these classes: Laser, Claw, and SmartPhone. Each has only one method: does(). \n",
        "This returns 'disintegrate' (Laser), 'crush' (Claw), or 'ring' (SmartPhone). \n",
        "Then, define the class Robot that has one instance (object) of each of these. \n",
        "Define a does() method for the Robot that prints what its component objects do."
      ],
      "execution_count": null,
      "outputs": []
    },
    {
      "cell_type": "code",
      "metadata": {
        "id": "uzdf8fHlSqWq"
      },
      "source": [
        "class Laser :\n",
        "  def does(self):\n",
        "    return 'disintegrate'\n",
        "\n",
        "class Claw :\n",
        "  def does(self):\n",
        "    return 'claw'\n",
        "\n",
        "class SmartPhone :\n",
        "  def does(self):\n",
        "    return 'ring'\n",
        "\n",
        "class Robot :\n",
        "  def __init__(self):\n",
        "   self.laser = Laser()\n",
        "   self.claw = Claw()\n",
        "   self.smartphone = SmartPhone\n",
        "\n",
        "  def does(self) :\n",
        "   return \n",
        "   'My laser is %s'\n",
        "   'My claw is %s'\n",
        "   'My smartphone is %s' % (\n",
        "       self.laser.does(),\n",
        "       self.claw.does(),\n",
        "       self.smartphone.does() )\n"
      ],
      "execution_count": 77,
      "outputs": []
    },
    {
      "cell_type": "code",
      "metadata": {
        "id": "nBQrKLXATC6B"
      },
      "source": [
        "rob = Robot()"
      ],
      "execution_count": 78,
      "outputs": []
    },
    {
      "cell_type": "code",
      "metadata": {
        "colab": {
          "base_uri": "https://localhost:8080/"
        },
        "id": "7vPxQrIHTf-f",
        "outputId": "2236b7b1-0a7b-4220-aa22-bf933543c09f"
      },
      "source": [
        "print(rob.does())"
      ],
      "execution_count": 80,
      "outputs": [
        {
          "output_type": "stream",
          "text": [
            "None\n"
          ],
          "name": "stdout"
        }
      ]
    },
    {
      "cell_type": "code",
      "metadata": {
        "id": "yRSH01FSUy9O"
      },
      "source": [
        ""
      ],
      "execution_count": null,
      "outputs": []
    }
  ]
}