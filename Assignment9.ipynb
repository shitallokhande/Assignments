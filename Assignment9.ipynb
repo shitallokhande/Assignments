{
  "nbformat": 4,
  "nbformat_minor": 0,
  "metadata": {
    "colab": {
      "name": "Untitled19.ipynb",
      "provenance": [],
      "collapsed_sections": []
    },
    "kernelspec": {
      "name": "python3",
      "display_name": "Python 3"
    },
    "language_info": {
      "name": "python"
    }
  },
  "cells": [
    {
      "cell_type": "markdown",
      "metadata": {
        "id": "FfTGH56iTdXw"
      },
      "source": [
        "Assignment No. 9"
      ]
    },
    {
      "cell_type": "code",
      "metadata": {
        "id": "NUr76wOVTgxy"
      },
      "source": [
        "1. To what does a relative path refer?\n",
        "\n",
        "A relative path refers to a location that is relative to a current directory."
      ],
      "execution_count": null,
      "outputs": []
    },
    {
      "cell_type": "code",
      "metadata": {
        "id": "-Fa6DqcvTs6v"
      },
      "source": [
        "2. What does an absolute path start with your operating system?\n",
        "\n",
        "An absolute, or full, path begins with the root folder/ drive letter followed by a colon. eg. E:"
      ],
      "execution_count": null,
      "outputs": []
    },
    {
      "cell_type": "code",
      "metadata": {
        "id": "9DVtZoHZUEUi"
      },
      "source": [
        "3. What do the functions os.getcwd() and os.chdir() do?\n",
        "\n",
        "os.getcwd() -  CWD stands for Current Working Directory. This function allows you to see what your current working directory is.\n",
        "\n",
        "os.chdir() - Short for CHange DIRectory, this function allows you to set the current working directory to a path of your choice."
      ],
      "execution_count": null,
      "outputs": []
    },
    {
      "cell_type": "code",
      "metadata": {
        "id": "BiUOEXLlUZdU"
      },
      "source": [
        "4. What are the . and .. folders?\n",
        "\n",
        "The . is the current directory, while .. signifies the parent directory. "
      ],
      "execution_count": null,
      "outputs": []
    },
    {
      "cell_type": "code",
      "metadata": {
        "id": "fjJoOANBUvsE"
      },
      "source": [
        "5. In C:\\bacon\\eggs\\spam.txt, which part is the dir name, and which part is the base name?\n",
        "\n",
        "C:\\bacon\\eggs is the directory\n",
        "spam.txt is the base name"
      ],
      "execution_count": null,
      "outputs": []
    },
    {
      "cell_type": "code",
      "metadata": {
        "id": "m3lh_PcLVSdj"
      },
      "source": [
        "6. What are the three “mode” arguments that can be passed to the open() function?\n",
        "\n",
        "'r' - read mode\n",
        "'w' - write mode\n",
        "'a' - append mode"
      ],
      "execution_count": null,
      "outputs": []
    },
    {
      "cell_type": "code",
      "metadata": {
        "id": "YnHBuL1uVhuG"
      },
      "source": [
        "7. What happens if an existing file is opened in write mode?\n",
        "\n",
        "It is erased and completely overwritten."
      ],
      "execution_count": null,
      "outputs": []
    },
    {
      "cell_type": "code",
      "metadata": {
        "id": "LCfqzPO5VqKW"
      },
      "source": [
        "8. How do you tell the difference between read() and readlines()?\n",
        "\n",
        "The read() method returns the file's entire contents as a single string value. \n",
        "The readlines() method returns a list of strings, where each string is a line from the file's contents."
      ],
      "execution_count": null,
      "outputs": []
    },
    {
      "cell_type": "code",
      "metadata": {
        "id": "dQFLXmVeV5x3"
      },
      "source": [
        "9. What data structure does a shelf value resemble?\n",
        "\n",
        "Dictationary values - key and values"
      ],
      "execution_count": null,
      "outputs": []
    }
  ]
}