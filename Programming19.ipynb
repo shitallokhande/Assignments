{
  "nbformat": 4,
  "nbformat_minor": 0,
  "metadata": {
    "colab": {
      "name": "Untitled37.ipynb",
      "provenance": [],
      "collapsed_sections": []
    },
    "kernelspec": {
      "name": "python3",
      "display_name": "Python 3"
    },
    "language_info": {
      "name": "python"
    }
  },
  "cells": [
    {
      "cell_type": "markdown",
      "metadata": {
        "id": "rJhE4zZsM57M"
      },
      "source": [
        "Programming Assignment No. 19"
      ]
    },
    {
      "cell_type": "code",
      "metadata": {
        "id": "JFtdLsKbNBZE"
      },
      "source": [
        "Question1\n",
        "Create a function that takes a string and returns a string in which each character is repeated once.\n",
        "Examples\n",
        "double_char(\"String\") ➞ \"SSttrriinngg\"\n",
        "\n",
        "double_char(\"Hello World!\") ➞ \"HHeelllloo  WWoorrlldd!!\"\n",
        "\n",
        "double_char(\"1234!_ \") ➞ \"11223344!!__  \""
      ],
      "execution_count": null,
      "outputs": []
    },
    {
      "cell_type": "code",
      "metadata": {
        "colab": {
          "base_uri": "https://localhost:8080/",
          "height": 35
        },
        "id": "88mHVPIqNEqW",
        "outputId": "e2790463-20cb-4b98-aa8a-126b54e41b24"
      },
      "source": [
        "def double_char(data):\n",
        "  for i in data:\n",
        "   yield i*2\n",
        "data = 'String'\n",
        "''.join(double_char(data))"
      ],
      "execution_count": 23,
      "outputs": [
        {
          "output_type": "execute_result",
          "data": {
            "application/vnd.google.colaboratory.intrinsic+json": {
              "type": "string"
            },
            "text/plain": [
              "'SSttrriinngg'"
            ]
          },
          "metadata": {
            "tags": []
          },
          "execution_count": 23
        }
      ]
    },
    {
      "cell_type": "code",
      "metadata": {
        "colab": {
          "base_uri": "https://localhost:8080/",
          "height": 35
        },
        "id": "vfdUFOq7NYa9",
        "outputId": "9952942a-c3db-43be-fbd3-12f415db9d08"
      },
      "source": [
        "data = 'Hello World!'\n",
        "''.join(double_char(data))"
      ],
      "execution_count": 25,
      "outputs": [
        {
          "output_type": "execute_result",
          "data": {
            "application/vnd.google.colaboratory.intrinsic+json": {
              "type": "string"
            },
            "text/plain": [
              "'HHeelllloo  WWoorrlldd!!'"
            ]
          },
          "metadata": {
            "tags": []
          },
          "execution_count": 25
        }
      ]
    },
    {
      "cell_type": "code",
      "metadata": {
        "colab": {
          "base_uri": "https://localhost:8080/",
          "height": 35
        },
        "id": "ZPHVxmVvQVh2",
        "outputId": "141a743a-2f32-485d-aeb1-9e9d03992c73"
      },
      "source": [
        "data = '1234!_ '\n",
        "''.join(double_char(data))"
      ],
      "execution_count": 26,
      "outputs": [
        {
          "output_type": "execute_result",
          "data": {
            "application/vnd.google.colaboratory.intrinsic+json": {
              "type": "string"
            },
            "text/plain": [
              "'11223344!!__  '"
            ]
          },
          "metadata": {
            "tags": []
          },
          "execution_count": 26
        }
      ]
    },
    {
      "cell_type": "code",
      "metadata": {
        "id": "-BIPByNhSEW7"
      },
      "source": [
        "Question2\n",
        "Create a function that reverses a boolean value and returns the string \"boolean expected\" if another variable type is given.\n",
        "Examples\n",
        "reverse(True) ➞ False\n",
        "\n",
        "reverse(False) ➞ True\n",
        "\n",
        "reverse(0) ➞ \"boolean expected\"\n",
        "\n",
        "reverse(None) ➞ \"boolean expected\""
      ],
      "execution_count": null,
      "outputs": []
    },
    {
      "cell_type": "code",
      "metadata": {
        "colab": {
          "base_uri": "https://localhost:8080/"
        },
        "id": "HNbq_0HSSRHg",
        "outputId": "319e4de6-ed60-4e98-aee4-11a415831d48"
      },
      "source": [
        "def reverse(input):\n",
        "    if input == 'True' :\n",
        "      return False\n",
        "    elif input == 'False' :\n",
        "      return True\n",
        "    else :\n",
        "      print(\"boolean expected\") \n",
        "\n",
        "reverse('True')"
      ],
      "execution_count": 38,
      "outputs": [
        {
          "output_type": "execute_result",
          "data": {
            "text/plain": [
              "False"
            ]
          },
          "metadata": {
            "tags": []
          },
          "execution_count": 38
        }
      ]
    },
    {
      "cell_type": "code",
      "metadata": {
        "colab": {
          "base_uri": "https://localhost:8080/"
        },
        "id": "DSeNDg-hSYCc",
        "outputId": "2d113b2a-36d5-4437-83d5-4efda2f4be4f"
      },
      "source": [
        "reverse('False')"
      ],
      "execution_count": 39,
      "outputs": [
        {
          "output_type": "execute_result",
          "data": {
            "text/plain": [
              "True"
            ]
          },
          "metadata": {
            "tags": []
          },
          "execution_count": 39
        }
      ]
    },
    {
      "cell_type": "code",
      "metadata": {
        "colab": {
          "base_uri": "https://localhost:8080/"
        },
        "id": "15U-PeI1TK4-",
        "outputId": "885032ec-344b-461c-96f0-796d820041e7"
      },
      "source": [
        "reverse(0)"
      ],
      "execution_count": 41,
      "outputs": [
        {
          "output_type": "stream",
          "text": [
            "boolean expected\n"
          ],
          "name": "stdout"
        }
      ]
    },
    {
      "cell_type": "code",
      "metadata": {
        "colab": {
          "base_uri": "https://localhost:8080/"
        },
        "id": "lIgmOfM9TOEb",
        "outputId": "1e97d3d4-d88a-4df1-e6f0-9f567d320839"
      },
      "source": [
        "reverse(None)"
      ],
      "execution_count": 42,
      "outputs": [
        {
          "output_type": "stream",
          "text": [
            "boolean expected\n"
          ],
          "name": "stdout"
        }
      ]
    },
    {
      "cell_type": "code",
      "metadata": {
        "id": "fAzHLx31TTZU"
      },
      "source": [
        "Question3\n",
        "Create a function that returns the thickness (in meters) of a piece of paper after folding it n number of times. \n",
        "The paper starts off with a thickness of 0.5mm.\n",
        "Examples\n",
        "num_layers(1) ➞ \"0.001m\"\n",
        "# Paper folded once is 1mm (equal to 0.001m)\n",
        "\n",
        "num_layers(4) ➞ \"0.008m\"\n",
        "# Paper folded 4 times is 8mm (equal to 0.008m)\n",
        "\n",
        "num_layers(21) ➞ \"1048.576m\"\n",
        "# Paper folded 21 times is 1048576mm (equal to 1048.576m)"
      ],
      "execution_count": null,
      "outputs": []
    },
    {
      "cell_type": "code",
      "metadata": {
        "colab": {
          "base_uri": "https://localhost:8080/"
        },
        "id": "c4Qp1gjATn0I",
        "outputId": "dd6999e5-9e96-4f94-b625-a12b9d2cdd6e"
      },
      "source": [
        "def num_layers(a):\n",
        "    res = 0.5\n",
        "    for i in range(a):\n",
        "        res *= 2 \n",
        "    return res / 1000\n",
        "num_layers(1)"
      ],
      "execution_count": 56,
      "outputs": [
        {
          "output_type": "execute_result",
          "data": {
            "text/plain": [
              "0.001"
            ]
          },
          "metadata": {
            "tags": []
          },
          "execution_count": 56
        }
      ]
    },
    {
      "cell_type": "code",
      "metadata": {
        "colab": {
          "base_uri": "https://localhost:8080/"
        },
        "id": "eGCKLbF7biu_",
        "outputId": "ba06ca09-6866-459a-c86e-ee4e075461b7"
      },
      "source": [
        "num_layers(4)"
      ],
      "execution_count": 57,
      "outputs": [
        {
          "output_type": "execute_result",
          "data": {
            "text/plain": [
              "0.008"
            ]
          },
          "metadata": {
            "tags": []
          },
          "execution_count": 57
        }
      ]
    },
    {
      "cell_type": "code",
      "metadata": {
        "colab": {
          "base_uri": "https://localhost:8080/"
        },
        "id": "q2ytTlQnb5-z",
        "outputId": "c547cb59-052b-494c-95fb-444e38c0802d"
      },
      "source": [
        "num_layers(21)"
      ],
      "execution_count": 58,
      "outputs": [
        {
          "output_type": "execute_result",
          "data": {
            "text/plain": [
              "1048.576"
            ]
          },
          "metadata": {
            "tags": []
          },
          "execution_count": 58
        }
      ]
    },
    {
      "cell_type": "code",
      "metadata": {
        "id": "B6AJtEQ9b_2R"
      },
      "source": [
        "Question4\n",
        "Create a function that takes a single string as argument and returns an ordered list containing the indices of all capital letters in the string.\n",
        "Examples\n",
        "index_of_caps(\"eDaBiT\") ➞ [1, 3, 5]\n",
        "\n",
        "index_of_caps(\"eQuINoX\") ➞ [1, 3, 4, 6]\n",
        "\n",
        "index_of_caps(\"determine\") ➞ []\n",
        "\n",
        "index_of_caps(\"STRIKE\") ➞ [0, 1, 2, 3, 4, 5]\n",
        "\n",
        "index_of_caps(\"sUn\") ➞ [1]"
      ],
      "execution_count": null,
      "outputs": []
    },
    {
      "cell_type": "code",
      "metadata": {
        "colab": {
          "base_uri": "https://localhost:8080/"
        },
        "id": "6W8srobYcJ7q",
        "outputId": "c2cf6235-a2a0-4fe5-9d29-44c7aa39ef7b"
      },
      "source": [
        "def index_of_caps(data):\n",
        "  res = [i for i in range(len(data)) if data[i].isupper()]\n",
        "  print(res)\n",
        "\n",
        "index_of_caps(\"eDaBiT\")"
      ],
      "execution_count": 62,
      "outputs": [
        {
          "output_type": "stream",
          "text": [
            "[1, 3, 5]\n"
          ],
          "name": "stdout"
        }
      ]
    },
    {
      "cell_type": "code",
      "metadata": {
        "colab": {
          "base_uri": "https://localhost:8080/"
        },
        "id": "--iprYgIdb9g",
        "outputId": "3a718a52-d33a-44c8-8504-1f58c82f62a0"
      },
      "source": [
        "index_of_caps(\"eQuINoX\") "
      ],
      "execution_count": 63,
      "outputs": [
        {
          "output_type": "stream",
          "text": [
            "[1, 3, 4, 6]\n"
          ],
          "name": "stdout"
        }
      ]
    },
    {
      "cell_type": "code",
      "metadata": {
        "colab": {
          "base_uri": "https://localhost:8080/"
        },
        "id": "xCSGiPErdufC",
        "outputId": "7fcfe094-8a7f-472a-d67a-b48a0ee81c27"
      },
      "source": [
        "index_of_caps(\"determine\")"
      ],
      "execution_count": 64,
      "outputs": [
        {
          "output_type": "stream",
          "text": [
            "[]\n"
          ],
          "name": "stdout"
        }
      ]
    },
    {
      "cell_type": "code",
      "metadata": {
        "colab": {
          "base_uri": "https://localhost:8080/"
        },
        "id": "VKJWCdtxdvSC",
        "outputId": "7e84cb6c-889d-4920-c51f-b694d55cf77b"
      },
      "source": [
        "index_of_caps(\"sUn\")"
      ],
      "execution_count": 65,
      "outputs": [
        {
          "output_type": "stream",
          "text": [
            "[1]\n"
          ],
          "name": "stdout"
        }
      ]
    },
    {
      "cell_type": "code",
      "metadata": {
        "colab": {
          "base_uri": "https://localhost:8080/"
        },
        "id": "CnTI7ZIddxLo",
        "outputId": "0fe7d047-7304-4c35-965c-b737dbd26695"
      },
      "source": [
        "index_of_caps(\"sUn\")"
      ],
      "execution_count": 66,
      "outputs": [
        {
          "output_type": "stream",
          "text": [
            "[1]\n"
          ],
          "name": "stdout"
        }
      ]
    },
    {
      "cell_type": "code",
      "metadata": {
        "id": "7p_uHUUHd0Bl"
      },
      "source": [
        "Question5\n",
        "Using list comprehensions, create a function that finds all even numbers from 1 to the given number.\n",
        "Examples\n",
        "find_even_nums(8) ➞ [2, 4, 6, 8]\n",
        "\n",
        "find_even_nums(4) ➞ [2, 4]\n",
        "\n",
        "find_even_nums(2) ➞ [2]"
      ],
      "execution_count": null,
      "outputs": []
    },
    {
      "cell_type": "code",
      "metadata": {
        "colab": {
          "base_uri": "https://localhost:8080/"
        },
        "id": "nXJuKTRMd6CB",
        "outputId": "e3993726-593a-44b4-facc-bca4877e7884"
      },
      "source": [
        "def find_even_nums(inp):\n",
        " even = [i for i in range(1,inp+1) if i % 2 == 0]\n",
        " print(even)\n",
        "\n",
        "find_even_nums(8) \n",
        "find_even_nums(4)\n",
        "find_even_nums(2)"
      ],
      "execution_count": 77,
      "outputs": [
        {
          "output_type": "stream",
          "text": [
            "[2, 4, 6, 8]\n",
            "[2, 4]\n",
            "[2]\n"
          ],
          "name": "stdout"
        }
      ]
    }
  ]
}