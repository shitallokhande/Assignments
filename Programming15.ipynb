{
  "nbformat": 4,
  "nbformat_minor": 0,
  "metadata": {
    "colab": {
      "name": "Untitled34.ipynb",
      "provenance": []
    },
    "kernelspec": {
      "name": "python3",
      "display_name": "Python 3"
    },
    "language_info": {
      "name": "python"
    }
  },
  "cells": [
    {
      "cell_type": "markdown",
      "metadata": {
        "id": "6omccEG0y6Ye"
      },
      "source": [
        "Programming Assignment No. 15"
      ]
    },
    {
      "cell_type": "code",
      "metadata": {
        "id": "G9GtprsYy_ZD"
      },
      "source": [
        "Question 1:\n",
        "Please write a program using generator to print the numbers which can be divisible by 5 and 7 between 0 and n in comma separated form while n is input by console.\n",
        "Example:\n",
        "If the following n is given as input to the program:\n",
        "100\n",
        "Then, the output of the program should be:\n",
        "0,35,70"
      ],
      "execution_count": null,
      "outputs": []
    },
    {
      "cell_type": "code",
      "metadata": {
        "colab": {
          "base_uri": "https://localhost:8080/"
        },
        "id": "ofSpZD820Dgg",
        "outputId": "f9d112d1-b84b-4fda-b601-ac5bba66787a"
      },
      "source": [
        "def NumGenerator(n):\n",
        "    for i in range(n+1):\n",
        "        if i%5==0 and i%7==0:\n",
        "            yield i\n",
        "\n",
        "n = int(input())\n",
        "resp = [str(i) for i in NumGenerator(n)]\n",
        "print(\",\".join(resp))"
      ],
      "execution_count": 4,
      "outputs": [
        {
          "output_type": "stream",
          "text": [
            "100\n",
            "0,35,70\n"
          ],
          "name": "stdout"
        }
      ]
    },
    {
      "cell_type": "code",
      "metadata": {
        "id": "036MNQUM0MoP"
      },
      "source": [
        "Question 2:\n",
        "Please write a program using generator to print the even numbers between 0 and n in comma separated form while n is input by console.\n",
        "Example:\n",
        "If the following n is given as input to the program:\n",
        "10\n",
        "Then, the output of the program should be:\n",
        "0,2,4,6,8,10"
      ],
      "execution_count": null,
      "outputs": []
    },
    {
      "cell_type": "code",
      "metadata": {
        "colab": {
          "base_uri": "https://localhost:8080/"
        },
        "id": "p4xgvrp20x0s",
        "outputId": "ac4b9bdd-7a5f-482f-904f-35e04d3c36cc"
      },
      "source": [
        "def NumGenerator(n):\n",
        "    for i in range(n+1):\n",
        "        if i%2==0:\n",
        "            yield i\n",
        "\n",
        "n = int(input())\n",
        "resp = [str(i) for i in NumGenerator(n)]\n",
        "print(\",\".join(resp))"
      ],
      "execution_count": 5,
      "outputs": [
        {
          "output_type": "stream",
          "text": [
            "10\n",
            "0,2,4,6,8,10\n"
          ],
          "name": "stdout"
        }
      ]
    },
    {
      "cell_type": "code",
      "metadata": {
        "id": "fik1qVSe1A3s"
      },
      "source": [
        "Question 3:\n",
        "The Fibonacci Sequence is computed based on the following formula:\n",
        "f(n)=0 if n=0\n",
        "f(n)=1 if n=1\n",
        "f(n)=f(n-1)+f(n-2) if n>1\n",
        "Please write a program using list comprehension to print the Fibonacci Sequence in comma separated form with a given n input by console.\n",
        "Example:\n",
        "If the following n is given as input to the program:\n",
        "7\n",
        "\n",
        "Then, the output of the program should be:\n",
        "0,1,1,2,3,5,8,13"
      ],
      "execution_count": null,
      "outputs": []
    },
    {
      "cell_type": "code",
      "metadata": {
        "colab": {
          "base_uri": "https://localhost:8080/"
        },
        "id": "gDBMvZrg1Gsv",
        "outputId": "04714b4d-6d09-4a4c-85d1-fb4aba5ebf5b"
      },
      "source": [
        "def fibo(n):\n",
        "    if n == 0: return 0\n",
        "    elif n == 1: return 1\n",
        "    else: return f(n-1)+f(n-2)\n",
        "\n",
        "num=int(input())\n",
        "values = [str(fibo(x)) for x in range(0, num+1)]\n",
        "print(\",\".join(values))"
      ],
      "execution_count": 10,
      "outputs": [
        {
          "output_type": "stream",
          "text": [
            "7\n",
            "0,1,1,2,3,5,8,13\n"
          ],
          "name": "stdout"
        }
      ]
    },
    {
      "cell_type": "code",
      "metadata": {
        "id": "8w1r8YRV1-54"
      },
      "source": [
        "Question 4:\n",
        "Assuming that we have some email addresses in the \"username@companyname.com\" format, \n",
        "please write program to print the user name of a given email address. Both user names and company names are composed of letters only.\n",
        "Example:\n",
        "If the following email address is given as input to the program:\n",
        "john@google.com\n",
        "Then, the output of the program should be:\n",
        "john"
      ],
      "execution_count": null,
      "outputs": []
    },
    {
      "cell_type": "code",
      "metadata": {
        "colab": {
          "base_uri": "https://localhost:8080/"
        },
        "id": "Z8xF_ecH2fYG",
        "outputId": "9b33d206-c61d-4bf0-aac5-10c6706d33b6"
      },
      "source": [
        "import re\n",
        "emailAddress = (input())\n",
        "pat2 = \"(\\w+)@(\\w+)\\.(com)\"\n",
        "r2 = re.match(pat2,emailAddress)\n",
        "print(r2.group(1))"
      ],
      "execution_count": 14,
      "outputs": [
        {
          "output_type": "stream",
          "text": [
            "john@google.com\n",
            "john\n"
          ],
          "name": "stdout"
        }
      ]
    },
    {
      "cell_type": "code",
      "metadata": {
        "id": "2mSAURbE3fZf"
      },
      "source": [
        "Question 5:\n",
        "Define a class named Shape and its subclass Square. The Square class has an init function which takes a length as argument. \n",
        "Both classes have a area function which can print the area of the shape where Shape's area is 0 by default"
      ],
      "execution_count": null,
      "outputs": []
    },
    {
      "cell_type": "code",
      "metadata": {
        "colab": {
          "base_uri": "https://localhost:8080/"
        },
        "id": "-_rcAixL5YrC",
        "outputId": "e4d59355-0874-4ae9-caea-7a24289fe117"
      },
      "source": [
        "class Shape():\n",
        "    def __init__(self):\n",
        "        pass\n",
        "\n",
        "    def area(self):\n",
        "        return 0\n",
        "\n",
        "class Square(Shape):\n",
        "    def __init__(self,length = 0):\n",
        "        Shape.__init__(self)\n",
        "        self.length = length\n",
        "\n",
        "    def area(self):\n",
        "        return self.length*self.length\n",
        "\n",
        "Asqr = Square(5)\n",
        "print(Asqr.area())      \n",
        "\n",
        "print(Square().area()) "
      ],
      "execution_count": 21,
      "outputs": [
        {
          "output_type": "stream",
          "text": [
            "25\n",
            "0\n"
          ],
          "name": "stdout"
        }
      ]
    }
  ]
}