{
  "nbformat": 4,
  "nbformat_minor": 0,
  "metadata": {
    "colab": {
      "name": "Untitled21.ipynb",
      "provenance": [],
      "collapsed_sections": []
    },
    "kernelspec": {
      "name": "python3",
      "display_name": "Python 3"
    },
    "language_info": {
      "name": "python"
    }
  },
  "cells": [
    {
      "cell_type": "markdown",
      "metadata": {
        "id": "vWdsJr1wvUnJ"
      },
      "source": [
        "Assignment No. 15"
      ]
    },
    {
      "cell_type": "code",
      "metadata": {
        "id": "2ybvAOjQvZsm"
      },
      "source": [
        "1.\tWhat are the new features added in Python 3.8 version?\n",
        "\n",
        "1. Assignment expressions\n",
        "There is new syntax := that assigns values to variables as part of a larger expression. \n",
        "It is affectionately known as “the walrus operator” due to its resemblance to the eyes and tusks of a walrus.\n",
        "\n",
        "2. Positional-only parameters\n",
        "There is a new function parameter syntax / to indicate that some function parameters must be specified positionally \n",
        "and cannot be used as keyword arguments.\n",
        "This is the same notation shown by help() for C functions annotated with Larry Hastings’ Argument Clinic tool.\n",
        "\n",
        "3. Parallel filesystem cache for compiled bytecode files\n",
        "The new PYTHONPYCACHEPREFIX setting (also available as -X pycache_prefix) configures the implicit bytecode cache to use a separate parallel filesystem tree, \n",
        "rather than the default __pycache__ subdirectories within each source directory.\n",
        "\n",
        "4. Debug build uses the same ABI as release build\n",
        "Python now uses the same ABI whether it’s built in release or debug mode. On Unix, when Python is built in debug mode, \n",
        "it is now possible to load C extensions built in release mode and C extensions built using the stable ABI.\n",
        "\n",
        "5. f-strings support = for self-documenting expressions and debugging\n",
        "Added an = specifier to f-strings. An f-string such as f'{expr=}' will expand to the text of the expression, \n",
        "an equal sign, then the representation of the evaluated expression."
      ],
      "execution_count": null,
      "outputs": []
    },
    {
      "cell_type": "code",
      "metadata": {
        "id": "Dk3AtwPmwLzD"
      },
      "source": [
        "2.\tWhat is monkey patching in Python?\n",
        "\n",
        "Monkey-patching is the technique of swapping functions or methods with others in order to change a module, library or class behavior."
      ],
      "execution_count": null,
      "outputs": []
    },
    {
      "cell_type": "code",
      "metadata": {
        "id": "tpyPV86iwb0r"
      },
      "source": [
        "3.\tWhat is the difference between a shallow copy and deep copy?\n",
        "\n",
        "A shallow copy constructs a new compound object and then (to the extent possible) inserts references into it to the objects found in the original. \n",
        "\n",
        "A deep copy constructs a new compound object and then, recursively, inserts copies into it of the objects found in the original."
      ],
      "execution_count": null,
      "outputs": []
    },
    {
      "cell_type": "code",
      "metadata": {
        "id": "L-2C9C0rwnxU"
      },
      "source": [
        "4.\tWhat is the maximum possible length of an identifier?\n",
        "\n",
        "79 characters."
      ],
      "execution_count": null,
      "outputs": []
    },
    {
      "cell_type": "code",
      "metadata": {
        "id": "r_4fqxJ0wxZh"
      },
      "source": [
        "5.\tWhat is generator comprehension?\n",
        "\n",
        "A generator comprehension is the lazy version of a list comprehension. It is just like a list comprehension \n",
        "except that it returns an iterator instead of the list ie an object with a next() method that will yield the next element."
      ],
      "execution_count": null,
      "outputs": []
    }
  ]
}