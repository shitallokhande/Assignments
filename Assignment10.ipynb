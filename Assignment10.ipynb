{
  "nbformat": 4,
  "nbformat_minor": 0,
  "metadata": {
    "colab": {
      "name": "Untitled20.ipynb",
      "provenance": [],
      "collapsed_sections": []
    },
    "kernelspec": {
      "name": "python3",
      "display_name": "Python 3"
    },
    "language_info": {
      "name": "python"
    }
  },
  "cells": [
    {
      "cell_type": "markdown",
      "metadata": {
        "id": "dA3UinpvcgCc"
      },
      "source": [
        "Assignment No. 10"
      ]
    },
    {
      "cell_type": "code",
      "metadata": {
        "id": "je_XYk4-ckyZ"
      },
      "source": [
        "Q1. What is the difference between __getattr__ and __getattribute__?\n",
        "\n",
        "The main difference between __getattr__ and __getattribute__ is that if the attribute was not found by the usual way then __getattr__ is used.\n",
        "\n",
        "Whereas the __getattribute__ is used before looking at the actual attributes on the object. \n",
        "You will have to use it more consciously otherwise very easily you can end up in infinite recursions."
      ],
      "execution_count": null,
      "outputs": []
    },
    {
      "cell_type": "code",
      "metadata": {
        "id": "TRPH4a2Tcutp"
      },
      "source": [
        "Q2. What is the difference between properties and descriptors?\n",
        "\n",
        "There are several ways that we can tap into Python's internal mechanisms for getting and setting attribute values. \n",
        "The most accessible technique is to use the property function to define get, set and delete methods associated with an attribute name. \n",
        "The property function builds descriptors for you. \n",
        "A slightly less accessible, but more extensible and reusable technique is to define descriptor classes yourself. \n",
        "This allows you considerable flexibility. You do this by creating a class which defines get, set and delete methods, \n",
        "and you associate your descriptor class with an attribute name.\n",
        "\n",
        "The property function gives us a handy way to implement a simple descriptor without defining a separate class. \n",
        "Rather than create a complete class definition, we can write getter and setter method functions, \n",
        "and then bind these functions to an attribute name."
      ],
      "execution_count": null,
      "outputs": []
    },
    {
      "cell_type": "code",
      "metadata": {
        "id": "9hdgFr7KdmCD"
      },
      "source": [
        ""
      ],
      "execution_count": null,
      "outputs": []
    }
  ]
}