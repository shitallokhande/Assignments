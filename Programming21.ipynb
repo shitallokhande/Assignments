{
  "nbformat": 4,
  "nbformat_minor": 0,
  "metadata": {
    "colab": {
      "name": "Untitled41.ipynb",
      "provenance": [],
      "collapsed_sections": []
    },
    "kernelspec": {
      "name": "python3",
      "display_name": "Python 3"
    },
    "language_info": {
      "name": "python"
    }
  },
  "cells": [
    {
      "cell_type": "markdown",
      "metadata": {
        "id": "6DicjMC_uSQY"
      },
      "source": [
        "Programming Assignment No. 21"
      ]
    },
    {
      "cell_type": "code",
      "metadata": {
        "id": "OwaMv7Q7uZIH"
      },
      "source": [
        "Question1\n",
        "Write a function that takes a list and a number as arguments. Add the number to the end of the list, then remove the first element of the list. \n",
        "The function should then return the updated list.\n",
        "Examples\n",
        "next_in_line([5, 6, 7, 8, 9], 1) ➞ [6, 7, 8, 9, 1]\n",
        "\n",
        "next_in_line([7, 6, 3, 23, 17], 10) ➞ [6, 3, 23, 17, 10]\n",
        "\n",
        "next_in_line([1, 10, 20, 42 ], 6) ➞ [10, 20, 42, 6]\n",
        "\n",
        "next_in_line([], 6) ➞ \"No list has been selected\""
      ],
      "execution_count": null,
      "outputs": []
    },
    {
      "cell_type": "code",
      "metadata": {
        "id": "rdmKb_na2Hmn"
      },
      "source": [
        "Question2\n",
        "Create the function that takes a list of dictionaries and returns the sum of people's budgets.\n",
        "Examples\n",
        "get_budgets([\n",
        "  { \"name\": \"John\", \"age\": 21, \"budget\": 23000 },\n",
        "  { \"name\": \"Steve\",  \"age\": 32, \"budget\": 40000 },\n",
        "  { \"name\": \"Martin\",  \"age\": 16, \"budget\": 2700 }\n",
        "]) ➞ 65700\n",
        "\n",
        "get_budgets([\n",
        "  { \"name\": \"John\",  \"age\": 21, \"budget\": 29000 },\n",
        "  { \"name\": \"Steve\",  \"age\": 32, \"budget\": 32000 },\n",
        "  { \"name\": \"Martin\",  \"age\": 16, \"budget\": 1600 }\n",
        "]) ➞ 62600"
      ],
      "execution_count": null,
      "outputs": []
    },
    {
      "cell_type": "code",
      "metadata": {
        "colab": {
          "base_uri": "https://localhost:8080/"
        },
        "id": "7qID28mF51k5",
        "outputId": "b89775d2-a77c-4b21-f8da-1a36ba649b36"
      },
      "source": [
        "get_budgets = [{ \"name\": \"John\", \"age\": 21, \"budget\": 23000 },\n",
        "{ \"name\": \"Steve\",  \"age\": 32, \"budget\": 40000 },\n",
        "{ \"name\": \"Martin\",  \"age\": 16, \"budget\": 2700 }]\n",
        "bugets = [li['budget'] for li in get_budgets]\n",
        "print(bugets)\n",
        "add = 0\n",
        "for i in bugets:\n",
        "  add = add + i\n",
        "add"
      ],
      "execution_count": 56,
      "outputs": [
        {
          "output_type": "stream",
          "text": [
            "[23000, 40000, 2700]\n"
          ],
          "name": "stdout"
        },
        {
          "output_type": "execute_result",
          "data": {
            "text/plain": [
              "65700"
            ]
          },
          "metadata": {
            "tags": []
          },
          "execution_count": 56
        }
      ]
    },
    {
      "cell_type": "code",
      "metadata": {
        "colab": {
          "base_uri": "https://localhost:8080/"
        },
        "id": "JwAm6kV_-3OA",
        "outputId": "0b9dfe2a-0291-4a72-cef2-7d4bb50751d8"
      },
      "source": [
        "get_budgets = [{ \"name\": \"John\",  \"age\": 21, \"budget\": 29000 },\n",
        "  { \"name\": \"Steve\",  \"age\": 32, \"budget\": 32000 },\n",
        "  { \"name\": \"Martin\",  \"age\": 16, \"budget\": 1600 }]\n",
        "bugets = [li['budget'] for li in get_budgets]\n",
        "print(bugets)\n",
        "add = 0\n",
        "for i in bugets:\n",
        "  add = add + i\n",
        "add"
      ],
      "execution_count": 64,
      "outputs": [
        {
          "output_type": "stream",
          "text": [
            "[29000, 32000, 1600]\n"
          ],
          "name": "stdout"
        },
        {
          "output_type": "execute_result",
          "data": {
            "text/plain": [
              "62600"
            ]
          },
          "metadata": {
            "tags": []
          },
          "execution_count": 64
        }
      ]
    },
    {
      "cell_type": "code",
      "metadata": {
        "id": "AcDGF4NX51a4"
      },
      "source": [
        "Question3\n",
        "Create a function that takes a string and returns a string with its letters in alphabetical order.\n",
        "Examples\n",
        "alphabet_soup(\"hello\") ➞ \"ehllo\"\n",
        "\n",
        "alphabet_soup(\"edabit\") ➞ \"abdeit\"\n",
        "\n",
        "alphabet_soup(\"hacker\") ➞ \"acehkr\"\n",
        "\n",
        "alphabet_soup(\"geek\") ➞ \"eegk\"\n",
        "\n",
        "alphabet_soup(\"javascript\") ➞ \"aacijprstv\""
      ],
      "execution_count": null,
      "outputs": []
    },
    {
      "cell_type": "code",
      "metadata": {
        "colab": {
          "base_uri": "https://localhost:8080/"
        },
        "id": "DmJuyTVO-Gcv",
        "outputId": "2e6d85e2-3b93-45f3-f6ba-fe5f9b552afd"
      },
      "source": [
        "def alphabet_soup(str):\n",
        "  string = (sorted(str))\n",
        "  string = ''.join(string)\n",
        "  print(string)\n",
        "alphabet_soup(\"hello\")"
      ],
      "execution_count": null,
      "outputs": [
        {
          "output_type": "stream",
          "text": [
            "ehllo\n"
          ],
          "name": "stdout"
        }
      ]
    },
    {
      "cell_type": "code",
      "metadata": {
        "colab": {
          "base_uri": "https://localhost:8080/"
        },
        "id": "xzLkBLQF-OWV",
        "outputId": "bbc3212f-c8cf-4173-8d53-fa701f71fd2b"
      },
      "source": [
        "alphabet_soup(\"edabit\") "
      ],
      "execution_count": null,
      "outputs": [
        {
          "output_type": "stream",
          "text": [
            "abdeit\n"
          ],
          "name": "stdout"
        }
      ]
    },
    {
      "cell_type": "code",
      "metadata": {
        "colab": {
          "base_uri": "https://localhost:8080/"
        },
        "id": "O3xEPT_p_1Uz",
        "outputId": "0eaf2c6a-d67e-40e8-9a98-413276325e4f"
      },
      "source": [
        "alphabet_soup(\"hacker\")"
      ],
      "execution_count": null,
      "outputs": [
        {
          "output_type": "stream",
          "text": [
            "acehkr\n"
          ],
          "name": "stdout"
        }
      ]
    },
    {
      "cell_type": "code",
      "metadata": {
        "colab": {
          "base_uri": "https://localhost:8080/"
        },
        "id": "DnQVxaPF_3GN",
        "outputId": "a9605794-99f6-4245-b102-5f962803a28b"
      },
      "source": [
        "alphabet_soup(\"geek\")\n"
      ],
      "execution_count": null,
      "outputs": [
        {
          "output_type": "stream",
          "text": [
            "eegk\n"
          ],
          "name": "stdout"
        }
      ]
    },
    {
      "cell_type": "code",
      "metadata": {
        "colab": {
          "base_uri": "https://localhost:8080/"
        },
        "id": "VyI5RopU_98S",
        "outputId": "1231cc7a-2263-413a-81b4-723e20ebee5e"
      },
      "source": [
        "alphabet_soup(\"javascript\")"
      ],
      "execution_count": null,
      "outputs": [
        {
          "output_type": "stream",
          "text": [
            "aacijprstv\n"
          ],
          "name": "stdout"
        }
      ]
    },
    {
      "cell_type": "code",
      "metadata": {
        "id": "8M_Oazdr_-d3"
      },
      "source": [
        "Question4\n",
        "Suppose that you invest $10,000 for 10 years at an interest rate of 6% compounded monthly. \n",
        "What will be the value of your investment at the end of the 10 year period?\n",
        "Create a function that accepts the principal p, the term in years t, the interest rate r, and the number of compounding periods per year n. \n",
        "The function returns the value at the end of term rounded to the nearest cent.\n",
        "For the example above:\n",
        "compound_interest(10000, 10, 0.06, 12) ➞ 18193.97\n",
        "Note that the interest rate is given as a decimal and n=12 because with monthly compounding there are 12 periods per year. \n",
        "Compounding can also be done annually, quarterly, weekly, or daily.\n",
        "Examples\n",
        "compound_interest(100, 1, 0.05, 1) ➞ 105.0\n",
        "\n",
        "compound_interest(3500, 15, 0.1, 4) ➞ 15399.26\n",
        "\n",
        "compound_interest(100000, 20, 0.15, 365) ➞ 2007316.26"
      ],
      "execution_count": null,
      "outputs": []
    },
    {
      "cell_type": "code",
      "metadata": {
        "colab": {
          "base_uri": "https://localhost:8080/"
        },
        "id": "lOAfn7EBAHf2",
        "outputId": "9eee8b66-be33-4179-f772-4eeac404925a"
      },
      "source": [
        "def compound_interest(p,y,r,n):\n",
        "  compound = p * (pow((1 + r / n), y*n)) \n",
        "  return round(compound,2)\n",
        "\n",
        "compound_interest(10000, 10, 0.06, 12)"
      ],
      "execution_count": null,
      "outputs": [
        {
          "output_type": "execute_result",
          "data": {
            "text/plain": [
              "18193.97"
            ]
          },
          "metadata": {
            "tags": []
          },
          "execution_count": 47
        }
      ]
    },
    {
      "cell_type": "code",
      "metadata": {
        "colab": {
          "base_uri": "https://localhost:8080/"
        },
        "id": "rvcHJiMkBGXL",
        "outputId": "48c7d97d-9149-4e25-d2cc-49e6ed69b4d4"
      },
      "source": [
        "compound_interest(100, 1, 0.05, 1)"
      ],
      "execution_count": null,
      "outputs": [
        {
          "output_type": "execute_result",
          "data": {
            "text/plain": [
              "105.0"
            ]
          },
          "metadata": {
            "tags": []
          },
          "execution_count": 49
        }
      ]
    },
    {
      "cell_type": "code",
      "metadata": {
        "colab": {
          "base_uri": "https://localhost:8080/"
        },
        "id": "9bdUgQdlDKiV",
        "outputId": "53059127-38db-4b96-f245-bddba92f079b"
      },
      "source": [
        "compound_interest(3500, 15, 0.1, 4)"
      ],
      "execution_count": null,
      "outputs": [
        {
          "output_type": "execute_result",
          "data": {
            "text/plain": [
              "15399.26"
            ]
          },
          "metadata": {
            "tags": []
          },
          "execution_count": 48
        }
      ]
    },
    {
      "cell_type": "code",
      "metadata": {
        "colab": {
          "base_uri": "https://localhost:8080/"
        },
        "id": "MwzjiFO1Br5u",
        "outputId": "bcb5319c-09bd-4e75-df93-2aeff3fdf0fb"
      },
      "source": [
        "compound_interest(100000, 20, 0.15, 365)"
      ],
      "execution_count": null,
      "outputs": [
        {
          "output_type": "execute_result",
          "data": {
            "text/plain": [
              "2007316.26"
            ]
          },
          "metadata": {
            "tags": []
          },
          "execution_count": 50
        }
      ]
    },
    {
      "cell_type": "code",
      "metadata": {
        "id": "Q24n6jiLDOfT"
      },
      "source": [
        "Question5\n",
        "Write a function that takes a list of elements and returns only the integers.\n",
        "Examples\n",
        "return_only_integer([9, 2, \"space\", \"car\", \"lion\", 16]) ➞ [9, 2, 16]\n",
        "\n",
        "return_only_integer([\"hello\", 81, \"basketball\", 123, \"fox\"]) ➞ [81, 123]\n",
        "\n",
        "return_only_integer([10, \"121\", 56, 20, \"car\", 3, \"lion\"]) ➞ [10, 56, 20, 3]\n",
        "\n",
        "return_only_integer([\"String\",  True,  3.3,  1]) ➞ [1]"
      ],
      "execution_count": null,
      "outputs": []
    },
    {
      "cell_type": "code",
      "metadata": {
        "colab": {
          "base_uri": "https://localhost:8080/"
        },
        "id": "1Y8Er1c0DUlR",
        "outputId": "eab3a248-7c89-4b9e-d30c-9391c6d293e2"
      },
      "source": [
        "def return_only_integer(l):\n",
        "  l2=[]\n",
        "  for i in l:\n",
        "    if type(i) == int :\n",
        "      l2.append(i)\n",
        "  return l2\n",
        "return_only_integer([9, 2, \"space\", \"car\", \"lion\", 16])"
      ],
      "execution_count": null,
      "outputs": [
        {
          "output_type": "execute_result",
          "data": {
            "text/plain": [
              "[9, 2, 16]"
            ]
          },
          "metadata": {
            "tags": []
          },
          "execution_count": 62
        }
      ]
    },
    {
      "cell_type": "code",
      "metadata": {
        "colab": {
          "base_uri": "https://localhost:8080/"
        },
        "id": "rywDRYJ4DYrB",
        "outputId": "3939e961-b2b9-439d-d0b6-a034d278bed1"
      },
      "source": [
        "return_only_integer([\"hello\", 81, \"basketball\", 123, \"fox\"])"
      ],
      "execution_count": null,
      "outputs": [
        {
          "output_type": "execute_result",
          "data": {
            "text/plain": [
              "[81, 123]"
            ]
          },
          "metadata": {
            "tags": []
          },
          "execution_count": 63
        }
      ]
    },
    {
      "cell_type": "code",
      "metadata": {
        "colab": {
          "base_uri": "https://localhost:8080/"
        },
        "id": "rI9dm1bYD5zp",
        "outputId": "1bdddafd-5295-45f4-a4b0-97c7c107bfa1"
      },
      "source": [
        "return_only_integer([10, \"121\", 56, 20, \"car\", 3, \"lion\"])"
      ],
      "execution_count": null,
      "outputs": [
        {
          "output_type": "execute_result",
          "data": {
            "text/plain": [
              "[10, 56, 20, 3]"
            ]
          },
          "metadata": {
            "tags": []
          },
          "execution_count": 64
        }
      ]
    },
    {
      "cell_type": "code",
      "metadata": {
        "colab": {
          "base_uri": "https://localhost:8080/"
        },
        "id": "t3-mZpERE7pD",
        "outputId": "e2943729-8197-449f-8444-95cbd85106d9"
      },
      "source": [
        "return_only_integer([\"String\",  True,  3.3,  1])"
      ],
      "execution_count": null,
      "outputs": [
        {
          "output_type": "execute_result",
          "data": {
            "text/plain": [
              "[1]"
            ]
          },
          "metadata": {
            "tags": []
          },
          "execution_count": 65
        }
      ]
    }
  ]
}