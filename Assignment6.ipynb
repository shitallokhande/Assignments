{
  "nbformat": 4,
  "nbformat_minor": 0,
  "metadata": {
    "colab": {
      "name": "Untitled17.ipynb",
      "provenance": []
    },
    "kernelspec": {
      "name": "python3",
      "display_name": "Python 3"
    },
    "language_info": {
      "name": "python"
    }
  },
  "cells": [
    {
      "cell_type": "markdown",
      "metadata": {
        "id": "jL0tm6c6W3_p"
      },
      "source": [
        "Assignment No. 6"
      ]
    },
    {
      "cell_type": "code",
      "metadata": {
        "id": "LveiGgODW_Qc"
      },
      "source": [
        "1. What are escape characters, and how do you use them?\n",
        "\n",
        "To insert characters that are illegal in a string, use an escape character.An escape character is a backslash \\ followed by the character you want to insert."
      ],
      "execution_count": null,
      "outputs": []
    },
    {
      "cell_type": "code",
      "metadata": {
        "id": "gBCxKVg0XRGO"
      },
      "source": [
        "2. What do the escape characters n and t stand for?\n",
        "\n",
        "\\n stands for new line and \\t stands for tab."
      ],
      "execution_count": null,
      "outputs": []
    },
    {
      "cell_type": "code",
      "metadata": {
        "colab": {
          "base_uri": "https://localhost:8080/"
        },
        "id": "FpOvBV_JXims",
        "outputId": "c5539650-3ac7-4721-8e8f-7be4d0e73e1c"
      },
      "source": [
        "txt = \"Hello\\nWorld!\"\n",
        "print(txt) "
      ],
      "execution_count": 1,
      "outputs": [
        {
          "output_type": "stream",
          "text": [
            "Hello\n",
            "World!\n"
          ],
          "name": "stdout"
        }
      ]
    },
    {
      "cell_type": "code",
      "metadata": {
        "colab": {
          "base_uri": "https://localhost:8080/"
        },
        "id": "nVCN7M72XiqE",
        "outputId": "3d43f53f-969c-4478-ba4d-92585fdd6031"
      },
      "source": [
        "txt = \"Hello\\tWorld!\"\n",
        "print(txt) "
      ],
      "execution_count": 2,
      "outputs": [
        {
          "output_type": "stream",
          "text": [
            "Hello\tWorld!\n"
          ],
          "name": "stdout"
        }
      ]
    },
    {
      "cell_type": "code",
      "metadata": {
        "colab": {
          "base_uri": "https://localhost:8080/"
        },
        "id": "7Izwl3PLXnzz",
        "outputId": "1cd68698-67a4-4087-fa07-3e7ba8f37da1"
      },
      "source": [
        "#3. What is the way to include backslash characters in a string?\n",
        "\n",
        "txt = \"This will insert one \\\\ (backslash).\"\n",
        "print(txt) "
      ],
      "execution_count": 4,
      "outputs": [
        {
          "output_type": "stream",
          "text": [
            "This will insert one \\ (backslash).\n"
          ],
          "name": "stdout"
        }
      ]
    },
    {
      "cell_type": "code",
      "metadata": {
        "id": "GEC4dQcmX55H"
      },
      "source": [
        "4. The string \"Howl's Moving Castle\" is a correct value. Why isn't the single quote character in the word Howl's not escaped a problem?\n",
        "\n",
        "The single quote in Howl's is fine because you've used double quotes to mark the beginning and end of the string."
      ],
      "execution_count": null,
      "outputs": []
    },
    {
      "cell_type": "code",
      "metadata": {
        "colab": {
          "base_uri": "https://localhost:8080/"
        },
        "id": "BNDVRKUXYSRB",
        "outputId": "5897ed54-c971-4bf4-90d0-dfe6bc91384c"
      },
      "source": [
        "print(\"Howl's Moving Castle\")"
      ],
      "execution_count": 5,
      "outputs": [
        {
          "output_type": "stream",
          "text": [
            "Howl's Moving Castle\n"
          ],
          "name": "stdout"
        }
      ]
    },
    {
      "cell_type": "code",
      "metadata": {
        "id": "oS60wAStYXYo"
      },
      "source": [
        "5. How do you write a string of newlines if you don't want to use the n character?\n",
        "\n",
        "Multiline strings allow you to use newlines in strings without the \\n escape character."
      ],
      "execution_count": null,
      "outputs": []
    },
    {
      "cell_type": "code",
      "metadata": {
        "colab": {
          "base_uri": "https://localhost:8080/"
        },
        "id": "delqLYoRY1LU",
        "outputId": "a74d52bb-44e4-43e3-ded5-4db6527130f3"
      },
      "source": [
        "a = \"\"\"asjinjcka 0ioncas noixa\n",
        "cbuisaj \n",
        "wqnjxk\n",
        "esc wdcsa cwsa cdcae\"\"\"\n",
        "print(a)"
      ],
      "execution_count": 6,
      "outputs": [
        {
          "output_type": "stream",
          "text": [
            "asjinjcka 0ioncas noixa\n",
            "cbuisaj \n",
            "wqnjxk\n",
            "esc wdcsa cwsa cdcae\n"
          ],
          "name": "stdout"
        }
      ]
    },
    {
      "cell_type": "code",
      "metadata": {
        "id": "uscObNY1Y7Vm"
      },
      "source": [
        "6. What are the values of the given expressions?\n",
        "'Hello, world!'[1]\n",
        "'Hello, world!'[0:5]\n",
        "'Hello, world!'[:5]\n",
        "'Hello, world!'[3:]\n"
      ],
      "execution_count": null,
      "outputs": []
    },
    {
      "cell_type": "code",
      "metadata": {
        "colab": {
          "base_uri": "https://localhost:8080/",
          "height": 35
        },
        "id": "ioOAHqLXZCmy",
        "outputId": "423f8ec3-250f-4a9a-9783-b98ea8608e14"
      },
      "source": [
        "'Hello, world!'[1]"
      ],
      "execution_count": 7,
      "outputs": [
        {
          "output_type": "execute_result",
          "data": {
            "application/vnd.google.colaboratory.intrinsic+json": {
              "type": "string"
            },
            "text/plain": [
              "'e'"
            ]
          },
          "metadata": {
            "tags": []
          },
          "execution_count": 7
        }
      ]
    },
    {
      "cell_type": "code",
      "metadata": {
        "colab": {
          "base_uri": "https://localhost:8080/",
          "height": 35
        },
        "id": "lSIDrA40ZC-J",
        "outputId": "055343f2-97b1-4b45-eb26-f4ddbc1d81ea"
      },
      "source": [
        "'Hello, world!'[0:5]"
      ],
      "execution_count": 8,
      "outputs": [
        {
          "output_type": "execute_result",
          "data": {
            "application/vnd.google.colaboratory.intrinsic+json": {
              "type": "string"
            },
            "text/plain": [
              "'Hello'"
            ]
          },
          "metadata": {
            "tags": []
          },
          "execution_count": 8
        }
      ]
    },
    {
      "cell_type": "code",
      "metadata": {
        "colab": {
          "base_uri": "https://localhost:8080/",
          "height": 35
        },
        "id": "TkoR5kzjZFO_",
        "outputId": "1d1455f5-4acd-4506-834e-2095192a26a9"
      },
      "source": [
        "'Hello, world!'[:5]"
      ],
      "execution_count": 9,
      "outputs": [
        {
          "output_type": "execute_result",
          "data": {
            "application/vnd.google.colaboratory.intrinsic+json": {
              "type": "string"
            },
            "text/plain": [
              "'Hello'"
            ]
          },
          "metadata": {
            "tags": []
          },
          "execution_count": 9
        }
      ]
    },
    {
      "cell_type": "code",
      "metadata": {
        "colab": {
          "base_uri": "https://localhost:8080/",
          "height": 35
        },
        "id": "7JqkVzYmZH1Z",
        "outputId": "85fe712e-b840-475c-e36a-517ae1e71093"
      },
      "source": [
        "'Hello, world!'[3:]"
      ],
      "execution_count": 10,
      "outputs": [
        {
          "output_type": "execute_result",
          "data": {
            "application/vnd.google.colaboratory.intrinsic+json": {
              "type": "string"
            },
            "text/plain": [
              "'lo, world!'"
            ]
          },
          "metadata": {
            "tags": []
          },
          "execution_count": 10
        }
      ]
    },
    {
      "cell_type": "code",
      "metadata": {
        "id": "Gp-0B9ojZKOE"
      },
      "source": [
        "7. What are the values of the following expressions?\n",
        "'Hello'.upper()\n",
        "'Hello'.upper().isupper()\n",
        "'Hello'.upper().lower()\n"
      ],
      "execution_count": null,
      "outputs": []
    },
    {
      "cell_type": "code",
      "metadata": {
        "colab": {
          "base_uri": "https://localhost:8080/",
          "height": 35
        },
        "id": "3jHiTdo1ZUnA",
        "outputId": "d0a21021-0041-40d1-f7d6-86293b8578d8"
      },
      "source": [
        "'Hello'.upper()"
      ],
      "execution_count": 11,
      "outputs": [
        {
          "output_type": "execute_result",
          "data": {
            "application/vnd.google.colaboratory.intrinsic+json": {
              "type": "string"
            },
            "text/plain": [
              "'HELLO'"
            ]
          },
          "metadata": {
            "tags": []
          },
          "execution_count": 11
        }
      ]
    },
    {
      "cell_type": "code",
      "metadata": {
        "colab": {
          "base_uri": "https://localhost:8080/"
        },
        "id": "cIGp5wF5ZUqN",
        "outputId": "63e80147-959d-4dc4-cbe6-ae6bcaff5b5c"
      },
      "source": [
        "'Hello'.upper().isupper()"
      ],
      "execution_count": 12,
      "outputs": [
        {
          "output_type": "execute_result",
          "data": {
            "text/plain": [
              "True"
            ]
          },
          "metadata": {
            "tags": []
          },
          "execution_count": 12
        }
      ]
    },
    {
      "cell_type": "code",
      "metadata": {
        "colab": {
          "base_uri": "https://localhost:8080/",
          "height": 35
        },
        "id": "Ra45vcgJZUts",
        "outputId": "210dafe4-86c4-4179-da7f-da56404c3476"
      },
      "source": [
        "'Hello'.upper().lower()"
      ],
      "execution_count": 13,
      "outputs": [
        {
          "output_type": "execute_result",
          "data": {
            "application/vnd.google.colaboratory.intrinsic+json": {
              "type": "string"
            },
            "text/plain": [
              "'hello'"
            ]
          },
          "metadata": {
            "tags": []
          },
          "execution_count": 13
        }
      ]
    },
    {
      "cell_type": "code",
      "metadata": {
        "id": "xFfYK5AhZaMM"
      },
      "source": [
        "8. What are the values of the following expressions?\n",
        "'Remember, remember, the fifth of July.'.split()\n",
        "'-'.join('There can only one.'.split())\n"
      ],
      "execution_count": null,
      "outputs": []
    },
    {
      "cell_type": "code",
      "metadata": {
        "colab": {
          "base_uri": "https://localhost:8080/"
        },
        "id": "HQPrCAWbaYjR",
        "outputId": "db25e4c6-5bb0-4468-a51f-47e646b9fec5"
      },
      "source": [
        "'Remember, remember, the fifth of July.'.split()"
      ],
      "execution_count": 15,
      "outputs": [
        {
          "output_type": "execute_result",
          "data": {
            "text/plain": [
              "['Remember,', 'remember,', 'the', 'fifth', 'of', 'July.']"
            ]
          },
          "metadata": {
            "tags": []
          },
          "execution_count": 15
        }
      ]
    },
    {
      "cell_type": "code",
      "metadata": {
        "colab": {
          "base_uri": "https://localhost:8080/",
          "height": 35
        },
        "id": "zbGPxRbXaj5B",
        "outputId": "0ebd76de-31c6-416b-d53b-a36fc628d313"
      },
      "source": [
        "'-'.join('There can only one.'.split())"
      ],
      "execution_count": 16,
      "outputs": [
        {
          "output_type": "execute_result",
          "data": {
            "application/vnd.google.colaboratory.intrinsic+json": {
              "type": "string"
            },
            "text/plain": [
              "'There-can-only-one.'"
            ]
          },
          "metadata": {
            "tags": []
          },
          "execution_count": 16
        }
      ]
    },
    {
      "cell_type": "code",
      "metadata": {
        "id": "KEcf1d52akKs"
      },
      "source": [
        "9. What are the methods for right-justifying, left-justifying, and centering a string?\n",
        "\n",
        "The rjust(), ljust(), and center() string methods respectively"
      ],
      "execution_count": null,
      "outputs": []
    },
    {
      "cell_type": "code",
      "metadata": {
        "id": "ypsZlwYxa0cc"
      },
      "source": [
        "10. What is the best way to remove whitespace characters from the start or end?\n",
        "\n",
        "The lstrip() and rstrip() methods "
      ],
      "execution_count": null,
      "outputs": []
    }
  ]
}