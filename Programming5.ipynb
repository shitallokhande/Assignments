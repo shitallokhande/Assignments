{
  "nbformat": 4,
  "nbformat_minor": 0,
  "metadata": {
    "colab": {
      "name": "Untitled7.ipynb",
      "provenance": []
    },
    "kernelspec": {
      "name": "python3",
      "display_name": "Python 3"
    },
    "language_info": {
      "name": "python"
    }
  },
  "cells": [
    {
      "cell_type": "markdown",
      "metadata": {
        "id": "FLi3dSQmKp_q"
      },
      "source": [
        "Programming Assignment 5"
      ]
    },
    {
      "cell_type": "code",
      "metadata": {
        "colab": {
          "base_uri": "https://localhost:8080/"
        },
        "id": "tvjgP9mvKuYu",
        "outputId": "35ed42d3-cca5-463a-b530-692f03a0c04d"
      },
      "source": [
        "#Q.1. Write a Python Program to Find LCM?\n",
        "\n",
        "# Python Program to find the L.C.M. of two input number\n",
        "\n",
        "def lcm(x, y):\n",
        "   if x > y:\n",
        "       greater = x\n",
        "   else:\n",
        "       greater = y\n",
        "\n",
        "   while(True):\n",
        "       if((greater % x == 0) and (greater % y == 0)):\n",
        "           lcm = greater\n",
        "           break\n",
        "       greater += 1\n",
        "\n",
        "   return lcm\n",
        "\n",
        "num1 = int(input('Enter number 1 '))\n",
        "num2 = int(input('Enter number 2 '))\n",
        "\n",
        "print(\"The L.C.M. is\", lcm(num1, num2))"
      ],
      "execution_count": 3,
      "outputs": [
        {
          "output_type": "stream",
          "text": [
            "Enter number 1 11\n",
            "Enter number 2 21\n",
            "The L.C.M. is 231\n"
          ],
          "name": "stdout"
        }
      ]
    },
    {
      "cell_type": "code",
      "metadata": {
        "colab": {
          "base_uri": "https://localhost:8080/"
        },
        "id": "yNp8Zk2ULpYo",
        "outputId": "c279dfc6-d5a0-4171-813e-9cdb4a277f89"
      },
      "source": [
        "#Q.2. Write a Python Program to Find HCF?\n",
        "\n",
        "def hcf(x, y):\n",
        "\n",
        "    if x > y:\n",
        "        smaller = y\n",
        "    else:\n",
        "        smaller = x\n",
        "    for i in range(1, smaller+1):\n",
        "        if((x % i == 0) and (y % i == 0)):\n",
        "            hcf = i \n",
        "    return hcf\n",
        "\n",
        "num1 = int(input('Enter number 1 '))\n",
        "num2 = int(input('Enter number 2 '))\n",
        "\n",
        "print(\"The H.C.F. is\", hcf(num1, num2))"
      ],
      "execution_count": 4,
      "outputs": [
        {
          "output_type": "stream",
          "text": [
            "Enter number 1 230\n",
            "Enter number 2 110\n",
            "The H.C.F. is 10\n"
          ],
          "name": "stdout"
        }
      ]
    },
    {
      "cell_type": "code",
      "metadata": {
        "colab": {
          "base_uri": "https://localhost:8080/"
        },
        "id": "IzAF2QYUMc-V",
        "outputId": "fd1c4556-1523-4f4f-81e4-0d378ec38bc2"
      },
      "source": [
        "#Q.3. Write a Python Program to Convert Decimal to Binary, Octal and Hexadecimal?\n",
        "\n",
        "data = 53\n",
        "\n",
        "print(bin(data), 'In decimal')\n",
        "\n",
        "print(oct(data),'In Octal')\n",
        "\n",
        "print(hex(data),'In hexadecimal')"
      ],
      "execution_count": 16,
      "outputs": [
        {
          "output_type": "stream",
          "text": [
            "0b110101 In decimal\n",
            "0o65 In Octal\n",
            "0x35 In hexadecimal\n"
          ],
          "name": "stdout"
        }
      ]
    },
    {
      "cell_type": "code",
      "metadata": {
        "colab": {
          "base_uri": "https://localhost:8080/"
        },
        "id": "U1IhVN_LNINL",
        "outputId": "87f5cf80-db88-4e2e-c582-46fc456ffb7b"
      },
      "source": [
        "#Q.4. Write a Python Program To Find ASCII value of a character?\n",
        "\n",
        "data = 'e'\n",
        "print(\"The ASCII value of '\" + data + \"' is\", ord(data))"
      ],
      "execution_count": 20,
      "outputs": [
        {
          "output_type": "stream",
          "text": [
            "The ASCII value of 'e' is 101\n"
          ],
          "name": "stdout"
        }
      ]
    },
    {
      "cell_type": "code",
      "metadata": {
        "colab": {
          "base_uri": "https://localhost:8080/",
          "height": 322
        },
        "id": "WQ34WwJyOoYK",
        "outputId": "95a11bc1-45b9-4ac7-dfd6-87e57f2694d5"
      },
      "source": [
        "#Q.5. Write a Python Program to Make a Simple Calculator with 4 basic mathematical operations?\n",
        "\n",
        "\n",
        "def add(x, y):\n",
        "    return x + y\n",
        "\n",
        "def subtract(x, y):\n",
        "    return x - y\n",
        "\n",
        "def multiply(x, y):\n",
        "    return x * y\n",
        "\n",
        "def divide(x, y):\n",
        "    return x / y\n",
        "\n",
        "\n",
        "print(\"Select operation.\")\n",
        "print(\"1.Add\")\n",
        "print(\"2.Subtract\")\n",
        "print(\"3.Multiply\")\n",
        "print(\"4.Divide\")\n",
        "\n",
        "choice = input(\"Enter choice(1/2/3/4):\")\n",
        "  \n",
        "num1 = int(input(\"Enter first number: \"))  \n",
        "num2 = int(input(\"Enter second number: \"))  \n",
        "  \n",
        "if choice == '1':  \n",
        "   print(num1,\"+\",num2,\"=\", add(num1,num2))  \n",
        "  \n",
        "elif choice == '2':  \n",
        "   print(num1,\"-\",num2,\"=\", subtract(num1,num2))  \n",
        "  \n",
        "elif choice == '3':  \n",
        "   print(num1,\"*\",num2,\"=\", multiply(num1,num2))  \n",
        "elif choice == '4':  \n",
        "   print(num1,\"/\",num2,\"=\", divide(num1,num2))  \n",
        "else:  \n",
        "   print(\"Invalid input\")  \n"
      ],
      "execution_count": 40,
      "outputs": [
        {
          "output_type": "stream",
          "text": [
            "Select operation.\n",
            "1.Add\n",
            "2.Subtract\n",
            "3.Multiply\n",
            "4.Divide\n"
          ],
          "name": "stdout"
        },
        {
          "output_type": "error",
          "ename": "TypeError",
          "evalue": "ignored",
          "traceback": [
            "\u001b[0;31m---------------------------------------------------------------------------\u001b[0m",
            "\u001b[0;31mTypeError\u001b[0m                                 Traceback (most recent call last)",
            "\u001b[0;32m<ipython-input-40-ce72b511a925>\u001b[0m in \u001b[0;36m<module>\u001b[0;34m()\u001b[0m\n\u001b[1;32m     21\u001b[0m \u001b[0mprint\u001b[0m\u001b[0;34m(\u001b[0m\u001b[0;34m\"4.Divide\"\u001b[0m\u001b[0;34m)\u001b[0m\u001b[0;34m\u001b[0m\u001b[0;34m\u001b[0m\u001b[0m\n\u001b[1;32m     22\u001b[0m \u001b[0;34m\u001b[0m\u001b[0m\n\u001b[0;32m---> 23\u001b[0;31m \u001b[0mchoice\u001b[0m \u001b[0;34m=\u001b[0m \u001b[0minput\u001b[0m\u001b[0;34m(\u001b[0m\u001b[0;34m\"Enter choice(1/2/3/4):\"\u001b[0m\u001b[0;34m)\u001b[0m\u001b[0;34m\u001b[0m\u001b[0;34m\u001b[0m\u001b[0m\n\u001b[0m\u001b[1;32m     24\u001b[0m \u001b[0;34m\u001b[0m\u001b[0m\n\u001b[1;32m     25\u001b[0m \u001b[0mnum1\u001b[0m \u001b[0;34m=\u001b[0m \u001b[0mint\u001b[0m\u001b[0;34m(\u001b[0m\u001b[0minput\u001b[0m\u001b[0;34m(\u001b[0m\u001b[0;34m\"Enter first number: \"\u001b[0m\u001b[0;34m)\u001b[0m\u001b[0;34m)\u001b[0m\u001b[0;34m\u001b[0m\u001b[0;34m\u001b[0m\u001b[0m\n",
            "\u001b[0;31mTypeError\u001b[0m: 'int' object is not callable"
          ]
        }
      ]
    },
    {
      "cell_type": "code",
      "metadata": {
        "id": "RetOYFROPfui"
      },
      "source": [
        ""
      ],
      "execution_count": null,
      "outputs": []
    }
  ]
}