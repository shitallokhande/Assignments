{
  "nbformat": 4,
  "nbformat_minor": 0,
  "metadata": {
    "colab": {
      "name": "Untitled35.ipynb",
      "provenance": []
    },
    "kernelspec": {
      "name": "python3",
      "display_name": "Python 3"
    },
    "language_info": {
      "name": "python"
    }
  },
  "cells": [
    {
      "cell_type": "markdown",
      "metadata": {
        "id": "7rgq7cnufSdd"
      },
      "source": [
        "Programming Assignment No. 16"
      ]
    },
    {
      "cell_type": "code",
      "metadata": {
        "id": "2AnqLdFHfXNI"
      },
      "source": [
        "Question1. Write a function that stutters a word as if someone is struggling to read it. The first two letters are repeated twice with an ellipsis ... and space after each, and then the word is pronounced with a question mark ?.\n",
        "Examples\n",
        "stutter(\"incredible\") ➞ \"in... in... incredible?\"\n",
        "\n",
        "stutter(\"enthusiastic\") ➞ \"en... en... enthusiastic?\"\n",
        "\n",
        "stutter(\"outstanding\") ➞ \"ou... ou... outstanding?\"\n",
        "\n",
        "Hint :- Assume all input is in lower case and at least two characters long."
      ],
      "execution_count": null,
      "outputs": []
    },
    {
      "cell_type": "code",
      "metadata": {
        "colab": {
          "base_uri": "https://localhost:8080/"
        },
        "id": "pPn_vOt5fYe6",
        "outputId": "99fb5d4d-8ea3-4150-e6e3-4d36a9ea2b04"
      },
      "source": [
        "def stutter(data) : \n",
        "  word = data[:2]\n",
        "  print(word,\"... \",word,\"... \",data,\"?\")\n",
        "\n",
        "stutter(\"Incredible\")"
      ],
      "execution_count": 55,
      "outputs": [
        {
          "output_type": "stream",
          "text": [
            "In ...  In ...  Incredible ?\n"
          ],
          "name": "stdout"
        }
      ]
    },
    {
      "cell_type": "code",
      "metadata": {
        "colab": {
          "base_uri": "https://localhost:8080/"
        },
        "id": "ihWOLFUNsN2i",
        "outputId": "c090398f-9c7e-47d3-8a35-3073080ed7f1"
      },
      "source": [
        "stutter(\"enthusiastic\")"
      ],
      "execution_count": 56,
      "outputs": [
        {
          "output_type": "stream",
          "text": [
            "en ...  en ...  enthusiastic ?\n"
          ],
          "name": "stdout"
        }
      ]
    },
    {
      "cell_type": "code",
      "metadata": {
        "colab": {
          "base_uri": "https://localhost:8080/"
        },
        "id": "qEGc9TfrsN9O",
        "outputId": "8b9802c2-0825-4c48-8ade-aac221e806b1"
      },
      "source": [
        "stutter(\"outstanding\")"
      ],
      "execution_count": 57,
      "outputs": [
        {
          "output_type": "stream",
          "text": [
            "ou ...  ou ...  outstanding ?\n"
          ],
          "name": "stdout"
        }
      ]
    },
    {
      "cell_type": "code",
      "metadata": {
        "id": "q1seG2xHgwQS"
      },
      "source": [
        "Question 2.Create a function that takes an angle in radians and returns the corresponding angle in degrees rounded to one decimal place.\n",
        "Examples\n",
        "radians_to_degrees(1) ➞ 57.3\n",
        "\n",
        "radians_to_degrees(20) ➞ 1145.9\n",
        "\n",
        "radians_to_degrees(50) ➞ 2864.8"
      ],
      "execution_count": null,
      "outputs": []
    },
    {
      "cell_type": "code",
      "metadata": {
        "colab": {
          "base_uri": "https://localhost:8080/"
        },
        "id": "Ke0Q-8cdjoGU",
        "outputId": "49c74833-a352-4c27-dab6-feec1a3e102a"
      },
      "source": [
        "def radians_to_degrees(rad):\n",
        " pi=22/7\n",
        " degree = rad*(180/pi)\n",
        " print(round(degree,1))\n",
        "\n",
        "radians_to_degrees(1)\n"
      ],
      "execution_count": 50,
      "outputs": [
        {
          "output_type": "stream",
          "text": [
            "57.3\n"
          ],
          "name": "stdout"
        }
      ]
    },
    {
      "cell_type": "code",
      "metadata": {
        "colab": {
          "base_uri": "https://localhost:8080/"
        },
        "id": "1ka7ymkQqidW",
        "outputId": "18a54912-6bce-42c6-b1a3-72c81d70b461"
      },
      "source": [
        "radians_to_degrees(20)"
      ],
      "execution_count": 52,
      "outputs": [
        {
          "output_type": "stream",
          "text": [
            "1145.5\n"
          ],
          "name": "stdout"
        }
      ]
    },
    {
      "cell_type": "code",
      "metadata": {
        "colab": {
          "base_uri": "https://localhost:8080/"
        },
        "id": "rAEM_90Zqigt",
        "outputId": "8c3865b5-95a7-4ac4-f9f4-5c514b7964c6"
      },
      "source": [
        "radians_to_degrees(50)"
      ],
      "execution_count": 54,
      "outputs": [
        {
          "output_type": "stream",
          "text": [
            "2863.6\n"
          ],
          "name": "stdout"
        }
      ]
    },
    {
      "cell_type": "code",
      "metadata": {
        "id": "l1L0MCzRiQfj"
      },
      "source": [
        "Question 3. In this challenge, establish if a given integer num is a Curzon number. If 1 plus 2 elevated to num is exactly divisible by 1 plus 2 multiplied by num, then num is a Curzon number.\n",
        "Given a non-negative integer num, implement a function that returns True if num is a Curzon number, or False otherwise.\n",
        "Examples\n",
        "is_curzon(5) ➞ True\n",
        "# 2 ** 5 + 1 = 33\n",
        "# 2 * 5 + 1 = 11\n",
        "# 33 is a multiple of 11\n",
        "\n",
        "is_curzon(10) ➞ False\n",
        "# 2 ** 10 + 1 = 1025\n",
        "# 2 * 10 + 1 = 21\n",
        "# 1025 is not a multiple of 21\n",
        "\n",
        "is_curzon(14) ➞ True\n",
        "# 2 ** 14 + 1 = 16385\n",
        "# 2 * 14 + 1 = 29\n",
        "# 16385 is a multiple of 29"
      ],
      "execution_count": null,
      "outputs": []
    },
    {
      "cell_type": "code",
      "metadata": {
        "colab": {
          "base_uri": "https://localhost:8080/"
        },
        "id": "WIZsO6apkSas",
        "outputId": "5459389a-2b9e-4672-ca56-c56c016f0f46"
      },
      "source": [
        "def is_curzon(input1):\n",
        " \n",
        "    powerTerm, productTerm = 0, 0\n",
        "    powerTerm = pow(2, input1) + 1\n",
        "    productTerm = 2 * input1 + 1\n",
        "    if (powerTerm % productTerm == 0):\n",
        "        print(\"Yes\")\n",
        "    else:\n",
        "        print(\"No\")\n",
        "input1 = 5\n",
        "is_curzon(input1)\n",
        " \n",
        "input1 = 10\n",
        "is_curzon(input1)\n",
        "\n",
        "input1 = 14\n",
        "is_curzon(input1)"
      ],
      "execution_count": 16,
      "outputs": [
        {
          "output_type": "stream",
          "text": [
            "Yes\n",
            "No\n",
            "Yes\n"
          ],
          "name": "stdout"
        }
      ]
    },
    {
      "cell_type": "code",
      "metadata": {
        "id": "X5hzYBNelVXC"
      },
      "source": [
        "Question 4.Given the side length x find the area of a hexagon.\n",
        " \n",
        "Examples\n",
        "area_of_hexagon(1) ➞ 2.6\n",
        "\n",
        "area_of_hexagon(2) ➞ 10.4\n",
        "\n",
        "area_of_hexagon(3) ➞ 23.4"
      ],
      "execution_count": null,
      "outputs": []
    },
    {
      "cell_type": "code",
      "metadata": {
        "colab": {
          "base_uri": "https://localhost:8080/"
        },
        "id": "2i-wPHdhmIM_",
        "outputId": "0035f114-feb9-4500-b67a-a66e35326a88"
      },
      "source": [
        "import math\n",
        "\n",
        "def area_of_hexagon(side):\n",
        "   area = (3*math.sqrt(3)*(side*side))/2\n",
        "   return area\n",
        "\n",
        "round(area_of_hexagon(1),1)"
      ],
      "execution_count": 37,
      "outputs": [
        {
          "output_type": "execute_result",
          "data": {
            "text/plain": [
              "2.6"
            ]
          },
          "metadata": {
            "tags": []
          },
          "execution_count": 37
        }
      ]
    },
    {
      "cell_type": "code",
      "metadata": {
        "colab": {
          "base_uri": "https://localhost:8080/"
        },
        "id": "Exrz3P-GqYiu",
        "outputId": "1c59a144-98b0-494a-c274-19107a9bf4f2"
      },
      "source": [
        "round(area_of_hexagon(2),1)"
      ],
      "execution_count": 38,
      "outputs": [
        {
          "output_type": "execute_result",
          "data": {
            "text/plain": [
              "10.4"
            ]
          },
          "metadata": {
            "tags": []
          },
          "execution_count": 38
        }
      ]
    },
    {
      "cell_type": "code",
      "metadata": {
        "colab": {
          "base_uri": "https://localhost:8080/"
        },
        "id": "65siQGzrqYpv",
        "outputId": "48395936-fe7f-486b-e748-0d6f5514c6e5"
      },
      "source": [
        "round(area_of_hexagon(3),1)"
      ],
      "execution_count": 39,
      "outputs": [
        {
          "output_type": "execute_result",
          "data": {
            "text/plain": [
              "23.4"
            ]
          },
          "metadata": {
            "tags": []
          },
          "execution_count": 39
        }
      ]
    },
    {
      "cell_type": "code",
      "metadata": {
        "id": "Tg5CiIfMn7Gm"
      },
      "source": [
        "Question 5. Create a function that returns a base-2 (binary) representation of a base-10 (decimal) string number. To convert is simple: ((2) means base-2 and (10) means base-10) 010101001(2) = 1 + 8 + 32 + 128.\n",
        "Going from right to left, the value of the most right bit is 1, now from that every bit to the left will be x2 the value, value of an 8 bit binary numbers are (256, 128, 64, 32, 16, 8, 4, 2, 1).\n",
        "Examples\n",
        "binary(1) ➞ \"1\"\n",
        "# 1*1 = 1\n",
        "\n",
        "binary(5) ➞ \"101\"\n",
        "# 1*1 + 1*4 = 5\n",
        "\n",
        "binary(10) ➞ \"1010\"\n",
        "# 1*2 + 1*8 = 10"
      ],
      "execution_count": null,
      "outputs": []
    },
    {
      "cell_type": "code",
      "metadata": {
        "id": "JHSCTW2wp5BQ"
      },
      "source": [
        "def dec_to_bin(a):\n",
        "  return int(bin(a)[2:])\n",
        "\n",
        "  def dec_to_bin(x):\n",
        "    return int(bin(x)[2:])"
      ],
      "execution_count": 33,
      "outputs": []
    },
    {
      "cell_type": "code",
      "metadata": {
        "colab": {
          "base_uri": "https://localhost:8080/"
        },
        "id": "6ktOWUH4pYNH",
        "outputId": "c2b68ef6-48b8-43be-cd36-eec756de9cbc"
      },
      "source": [
        "dec_to_bin(1)"
      ],
      "execution_count": 34,
      "outputs": [
        {
          "output_type": "execute_result",
          "data": {
            "text/plain": [
              "1"
            ]
          },
          "metadata": {
            "tags": []
          },
          "execution_count": 34
        }
      ]
    },
    {
      "cell_type": "code",
      "metadata": {
        "colab": {
          "base_uri": "https://localhost:8080/"
        },
        "id": "KISd6k5WpqaP",
        "outputId": "cde86aaa-1efa-4cb3-dafd-72050cbe5a43"
      },
      "source": [
        "dec_to_bin(5)"
      ],
      "execution_count": 35,
      "outputs": [
        {
          "output_type": "execute_result",
          "data": {
            "text/plain": [
              "101"
            ]
          },
          "metadata": {
            "tags": []
          },
          "execution_count": 35
        }
      ]
    },
    {
      "cell_type": "code",
      "metadata": {
        "colab": {
          "base_uri": "https://localhost:8080/"
        },
        "id": "uYvOAzxCpsgd",
        "outputId": "87607988-1e47-4086-d23d-77d72837ea1f"
      },
      "source": [
        "dec_to_bin(10)"
      ],
      "execution_count": 36,
      "outputs": [
        {
          "output_type": "execute_result",
          "data": {
            "text/plain": [
              "1010"
            ]
          },
          "metadata": {
            "tags": []
          },
          "execution_count": 36
        }
      ]
    }
  ]
}