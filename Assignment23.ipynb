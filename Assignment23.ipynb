{
  "nbformat": 4,
  "nbformat_minor": 0,
  "metadata": {
    "colab": {
      "name": "Untitled26.ipynb",
      "provenance": []
    },
    "kernelspec": {
      "name": "python3",
      "display_name": "Python 3"
    },
    "language_info": {
      "name": "python"
    }
  },
  "cells": [
    {
      "cell_type": "markdown",
      "metadata": {
        "id": "WHvztxPVTArI"
      },
      "source": [
        "Assignment No. 23\n"
      ]
    },
    {
      "cell_type": "code",
      "metadata": {
        "colab": {
          "base_uri": "https://localhost:8080/"
        },
        "id": "mP-bKC-ETFET",
        "outputId": "193ec873-7251-4eec-989f-6029acea577b"
      },
      "source": [
        "1.\n",
        "\n",
        "def func(a, b=6, c=8):\n",
        " print(a, b, c)\n",
        "func(1, 2)\n",
        "\n",
        "# only 2 values are passed as arguments to func so it overrides the a and b values in the function defination and keeps the c value as it is"
      ],
      "execution_count": 1,
      "outputs": [
        {
          "output_type": "stream",
          "text": [
            "1 2 8\n"
          ],
          "name": "stdout"
        }
      ]
    },
    {
      "cell_type": "code",
      "metadata": {
        "colab": {
          "base_uri": "https://localhost:8080/"
        },
        "id": "_9lcNh2TTFHp",
        "outputId": "fa1b9a9a-79af-4fd7-80f9-64b64f5300d7"
      },
      "source": [
        "2.\n",
        "\n",
        "def func(a, b, c=5):\n",
        " print(a, b, c)\n",
        "func(1, c=3, b=2)\n",
        "\n",
        "#user passed arguments overrides the function defination arguments"
      ],
      "execution_count": 2,
      "outputs": [
        {
          "output_type": "stream",
          "text": [
            "1 2 3\n"
          ],
          "name": "stdout"
        }
      ]
    },
    {
      "cell_type": "code",
      "metadata": {
        "colab": {
          "base_uri": "https://localhost:8080/"
        },
        "id": "zFscuMXXTtv_",
        "outputId": "4c812b4b-dfc3-46c0-c46e-29152f3b9809"
      },
      "source": [
        "3.\n",
        "\n",
        "def func(a, *pargs):\n",
        " print(a, pargs)\n",
        "func(1, 2, 3)\n",
        "\n",
        "#a is treated as a single type, while rest as a args - no. of arguments"
      ],
      "execution_count": 3,
      "outputs": [
        {
          "output_type": "stream",
          "text": [
            "1 (2, 3)\n"
          ],
          "name": "stdout"
        }
      ]
    },
    {
      "cell_type": "code",
      "metadata": {
        "colab": {
          "base_uri": "https://localhost:8080/"
        },
        "id": "h2RI9pBoTfbD",
        "outputId": "2a6a9753-6486-42af-a3fd-0f412c0ad84b"
      },
      "source": [
        "4.\n",
        "\n",
        "def func(a, **kargs):\n",
        " print(a, kargs)\n",
        "func(a=1, c=3, b=2)\n",
        "\n",
        "#1st entry is treated a single datatype while rest as dictationary as in key-value pair"
      ],
      "execution_count": 4,
      "outputs": [
        {
          "output_type": "stream",
          "text": [
            "1 {'c': 3, 'b': 2}\n"
          ],
          "name": "stdout"
        }
      ]
    },
    {
      "cell_type": "code",
      "metadata": {
        "colab": {
          "base_uri": "https://localhost:8080/"
        },
        "id": "y3R-zYaJUUOX",
        "outputId": "266ec125-f517-4aef-a11d-8c8b4b6c0a9e"
      },
      "source": [
        "5.\n",
        "\n",
        "def func(a, b, c=8, d=5): \n",
        " print(a, b, c, d)\n",
        "func(1, *(5, 6))\n"
      ],
      "execution_count": 6,
      "outputs": [
        {
          "output_type": "stream",
          "text": [
            "1 5 6 5\n"
          ],
          "name": "stdout"
        }
      ]
    },
    {
      "cell_type": "code",
      "metadata": {
        "colab": {
          "base_uri": "https://localhost:8080/"
        },
        "id": "rWKEcEM_Uq7K",
        "outputId": "37cd4ad7-065b-4312-f1f3-e507d3bf0455"
      },
      "source": [
        "6.\n",
        "\n",
        "def func(a, b, c): \n",
        "  a = 2; b[0] = 'x'; c['a'] = 'y'\n",
        "l=1; m=[1]; n={'a':0}\n",
        "func(l, m, n)\n",
        "l, m, n\n",
        "\n"
      ],
      "execution_count": 7,
      "outputs": [
        {
          "output_type": "execute_result",
          "data": {
            "text/plain": [
              "(1, ['x'], {'a': 'y'})"
            ]
          },
          "metadata": {
            "tags": []
          },
          "execution_count": 7
        }
      ]
    },
    {
      "cell_type": "code",
      "metadata": {
        "id": "BEe-RtShVVCD"
      },
      "source": [
        ""
      ],
      "execution_count": null,
      "outputs": []
    }
  ]
}