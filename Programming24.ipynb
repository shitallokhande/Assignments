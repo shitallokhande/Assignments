{
  "nbformat": 4,
  "nbformat_minor": 0,
  "metadata": {
    "colab": {
      "name": "Untitled44.ipynb",
      "provenance": [],
      "collapsed_sections": []
    },
    "kernelspec": {
      "name": "python3",
      "display_name": "Python 3"
    },
    "language_info": {
      "name": "python"
    }
  },
  "cells": [
    {
      "cell_type": "markdown",
      "metadata": {
        "id": "z29AXgcnHGsE"
      },
      "source": [
        "Programming Assignment No. 24"
      ]
    },
    {
      "cell_type": "code",
      "metadata": {
        "id": "Ps-AKuEXHLsb"
      },
      "source": [
        "Question1\n",
        "Create a function that takes an integer and returns a list from 1 to the given number, where:\n",
        "1.\tIf the number can be divided evenly by 4, amplify it by 10 (i.e. return 10 times the number).\n",
        "2.\tIf the number cannot be divided evenly by 4, simply return the number.\n",
        "Examples\n",
        "amplify(4) ➞ [1, 2, 3, 40]\n",
        "\n",
        "amplify(3) ➞ [1, 2, 3]\n",
        "\n",
        "amplify(25) ➞ [1, 2, 3, 40, 5, 6, 7, 80, 9, 10, 11, 120, 13, 14, 15, 160, 17, 18, 19, 200, 21, 22, 23, 240, 25]\n",
        "Notes\n",
        "•\tThe given integer will always be equal to or greater than 1.\n",
        "•\tInclude the number (see example above).\n",
        "•\tTo perform this problem with its intended purpose, try doing it with list comprehensions. \n",
        "If that's too difficult, just solve the challenge any way you can."
      ],
      "execution_count": null,
      "outputs": []
    },
    {
      "cell_type": "code",
      "metadata": {
        "colab": {
          "base_uri": "https://localhost:8080/"
        },
        "id": "CbQFx5oIHPMr",
        "outputId": "76394825-0de4-4caf-eb92-3d42437fb463"
      },
      "source": [
        "def amplify(n):\n",
        "  l = []\n",
        "  #l1 = len(l)\n",
        "  l2 = []\n",
        "  if n >= 1 : \n",
        "    for i in range(1,n+1) :\n",
        "      l.append(i)\n",
        "    for i in range(1,n+1):\n",
        "     if i%4==0:\n",
        "      l2.append(i*10)\n",
        "    for i in range(1,n+1):\n",
        "     if i%4==0:\n",
        "      l.remove(i)\n",
        "    print(l+l2)\n",
        "\n",
        "      \n",
        "amplify(4)"
      ],
      "execution_count": 40,
      "outputs": [
        {
          "output_type": "stream",
          "text": [
            "[1, 2, 3, 40]\n"
          ],
          "name": "stdout"
        }
      ]
    },
    {
      "cell_type": "code",
      "metadata": {
        "colab": {
          "base_uri": "https://localhost:8080/"
        },
        "id": "01sds1j2JzWc",
        "outputId": "4a56a064-b6e8-4397-b692-16c58554217a"
      },
      "source": [
        "\n",
        "amplify(3)"
      ],
      "execution_count": 41,
      "outputs": [
        {
          "output_type": "stream",
          "text": [
            "[1, 2, 3]\n"
          ],
          "name": "stdout"
        }
      ]
    },
    {
      "cell_type": "code",
      "metadata": {
        "colab": {
          "base_uri": "https://localhost:8080/"
        },
        "id": "GiUsXzR9Ncc-",
        "outputId": "d0b7a2c8-53d6-4207-eda9-3588bf29b19c"
      },
      "source": [
        "amplify(25)"
      ],
      "execution_count": 42,
      "outputs": [
        {
          "output_type": "stream",
          "text": [
            "[1, 2, 3, 5, 6, 7, 9, 10, 11, 13, 14, 15, 17, 18, 19, 21, 22, 23, 25, 40, 80, 120, 160, 200, 240]\n"
          ],
          "name": "stdout"
        }
      ]
    },
    {
      "cell_type": "code",
      "metadata": {
        "id": "_vgdKqxhNgmC"
      },
      "source": [
        "Question2\n",
        "Create a function that takes a list of numbers and return the number that's unique.\n",
        "Examples\n",
        "unique([3, 3, 3, 7, 3, 3]) ➞ 7\n",
        "\n",
        "unique([0, 0, 0.77, 0, 0]) ➞ 0.77\n",
        "\n",
        "unique([0, 1, 1, 1, 1, 1, 1, 1]) ➞ 0\n",
        "Notes\n",
        "Test cases will always have exactly one unique number while all others are the same."
      ],
      "execution_count": null,
      "outputs": []
    },
    {
      "cell_type": "code",
      "metadata": {
        "colab": {
          "base_uri": "https://localhost:8080/"
        },
        "id": "aL6GfCvROAn9",
        "outputId": "60c0d127-f3cc-4ca3-8920-7141194f1628"
      },
      "source": [
        "from collections import Counter\n",
        "def unique(n):\n",
        " freq = Counter(n)\n",
        " for i in freq:\n",
        "  if(freq[i] == 1):\n",
        "   return i\n",
        "\n",
        "unique([3, 3, 3, 7, 3, 3]) "
      ],
      "execution_count": 87,
      "outputs": [
        {
          "output_type": "execute_result",
          "data": {
            "text/plain": [
              "7"
            ]
          },
          "metadata": {
            "tags": []
          },
          "execution_count": 87
        }
      ]
    },
    {
      "cell_type": "code",
      "metadata": {
        "colab": {
          "base_uri": "https://localhost:8080/"
        },
        "id": "mNt0BYxWXCQb",
        "outputId": "5ba9730e-99ff-492d-c5e5-560f6e7cf296"
      },
      "source": [
        "unique([0, 0, 0.77, 0, 0])"
      ],
      "execution_count": 88,
      "outputs": [
        {
          "output_type": "execute_result",
          "data": {
            "text/plain": [
              "0.77"
            ]
          },
          "metadata": {
            "tags": []
          },
          "execution_count": 88
        }
      ]
    },
    {
      "cell_type": "code",
      "metadata": {
        "colab": {
          "base_uri": "https://localhost:8080/"
        },
        "id": "sddkfRLSOHnp",
        "outputId": "80e18ed7-6cbd-43f4-8307-a368d01d37bd"
      },
      "source": [
        "unique([0, 1, 1, 1, 1, 1, 1, 1])"
      ],
      "execution_count": 89,
      "outputs": [
        {
          "output_type": "execute_result",
          "data": {
            "text/plain": [
              "0"
            ]
          },
          "metadata": {
            "tags": []
          },
          "execution_count": 89
        }
      ]
    },
    {
      "cell_type": "code",
      "metadata": {
        "id": "cJYvATy3Pjja"
      },
      "source": [
        "Question3\n",
        "Your task is to create a Circle constructor that creates a circle with a radius provided by an argument. \n",
        "The circles constructed must have two getters getArea() (PIr^2) and getPerimeter() (2PI*r) which give both respective areas and perimeter (circumference).\n",
        "For help with this class, I have provided you with a Rectangle constructor which you can use as a base example.\n",
        "Examples\n",
        "circy = Circle(11)\n",
        "circy.getArea()\n",
        "\n",
        "# Should return 380.132711084365\n",
        "\n",
        "circy = Circle(4.44)\n",
        "circy.getPerimeter()\n",
        "\n",
        "# Should return 27.897342763877365\n",
        "Notes\n",
        "Round results up to the nearest integer."
      ],
      "execution_count": null,
      "outputs": []
    },
    {
      "cell_type": "code",
      "metadata": {
        "colab": {
          "base_uri": "https://localhost:8080/"
        },
        "id": "bQqLveIGPrLN",
        "outputId": "2e3e3aac-57c1-4503-fc75-74299391b980"
      },
      "source": [
        "class Circle():\n",
        "    def __init__(self, r):\n",
        "        self.radius = r\n",
        "\n",
        "    def Getarea(self):\n",
        "        return self.radius**2*3.14\n",
        "    \n",
        "    def Getperimeter(self):\n",
        "        return 2*self.radius*3.14\n",
        "\n",
        "NewCircle = Circle(11)\n",
        "print(round(NewCircle.Getarea(),2))\n",
        "print(round(NewCircle.Getperimeter(),2))"
      ],
      "execution_count": 54,
      "outputs": [
        {
          "output_type": "stream",
          "text": [
            "379.94\n",
            "69.08\n"
          ],
          "name": "stdout"
        }
      ]
    },
    {
      "cell_type": "code",
      "metadata": {
        "colab": {
          "base_uri": "https://localhost:8080/"
        },
        "id": "Ae9-SjWTP4z2",
        "outputId": "354f22e7-bd7f-455e-f108-8fc50dd925f4"
      },
      "source": [
        "NewCircle = Circle(4)\n",
        "print(round(NewCircle.Getarea(),2))\n",
        "print(round(NewCircle.Getperimeter(),2))"
      ],
      "execution_count": 60,
      "outputs": [
        {
          "output_type": "stream",
          "text": [
            "50.24\n",
            "25.12\n"
          ],
          "name": "stdout"
        }
      ]
    },
    {
      "cell_type": "code",
      "metadata": {
        "id": "je7tskZtQbXO"
      },
      "source": [
        "Question4\n",
        "Create a function that takes a list of strings and return a list, sorted from shortest to longest.\n",
        "Examples\n",
        "sort_by_length([\"Google\", \"Apple\", \"Microsoft\"])\n",
        "➞ [\"Apple\", \"Google\", \"Microsoft\"]\n",
        "\n",
        "sort_by_length([\"Leonardo\", \"Michelangelo\", \"Raphael\", \"Donatello\"])\n",
        "➞ [\"Raphael\", \"Leonardo\", \"Donatello\", \"Michelangelo\"]\n",
        "\n",
        "sort_by_length([\"Turing\", \"Einstein\", \"Jung\"])\n",
        "➞ [\"Jung\", \"Turing\", \"Einstein\"]\n",
        "Notes\n",
        "All test cases contain lists with strings of different lengths, so you won't have to deal with multiple strings of the same length."
      ],
      "execution_count": null,
      "outputs": []
    },
    {
      "cell_type": "code",
      "metadata": {
        "colab": {
          "base_uri": "https://localhost:8080/"
        },
        "id": "qHtb7sH0RaDK",
        "outputId": "c4cf8552-399a-433c-9d26-ba3fc455f66d"
      },
      "source": [
        "def sort_by_length(data):\n",
        "  sorted_data = sorted(data,key=len)\n",
        "  return sorted_data\n",
        "\n",
        "sort_by_length([\"Google\", \"Apple\", \"Microsoft\"])"
      ],
      "execution_count": 61,
      "outputs": [
        {
          "output_type": "execute_result",
          "data": {
            "text/plain": [
              "['Apple', 'Google', 'Microsoft']"
            ]
          },
          "metadata": {
            "tags": []
          },
          "execution_count": 61
        }
      ]
    },
    {
      "cell_type": "code",
      "metadata": {
        "colab": {
          "base_uri": "https://localhost:8080/"
        },
        "id": "AY3iAXDTRxq9",
        "outputId": "fae3d4a6-1f01-4ea0-8d50-8f39f37157c0"
      },
      "source": [
        "sort_by_length([\"Leonardo\", \"Michelangelo\", \"Raphael\", \"Donatello\"])"
      ],
      "execution_count": 62,
      "outputs": [
        {
          "output_type": "execute_result",
          "data": {
            "text/plain": [
              "['Raphael', 'Leonardo', 'Donatello', 'Michelangelo']"
            ]
          },
          "metadata": {
            "tags": []
          },
          "execution_count": 62
        }
      ]
    },
    {
      "cell_type": "code",
      "metadata": {
        "colab": {
          "base_uri": "https://localhost:8080/"
        },
        "id": "cz1o3FSuR06Y",
        "outputId": "eb3abd05-3d4d-45d7-d5bc-f1b909f748c4"
      },
      "source": [
        "sort_by_length([\"Turing\", \"Einstein\", \"Jung\"])"
      ],
      "execution_count": 63,
      "outputs": [
        {
          "output_type": "execute_result",
          "data": {
            "text/plain": [
              "['Jung', 'Turing', 'Einstein']"
            ]
          },
          "metadata": {
            "tags": []
          },
          "execution_count": 63
        }
      ]
    },
    {
      "cell_type": "code",
      "metadata": {
        "id": "yHIZNu2jR39k"
      },
      "source": [
        "Question5\n",
        "Create a function that validates whether three given integers form a Pythagorean triplet. The sum of the squares of the two smallest integers must equal the square of the largest number to be validated.\n",
        "\n",
        "Examples\n",
        "is_triplet(3, 4, 5) ➞ True\n",
        "# 3² + 4² = 25\n",
        "# 5² = 25\n",
        "\n",
        "is_triplet(13, 5, 12) ➞ True\n",
        "# 5² + 12² = 169\n",
        "# 13² = 169\n",
        "\n",
        "is_triplet(1, 2, 3) ➞ False\n",
        "# 1² + 2² = 5\n",
        "# 3² = 9\n",
        "Notes\n",
        "Numbers may not be given in a sorted order"
      ],
      "execution_count": null,
      "outputs": []
    },
    {
      "cell_type": "code",
      "metadata": {
        "colab": {
          "base_uri": "https://localhost:8080/"
        },
        "id": "0CemIWU4SB8-",
        "outputId": "c9eae478-3965-4ace-d819-efd567e87562"
      },
      "source": [
        "def is_triplet(a,b,c):\n",
        " m = max(a,b,c)\n",
        " n = min(a,b,c)\n",
        " l = (a+b+c) -m - n\n",
        " if (n*n + l*l == m*m):\n",
        "  print('True')\n",
        " else :\n",
        "  print('False')\n",
        "is_triplet(3, 4, 5)"
      ],
      "execution_count": 76,
      "outputs": [
        {
          "output_type": "stream",
          "text": [
            "True\n"
          ],
          "name": "stdout"
        }
      ]
    },
    {
      "cell_type": "code",
      "metadata": {
        "colab": {
          "base_uri": "https://localhost:8080/"
        },
        "id": "tKMMGjnDS0Uu",
        "outputId": "664904da-e4fc-4936-fa22-c0f5a2d7a306"
      },
      "source": [
        "is_triplet(13, 5, 12)"
      ],
      "execution_count": 77,
      "outputs": [
        {
          "output_type": "stream",
          "text": [
            "True\n"
          ],
          "name": "stdout"
        }
      ]
    },
    {
      "cell_type": "code",
      "metadata": {
        "colab": {
          "base_uri": "https://localhost:8080/"
        },
        "id": "2ALksWhsT46K",
        "outputId": "c482b23e-4d88-476d-e009-dd05b75628d7"
      },
      "source": [
        "is_triplet(1, 2, 3)"
      ],
      "execution_count": 78,
      "outputs": [
        {
          "output_type": "stream",
          "text": [
            "False\n"
          ],
          "name": "stdout"
        }
      ]
    }
  ]
}