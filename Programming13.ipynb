{
  "nbformat": 4,
  "nbformat_minor": 0,
  "metadata": {
    "colab": {
      "name": "Untitled32.ipynb",
      "provenance": []
    },
    "kernelspec": {
      "name": "python3",
      "display_name": "Python 3"
    },
    "language_info": {
      "name": "python"
    }
  },
  "cells": [
    {
      "cell_type": "markdown",
      "metadata": {
        "id": "4ek8-vxxRfWf"
      },
      "source": [
        "Assignment No. 13"
      ]
    },
    {
      "cell_type": "code",
      "metadata": {
        "id": "JHGMEx0JRizf"
      },
      "source": [
        "Question 1:\n",
        "\n",
        "Write a program that calculates and prints the value according to the given formula:\n",
        "\n",
        "Q = Square root of [(2 * C * D)/H]\n",
        "\n",
        "Following are the fixed values of C and H:\n",
        "\n",
        "C is 50. H is 30.\n",
        "\n",
        "D is the variable whose values should be input to your program in a comma-separated sequence.\n",
        "\n",
        "Example\n",
        "\n",
        "Let us assume the following comma separated input sequence is given to the program:\n",
        "\n",
        "100,150,180\n",
        "\n",
        "The output of the program should be:\n",
        "\n",
        "18,22,24\n"
      ],
      "execution_count": null,
      "outputs": []
    },
    {
      "cell_type": "code",
      "metadata": {
        "colab": {
          "base_uri": "https://localhost:8080/"
        },
        "id": "Icylf8OuRvNV",
        "outputId": "40685a3a-a36f-4862-890b-ada67fb08ade"
      },
      "source": [
        "import math\n",
        "\n",
        "num = input(\"Enter the value of D : \")\n",
        "num = num.split(',')\n",
        "\n",
        "output = []\n",
        "for i in num :\n",
        "  output1 = round(math.sqrt(2*50*int(i)/30))\n",
        "  output.append(output1)\n",
        "print(output)"
      ],
      "execution_count": 4,
      "outputs": [
        {
          "output_type": "stream",
          "text": [
            "Enter the value of D : 100,150,180\n",
            "[18, 22, 24]\n"
          ],
          "name": "stdout"
        }
      ]
    },
    {
      "cell_type": "code",
      "metadata": {
        "id": "45DnUgtXS78F"
      },
      "source": [
        "Question 2:\n",
        "Write a program which takes 2 digits, X,Y as input and generates a 2-dimensional array. The element value in the i-th row \n",
        "and j-th column of the array should be i*j.\n",
        "\n",
        "Note: i=0,1.., X-1; j=0,1,¡¬Y-1.\n",
        "\n",
        "Example\n",
        "\n",
        "Suppose the following inputs are given to the program:\n",
        "\n",
        "3,5\n",
        "\n",
        "Then, the output of the program should be:\n",
        "\n",
        "[[0, 0, 0, 0, 0], [0, 1, 2, 3, 4], [0, 2, 4, 6, 8]] \n"
      ],
      "execution_count": null,
      "outputs": []
    },
    {
      "cell_type": "code",
      "metadata": {
        "colab": {
          "base_uri": "https://localhost:8080/"
        },
        "id": "l-oau0bXTd_d",
        "outputId": "c212b2c4-11dd-4465-c0cb-993491784932"
      },
      "source": [
        "user_input = input(\"Enter values for row and column number: \")\n",
        "rows, cols = user_input.split(\",\")\n",
        "rows = int(rows)\n",
        "cols = int(cols)\n",
        "\n",
        "grid = []\n",
        "for x in range(rows):\n",
        "    row = []\n",
        "    for y in range(cols):\n",
        "        row.append(x * y)\n",
        "    grid.append(row)\n",
        "    print(row)\n",
        "\n",
        "print()\n",
        "print(grid)"
      ],
      "execution_count": 6,
      "outputs": [
        {
          "output_type": "stream",
          "text": [
            "Enter values for row and column number: 3,5\n",
            "[0, 0, 0, 0, 0]\n",
            "[0, 1, 2, 3, 4]\n",
            "[0, 2, 4, 6, 8]\n",
            "\n",
            "[[0, 0, 0, 0, 0], [0, 1, 2, 3, 4], [0, 2, 4, 6, 8]]\n"
          ],
          "name": "stdout"
        }
      ]
    },
    {
      "cell_type": "code",
      "metadata": {
        "id": "H4ZFXK-hT-a4"
      },
      "source": [
        "Question 3:\n",
        "Write a program that accepts a comma separated sequence of words as input and prints the words in a comma-separated sequence after \n",
        "sorting them alphabetically.\n",
        "\n",
        "Suppose the following input is supplied to the program:\n",
        "\n",
        "without,hello,bag,world\n",
        "\n",
        "Then, the output should be:\n",
        "\n",
        "bag,hello,without,world\n"
      ],
      "execution_count": null,
      "outputs": []
    },
    {
      "cell_type": "code",
      "metadata": {
        "colab": {
          "base_uri": "https://localhost:8080/"
        },
        "id": "aoKnpumgUSXy",
        "outputId": "a84a5b60-a243-4fc1-a360-6640f6a954bc"
      },
      "source": [
        "data = input(\"Input comma separated sequence of words\")\n",
        "words = [word for word in data.split(\",\")]\n",
        "print(\",\".join(sorted(list(set(words)))))"
      ],
      "execution_count": 8,
      "outputs": [
        {
          "output_type": "stream",
          "text": [
            "Input comma separated sequence of wordswithout,hello,bag,world\n",
            "bag,hello,without,world\n"
          ],
          "name": "stdout"
        }
      ]
    },
    {
      "cell_type": "code",
      "metadata": {
        "id": "lFbJburIUkGj"
      },
      "source": [
        "Question 4:\n",
        "Write a program that accepts a sequence of whitespace separated words as input and prints the words after removing all\n",
        "duplicate words and sorting them alphanumerically.\n",
        "\n",
        "Suppose the following input is supplied to the program:\n",
        "\n",
        "hello world and practice makes perfect and hello world again\n",
        "\n",
        "Then, the output should be:\n",
        "\n",
        "again and hello makes perfect practice world\n"
      ],
      "execution_count": null,
      "outputs": []
    },
    {
      "cell_type": "code",
      "metadata": {
        "colab": {
          "base_uri": "https://localhost:8080/"
        },
        "id": "2GpQQwSuU15_",
        "outputId": "dca77d42-46c6-4e1b-8ce1-0f7bb8b9a4a2"
      },
      "source": [
        "data = input(\"Enter the input data: \")\n",
        "phrase_splited = data.split(' ')\n",
        "\n",
        "word_list = []\n",
        "for i in phrase_splited:\n",
        "    if i not in word_list:\n",
        "        word_list.append(i)\n",
        "    else:\n",
        "        continue\n",
        "word_list.sort()\n",
        "print((' ').join(word_list))"
      ],
      "execution_count": 10,
      "outputs": [
        {
          "output_type": "stream",
          "text": [
            "Enter the input data: hello world and practice makes perfect and hello world again\n",
            "again and hello makes perfect practice world\n"
          ],
          "name": "stdout"
        }
      ]
    },
    {
      "cell_type": "code",
      "metadata": {
        "id": "Uwd1hJoQVHDR"
      },
      "source": [
        "Question 5:\n",
        "Write a program that accepts a sentence and calculate the number of letters and digits.\n",
        "\n",
        "Suppose the following input is supplied to the program:\n",
        "\n",
        "hello world! 123\n",
        "\n",
        "Then, the output should be:\n",
        "\n",
        "LETTERS 10\n",
        "\n",
        "DIGITS 3"
      ],
      "execution_count": null,
      "outputs": []
    },
    {
      "cell_type": "code",
      "metadata": {
        "colab": {
          "base_uri": "https://localhost:8080/"
        },
        "id": "j8kOBT3mVq7f",
        "outputId": "851c1184-1aff-4618-e421-8a3791b41bfb"
      },
      "source": [
        "data = input(\"Input a string : \")\n",
        "d=l=0\n",
        "for i in data:\n",
        "    if i.isdigit():\n",
        "        d=d+1\n",
        "    elif i.isalpha():\n",
        "        l=l+1\n",
        "    else:\n",
        "        pass\n",
        "print(\"Letters\", l)\n",
        "print(\"Digits\", d)"
      ],
      "execution_count": 14,
      "outputs": [
        {
          "output_type": "stream",
          "text": [
            "Input a string : hello world! 123\n",
            "Letters 10\n",
            "Digits 3\n"
          ],
          "name": "stdout"
        }
      ]
    },
    {
      "cell_type": "code",
      "metadata": {
        "id": "FEyF2RHiWEXM"
      },
      "source": [
        "Question 6:\n",
        "A website requires the users to input username and password to register. Write a program to check the validity of password input by users.\n",
        "\n",
        "Following are the criteria for checking the password:\n",
        "\n",
        "1. At least 1 letter between [a-z]\n",
        "\n",
        "2. At least 1 number between [0-9]\n",
        "\n",
        "1. At least 1 letter between [A-Z]\n",
        "\n",
        "3. At least 1 character from [$#@]\n",
        "\n",
        "4. Minimum length of transaction password: 6\n",
        "\n",
        "5. Maximum length of transaction password: 12\n",
        "\n",
        "Your program should accept a sequence of comma separated passwords and will check them according to the above criteria. \n",
        "Passwords that match the criteria are to be printed, each separated by a comma.\n",
        "\n",
        "Example\n",
        "\n",
        "If the following passwords are given as input to the program:\n",
        "\n",
        "ABd1234@1,a F1#,2w3E*,2We3345\n",
        "\n",
        "Then, the output of the program should be:\n",
        "\n",
        "ABd1234@1\n"
      ],
      "execution_count": null,
      "outputs": []
    },
    {
      "cell_type": "code",
      "metadata": {
        "colab": {
          "base_uri": "https://localhost:8080/"
        },
        "id": "tzU-L5PIWlby",
        "outputId": "43aeeaec-d4f6-4587-e1f1-c7d2603110ce"
      },
      "source": [
        "import re\n",
        "\n",
        "passwords = input(\"Enter the passwords: \")\n",
        "passwords = passwords.split(\",\")\n",
        "\n",
        "accepted = []\n",
        "for i in passwords:\n",
        "    \n",
        "    if len(i) < 6 or len(i) > 12:\n",
        "        continue\n",
        "\n",
        "    elif not re.search(\"([a-z])+\", i):\n",
        "        continue\n",
        "\n",
        "    elif not re.search(\"([A-Z])+\", i):\n",
        "        continue\n",
        "\n",
        "    elif not re.search(\"([0-9])+\", i):\n",
        "        continue\n",
        "\n",
        "    elif not re.search(\"([!@$%^&])+\", i):\n",
        "        continue\n",
        "\n",
        "    else:\n",
        "        accepted.append(i)\n",
        "\n",
        "print(accepted)"
      ],
      "execution_count": 26,
      "outputs": [
        {
          "output_type": "stream",
          "text": [
            "Enter the passwords: ABd1234@1,a F1#,2w3E*,2We3345\n",
            "['ABd1234@1']\n",
            "\n"
          ],
          "name": "stdout"
        }
      ]
    }
  ]
}