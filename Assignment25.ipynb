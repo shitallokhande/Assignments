{
  "nbformat": 4,
  "nbformat_minor": 0,
  "metadata": {
    "colab": {
      "name": "Untitled28.ipynb",
      "provenance": []
    },
    "kernelspec": {
      "name": "python3",
      "display_name": "Python 3"
    },
    "language_info": {
      "name": "python"
    }
  },
  "cells": [
    {
      "cell_type": "markdown",
      "metadata": {
        "id": "AF8R8MT0ARTj"
      },
      "source": [
        "Assignment No. 25"
      ]
    },
    {
      "cell_type": "code",
      "metadata": {
        "id": "riueOjybAVGQ"
      },
      "source": [
        "1.What is the distinction between a numpy array and a pandas data frame? Is there a way to convert between the two if there is?\n",
        "\n",
        "- Dataframe is 2-dimensional heterogonous array.Similar to a SQL table or Spreadsheet.\n",
        "- Object are of homogeneous(same-kind) multidimensional array.\n",
        "- NumPy Array are table of elements all of the same type(usually numbers), indexed by a tuple of positive integers."
      ],
      "execution_count": null,
      "outputs": []
    },
    {
      "cell_type": "code",
      "metadata": {
        "id": "KteZ1_gxDgpu"
      },
      "source": [
        "Q2. What can go wrong when an user enters in a stock-ticker symbol, and how do you handle it?"
      ],
      "execution_count": null,
      "outputs": []
    },
    {
      "cell_type": "code",
      "metadata": {
        "id": "Pw0uuHZPEKq7"
      },
      "source": [
        "3. Identify some of the plotting techniques that are used to produce a stock-market chart.\n",
        "\n",
        "- Matplotlib\n",
        "- Seaborn\n",
        "- Pandas\n",
        "- Bokeh\n",
        "- Plotly"
      ],
      "execution_count": null,
      "outputs": []
    },
    {
      "cell_type": "code",
      "metadata": {
        "id": "bzM6apKIFPJG"
      },
      "source": [
        "Q4. Why is it essential to print a legend on a stock market chart?\n",
        "\n",
        "A legend is an area describing the elements of the graph. \n",
        "In the matplotlib library, there’s a function called legend() which is used to Place a legend on the axes.\n",
        "\n",
        "In stock market it is essential to understand the graph properly."
      ],
      "execution_count": null,
      "outputs": []
    },
    {
      "cell_type": "code",
      "metadata": {
        "id": "YJGYtWWEL3EL"
      },
      "source": [
        "Q5. What is the best way to limit the length of a pandas data frame to less than a year?\n",
        "\n",
        "mask = df['Date'].dt.year == int(year)\n",
        "include = df[mask]\n",
        "exclude = df[~mask]"
      ],
      "execution_count": null,
      "outputs": []
    },
    {
      "cell_type": "code",
      "metadata": {
        "id": "JtwJ3SJtN0iU"
      },
      "source": [
        "\n",
        "Q6. What is the definition of a 180-day moving average?\n",
        "\n",
        "A moving average, also called a rolling or running average, is used to analyze the time-series data by calculating averages of different subsets of the complete dataset. \n",
        "Since it involves taking the average of the dataset over time, it is also called a moving mean (MM) or rolling mean.\n"
      ],
      "execution_count": null,
      "outputs": []
    },
    {
      "cell_type": "code",
      "metadata": {
        "id": "hLxqFnwgOwTC"
      },
      "source": [
        "\n",
        "Q7. Did the chapter's final example use \"indirect\" importing? If so, how exactly do you do it?\n"
      ],
      "execution_count": null,
      "outputs": []
    }
  ]
}