{
 "cells": [
  {
   "cell_type": "markdown",
   "id": "excellent-reward",
   "metadata": {},
   "source": [
    "                                Assignment No. 4 - Basic Python"
   ]
  },
  {
   "cell_type": "markdown",
   "id": "built-lender",
   "metadata": {},
   "source": [
    "Q.1 What exactly is []?\n",
    "\n",
    "[] is empty list. It means a list is initialized.\n",
    "eg. : list1 = []"
   ]
  },
  {
   "cell_type": "code",
   "execution_count": 3,
   "id": "increased-browser",
   "metadata": {},
   "outputs": [
    {
     "data": {
      "text/plain": [
       "[2, 4, 'hello', 8, 10]"
      ]
     },
     "execution_count": 3,
     "metadata": {},
     "output_type": "execute_result"
    }
   ],
   "source": [
    "#Q.2. In a list of values stored in a variable called spam, how would you assign the value 'hello' as the third value? \n",
    "#(Assume [2, 4, 6, 8, 10] are in spam.)\n",
    "\n",
    "spam = [2,4,6,8,10]\n",
    "spam[2]='hello'\n",
    "spam"
   ]
  },
  {
   "cell_type": "code",
   "execution_count": 12,
   "id": "alpine-negotiation",
   "metadata": {},
   "outputs": [
    {
     "data": {
      "text/plain": [
       "'d'"
      ]
     },
     "execution_count": 12,
     "metadata": {},
     "output_type": "execute_result"
    }
   ],
   "source": [
    "#Let's pretend the spam includes the list ['a', 'b', 'c', 'd'] for the next three queries.\n",
    "#Q.3. What is the value of spam[int(int('3' * 2) / 11)]?\n",
    "\n",
    "spam = ['a', 'b', 'c', 'd']\n",
    "spam[int(int('3' * 2) / 11)]         "
   ]
  },
  {
   "cell_type": "code",
   "execution_count": 13,
   "id": "considered-microphone",
   "metadata": {},
   "outputs": [
    {
     "data": {
      "text/plain": [
       "3.0"
      ]
     },
     "execution_count": 13,
     "metadata": {},
     "output_type": "execute_result"
    }
   ],
   "source": [
    "int('3'*2)/11                      #and spam[3] = d"
   ]
  },
  {
   "cell_type": "code",
   "execution_count": 14,
   "id": "upset-waste",
   "metadata": {},
   "outputs": [
    {
     "data": {
      "text/plain": [
       "'d'"
      ]
     },
     "execution_count": 14,
     "metadata": {},
     "output_type": "execute_result"
    }
   ],
   "source": [
    "#Q.4. What is the value of spam[-1]?\n",
    "\n",
    "spam[-1]"
   ]
  },
  {
   "cell_type": "code",
   "execution_count": 15,
   "id": "liberal-inclusion",
   "metadata": {},
   "outputs": [
    {
     "data": {
      "text/plain": [
       "['a', 'b']"
      ]
     },
     "execution_count": 15,
     "metadata": {},
     "output_type": "execute_result"
    }
   ],
   "source": [
    "#Q.5 What is the value of spam[:2]?\n",
    "\n",
    "spam[:2]"
   ]
  },
  {
   "cell_type": "code",
   "execution_count": 20,
   "id": "baking-documentary",
   "metadata": {},
   "outputs": [
    {
     "data": {
      "text/plain": [
       "1"
      ]
     },
     "execution_count": 20,
     "metadata": {},
     "output_type": "execute_result"
    }
   ],
   "source": [
    "#Let's pretend bacon has the list [3.14, 'cat,' 11, 'cat,' True] for the next three questions.\n",
    "\n",
    "#Q.6. What is the value of bacon.index('cat')?\n",
    "\n",
    "bacon=[3.14, 'cat', 11, 'cat', True]\n",
    "\n",
    "bacon.index('cat')"
   ]
  },
  {
   "cell_type": "code",
   "execution_count": 27,
   "id": "about-simon",
   "metadata": {},
   "outputs": [
    {
     "data": {
      "text/plain": [
       "[3.14, 'cat', 11, 'cat', True, 99]"
      ]
     },
     "execution_count": 27,
     "metadata": {},
     "output_type": "execute_result"
    }
   ],
   "source": [
    "#7. How does bacon.append(99) change the look of the list value in bacon?\n",
    "\n",
    "bacon.append(99)\n",
    "bacon\n"
   ]
  },
  {
   "cell_type": "code",
   "execution_count": 28,
   "id": "rapid-landscape",
   "metadata": {},
   "outputs": [
    {
     "data": {
      "text/plain": [
       "[3.14, 11, 'cat', True, 99]"
      ]
     },
     "execution_count": 28,
     "metadata": {},
     "output_type": "execute_result"
    }
   ],
   "source": [
    "#8. How does bacon.remove('cat') change the look of the list meaning in bacon?\n",
    "\n",
    "bacon.remove('cat')\n",
    "bacon"
   ]
  },
  {
   "cell_type": "markdown",
   "id": "separated-throat",
   "metadata": {},
   "source": [
    "#9. What are the list concatenation and list replication operators?\n",
    "\n",
    "For list concatenation  + while for list replication *"
   ]
  },
  {
   "cell_type": "markdown",
   "id": "pleased-france",
   "metadata": {},
   "source": [
    "#10. What is difference between the list methods append() and insert()?\n",
    "\n",
    "Append will add values only at the end of list while insert can end anywhere in between list as per requirement."
   ]
  },
  {
   "cell_type": "markdown",
   "id": "departmental-study",
   "metadata": {},
   "source": [
    "#11. What are the two methods for removing items from a list?\n",
    "\n",
    "- remove\n",
    "- del"
   ]
  },
  {
   "cell_type": "markdown",
   "id": "instrumental-victorian",
   "metadata": {},
   "source": [
    "#12. Describe how list values and string values are identical.\n",
    "\n",
    "- Both can be accessed in a similar way using indexes\n",
    "- Both can be concatenated using +\n",
    "- Both can be replicatedted using *\n"
   ]
  },
  {
   "cell_type": "markdown",
   "id": "solid-burden",
   "metadata": {},
   "source": [
    "#13. What's the difference between tuples and lists?\n",
    "\n",
    "Lists are mutable while tuples are immutable.\n",
    "Lists are represented using [] while tuples using ()"
   ]
  },
  {
   "cell_type": "markdown",
   "id": "flush-guide",
   "metadata": {},
   "source": [
    "#14. How do you type a tuple value that only contains the integer 42?\n",
    "\n",
    "(42,)"
   ]
  },
  {
   "cell_type": "markdown",
   "id": "pleasant-basement",
   "metadata": {},
   "source": [
    "#15. How do you get a list value's tuple form? How do you get a tuple value's list form?\n",
    "\n",
    "tuple() and list()"
   ]
  },
  {
   "cell_type": "markdown",
   "id": "vanilla-standing",
   "metadata": {},
   "source": [
    "#16. Variables that \"contain\" list values are not necessarily lists themselves. Instead, what do they contain?\n",
    "\n",
    "references to list values"
   ]
  },
  {
   "cell_type": "markdown",
   "id": "cutting-bankruptcy",
   "metadata": {},
   "source": [
    "#17. How do you distinguish between copy.copy() and copy.deepcopy()?\n",
    "\n",
    "The copy.copy() function will do a shallow copy of a list, while the copy.deepcopy() function will do a deep copy of a list. "
   ]
  }
 ],
 "metadata": {
  "kernelspec": {
   "display_name": "Python 3",
   "language": "python",
   "name": "python3"
  },
  "language_info": {
   "codemirror_mode": {
    "name": "ipython",
    "version": 3
   },
   "file_extension": ".py",
   "mimetype": "text/x-python",
   "name": "python",
   "nbconvert_exporter": "python",
   "pygments_lexer": "ipython3",
   "version": "3.6.13"
  }
 },
 "nbformat": 4,
 "nbformat_minor": 5
}
