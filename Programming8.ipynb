{
  "nbformat": 4,
  "nbformat_minor": 0,
  "metadata": {
    "colab": {
      "name": "Untitled11.ipynb",
      "provenance": []
    },
    "kernelspec": {
      "name": "python3",
      "display_name": "Python 3"
    },
    "language_info": {
      "name": "python"
    }
  },
  "cells": [
    {
      "cell_type": "markdown",
      "metadata": {
        "id": "VT6LV1hHLgso"
      },
      "source": [
        "Programming Assignment 8\n"
      ]
    },
    {
      "cell_type": "code",
      "metadata": {
        "colab": {
          "base_uri": "https://localhost:8080/"
        },
        "id": "zx4Ztb0-Llzi",
        "outputId": "e1968576-9737-4cd7-bc02-027867e2c31d"
      },
      "source": [
        "#Q.1. Write a Python Program to Add Two Matrices?\n",
        "\n",
        "# Program to add two matrices using nested loop\n",
        "\n",
        "X = [[3,2,1],\n",
        "    [1,1,1],\n",
        "    [9,8,7]]\n",
        "\n",
        "Y = [[9,8,7],\n",
        "    [1,1,1],\n",
        "    [3,2,1]]\n",
        "\n",
        "result=[[0,0,0],\n",
        "         [0,0,0],\n",
        "         [0,0,0]]\n",
        "\n",
        "for i in range(len(X)):\n",
        "   for j in range(len(X[0])):\n",
        "       result[i][j] = X[i][j] + Y[i][j]\n",
        "\n",
        "for r in result:\n",
        "   print(r)"
      ],
      "execution_count": 4,
      "outputs": [
        {
          "output_type": "stream",
          "text": [
            "[12, 10, 8]\n",
            "[2, 2, 2]\n",
            "[12, 10, 8]\n"
          ],
          "name": "stdout"
        }
      ]
    },
    {
      "cell_type": "code",
      "metadata": {
        "colab": {
          "base_uri": "https://localhost:8080/"
        },
        "id": "uEDUiybZNHE3",
        "outputId": "5d7ddd88-af5b-4723-8da7-6f578f90b999"
      },
      "source": [
        "#Q.2. \n",
        "\n",
        "# Program to multiply two matrices using nested loops\n",
        "\n",
        "X = [[12,7,3],\n",
        "    [4 ,5,6],\n",
        "    [7 ,8,9]]\n",
        "\n",
        "Y = [[5,8,1],\n",
        "    [6,7,3],\n",
        "    [4,5,9]]\n",
        "\n",
        "result = [[0,0,0],\n",
        "         [0,0,0],\n",
        "         [0,0,0]]\n",
        "\n",
        "for i in range(len(X)):\n",
        "   for j in range(len(Y[0])):\n",
        "       for k in range(len(Y)):\n",
        "           result[i][j] += X[i][k] * Y[k][j]\n",
        "\n",
        "for r in result:\n",
        "   print(r)"
      ],
      "execution_count": 7,
      "outputs": [
        {
          "output_type": "stream",
          "text": [
            "[114, 160, 60]\n",
            "[74, 97, 73]\n",
            "[119, 157, 112]\n"
          ],
          "name": "stdout"
        }
      ]
    },
    {
      "cell_type": "code",
      "metadata": {
        "colab": {
          "base_uri": "https://localhost:8080/"
        },
        "id": "MvyWrzdFMFWD",
        "outputId": "10e8f565-8c75-47a3-83ca-ed30c052ebec"
      },
      "source": [
        "#Q.3. Write a Python Program to Transpose a Matrix?\n",
        "\n",
        "X = [[0 , 5, 8],\n",
        "    [3 ,6 , 9],\n",
        "    [2 ,4 , 7]]\n",
        "\n",
        "result = [[0,0,0],\n",
        "         [0,0,0],\n",
        "          [0,0,0]]\n",
        "\n",
        "for i in range(len(X)):\n",
        "   for j in range(len(X[0])):\n",
        "       result[j][i] = X[i][j]\n",
        "\n",
        "for r in result:\n",
        "   print(r)"
      ],
      "execution_count": 10,
      "outputs": [
        {
          "output_type": "stream",
          "text": [
            "[0, 3, 2]\n",
            "[5, 6, 4]\n",
            "[8, 9, 7]\n"
          ],
          "name": "stdout"
        }
      ]
    },
    {
      "cell_type": "code",
      "metadata": {
        "colab": {
          "base_uri": "https://localhost:8080/"
        },
        "id": "PGWdJN7kODkI",
        "outputId": "328e4de2-3bc1-4b90-8dbd-f4cba743f813"
      },
      "source": [
        "#Q.4. Write a Python Program to Sort Words in Alphabetic Order?\n",
        "\n",
        "str = 'This is a program to sort words in alphabetic order'\n",
        "\n",
        "str_split = str_lower.split()\n",
        "\n",
        "str_sort = str_split.sort()\n",
        "\n",
        "for i in str_split:\n",
        "  print(i)\n"
      ],
      "execution_count": 15,
      "outputs": [
        {
          "output_type": "stream",
          "text": [
            "a\n",
            "alphabetic\n",
            "in\n",
            "is\n",
            "order\n",
            "program\n",
            "sort\n",
            "this\n",
            "to\n",
            "words\n"
          ],
          "name": "stdout"
        }
      ]
    },
    {
      "cell_type": "code",
      "metadata": {
        "colab": {
          "base_uri": "https://localhost:8080/"
        },
        "id": "d-oY2MwiPGhy",
        "outputId": "9e182494-db2c-4519-ea34-d773231aa98a"
      },
      "source": [
        "#Q.5. Write a Python Program to Remove Punctuation From a String?\n",
        "\n",
        "punctuations = '''!()-[]{};:'\"\\,<>./?@#$%^&*_~'''\n",
        "\n",
        "str = input(\"Enter a string: \")\n",
        "\n",
        "no_punct = \"\"\n",
        "for char in str:\n",
        "   if char not in punctuations:\n",
        "       no_punct = no_punct + char\n",
        "\n",
        "print(no_punct)"
      ],
      "execution_count": 16,
      "outputs": [
        {
          "output_type": "stream",
          "text": [
            "Enter a string: How are you? Hope you are doing great!!!! See you soon.....!!\n",
            "How are you Hope you are doing great See you soon\n"
          ],
          "name": "stdout"
        }
      ]
    }
  ]
}