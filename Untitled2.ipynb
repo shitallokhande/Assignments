{
  "nbformat": 4,
  "nbformat_minor": 0,
  "metadata": {
    "colab": {
      "name": "Untitled2.ipynb",
      "provenance": []
    },
    "kernelspec": {
      "name": "python3",
      "display_name": "Python 3"
    },
    "language_info": {
      "name": "python"
    }
  },
  "cells": [
    {
      "cell_type": "markdown",
      "metadata": {
        "id": "G4INLVbtXbQ5"
      },
      "source": [
        "Programming Assignment 2"
      ]
    },
    {
      "cell_type": "code",
      "metadata": {
        "colab": {
          "base_uri": "https://localhost:8080/"
        },
        "id": "SUTYMR2eXkI3",
        "outputId": "912e3d1b-aa4b-41e8-c91d-aa7b05c1ba35"
      },
      "source": [
        "#Q.1. Write a Python program to convert kilometers to miles?\n",
        "\n",
        "in_data = int(input(\"Input data in kilometers : \"))\n",
        "out_data = in_data*1000\n",
        "print(\"Data in miles is {} \".format(out_data))"
      ],
      "execution_count": 17,
      "outputs": [
        {
          "output_type": "stream",
          "text": [
            "Input data in kilometers : 7\n",
            "Data in miles is 7000 \n"
          ],
          "name": "stdout"
        }
      ]
    },
    {
      "cell_type": "code",
      "metadata": {
        "colab": {
          "base_uri": "https://localhost:8080/"
        },
        "id": "CPoEK6gpYByl",
        "outputId": "258ab81d-2127-445c-c197-3306c261f9f3"
      },
      "source": [
        "#Q.2. Write a Python program to convert Celsius to Fahrenheit?\n",
        "\n",
        "cel_data = int(input(\"Enter data in celsius : \"))\n",
        "fah_data = (cel_data*1.8)+32\n",
        "print(\"Data in fahrenheit is {} \".format(fah_data))"
      ],
      "execution_count": 15,
      "outputs": [
        {
          "output_type": "stream",
          "text": [
            "Enter data in celsius : 32\n",
            "Data in fahrenheit is 89.6 \n"
          ],
          "name": "stdout"
        }
      ]
    },
    {
      "cell_type": "code",
      "metadata": {
        "colab": {
          "base_uri": "https://localhost:8080/"
        },
        "id": "9EZCG124Y8aK",
        "outputId": "b9052818-6add-4c9a-fa83-27927f04ee6e"
      },
      "source": [
        "#Q.3. Write a Python program to display calendar?\n",
        "\n",
        "import calendar\n",
        "\n",
        "year = 2021\n",
        "month = 3\n",
        "\n",
        "print(calendar.month(year,month))"
      ],
      "execution_count": 4,
      "outputs": [
        {
          "output_type": "stream",
          "text": [
            "     March 2021\n",
            "Mo Tu We Th Fr Sa Su\n",
            " 1  2  3  4  5  6  7\n",
            " 8  9 10 11 12 13 14\n",
            "15 16 17 18 19 20 21\n",
            "22 23 24 25 26 27 28\n",
            "29 30 31\n",
            "\n"
          ],
          "name": "stdout"
        }
      ]
    },
    {
      "cell_type": "code",
      "metadata": {
        "colab": {
          "base_uri": "https://localhost:8080/"
        },
        "id": "IN-OMBSYZfMQ",
        "outputId": "757f98c1-8097-4014-8e48-1e6f5c639ce4"
      },
      "source": [
        "#Q.4. Write a Python program to solve quadratic equation?\n",
        "\n",
        "import cmath  \n",
        "\n",
        "a = 2\n",
        "b = 3\n",
        "c = 5\n",
        "\n",
        "d = (b**2) - (4*a*c)\n",
        "\n",
        "e1 = (-b-cmath.sqrt(d))/(2*a)\n",
        "e2 = (-b+cmath.sqrt(d))/(2*a)\n",
        "\n",
        "print('The solution are {0} and {1}'.format(e1,e2))"
      ],
      "execution_count": 6,
      "outputs": [
        {
          "output_type": "stream",
          "text": [
            "The solution are (-0.75-1.3919410907075054j) and (-0.75+1.3919410907075054j)\n"
          ],
          "name": "stdout"
        }
      ]
    },
    {
      "cell_type": "code",
      "metadata": {
        "colab": {
          "base_uri": "https://localhost:8080/"
        },
        "id": "0MBn-WKdaR-b",
        "outputId": "e997d5d1-fc5b-4861-d2fa-9018d8055016"
      },
      "source": [
        "#Q.5. Write a Python program to swap two variables without temp variable?\n",
        "\n",
        "a = int(input(\"Enter variable 1 : \"))\n",
        "b = int(input(\"Enter variable 2 : \"))\n",
        "\n",
        "temp = a\n",
        "a = b\n",
        "b = temp\n",
        "\n",
        "print(\"The swapped varibles using temp are {} and {} \".format(a,b))"
      ],
      "execution_count": 14,
      "outputs": [
        {
          "output_type": "stream",
          "text": [
            "Enter variable 1 : 5\n",
            "Enter variable 2 : 8\n",
            "The swapped varibles using temp are 8 and 5 \n"
          ],
          "name": "stdout"
        }
      ]
    }
  ]
}