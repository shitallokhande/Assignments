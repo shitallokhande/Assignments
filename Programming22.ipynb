{
  "nbformat": 4,
  "nbformat_minor": 0,
  "metadata": {
    "colab": {
      "name": "Untitled42.ipynb",
      "provenance": [],
      "collapsed_sections": []
    },
    "kernelspec": {
      "name": "python3",
      "display_name": "Python 3"
    },
    "language_info": {
      "name": "python"
    }
  },
  "cells": [
    {
      "cell_type": "markdown",
      "metadata": {
        "id": "3GidveaLJ9xo"
      },
      "source": [
        "Programming Assignment No. 22"
      ]
    },
    {
      "cell_type": "code",
      "metadata": {
        "id": "uPlrFly0KDMb"
      },
      "source": [
        "Question 1 \n",
        "Create a function that takes three parameters where:\n",
        "•\tx is the start of the range (inclusive).\n",
        "•\ty is the end of the range (inclusive).\n",
        "•\tn is the divisor to be checked against.\n",
        "\n",
        "Return an ordered list with numbers in the range that are divisible by the third parameter n. \n",
        "Return an empty list if there are no numbers that are divisible by n.\n",
        "Examples\n",
        "list_operation(1, 10, 3) ➞ [3, 6, 9]\n",
        "\n",
        "list_operation(7, 9, 2) ➞ [8]\n",
        "\n",
        "list_operation(15, 20, 7) ➞ []\n"
      ],
      "execution_count": null,
      "outputs": []
    },
    {
      "cell_type": "code",
      "metadata": {
        "colab": {
          "base_uri": "https://localhost:8080/"
        },
        "id": "5iqBXH-HKLfq",
        "outputId": "41ae7d18-8797-47e2-c08d-38dda2f160e3"
      },
      "source": [
        "def list_operation(s,e,d):\n",
        " l = []\n",
        " for i in range(s,e+1):\n",
        "   if i % d == 0 :\n",
        "    l.append(i)\n",
        " return l\n",
        "list_operation(1, 10, 3)\n"
      ],
      "execution_count": null,
      "outputs": [
        {
          "output_type": "execute_result",
          "data": {
            "text/plain": [
              "[3, 6, 9]"
            ]
          },
          "metadata": {
            "tags": []
          },
          "execution_count": 4
        }
      ]
    },
    {
      "cell_type": "code",
      "metadata": {
        "colab": {
          "base_uri": "https://localhost:8080/"
        },
        "id": "3nIBl0jIKl6U",
        "outputId": "cf7e628f-c263-40ab-ac74-2514b98f0d95"
      },
      "source": [
        "list_operation(7, 9, 2) "
      ],
      "execution_count": null,
      "outputs": [
        {
          "output_type": "execute_result",
          "data": {
            "text/plain": [
              "[8]"
            ]
          },
          "metadata": {
            "tags": []
          },
          "execution_count": 5
        }
      ]
    },
    {
      "cell_type": "code",
      "metadata": {
        "colab": {
          "base_uri": "https://localhost:8080/"
        },
        "id": "ra5qa4QtKu7Z",
        "outputId": "7cfdf18a-6c39-49fc-8c7a-ab59c19e2fdd"
      },
      "source": [
        "list_operation(15, 20, 7)"
      ],
      "execution_count": null,
      "outputs": [
        {
          "output_type": "execute_result",
          "data": {
            "text/plain": [
              "[]"
            ]
          },
          "metadata": {
            "tags": []
          },
          "execution_count": 6
        }
      ]
    },
    {
      "cell_type": "code",
      "metadata": {
        "id": "FwkYUUxXKwX6"
      },
      "source": [
        "Question2\n",
        "Create a function that takes in two lists and returns True if the second list follows the first list by one element, and False otherwise. \n",
        "In other words, determine if the second list is the first list shifted to the right by 1.\n",
        "Examples\n",
        "simon_says([1, 2], [5, 1]) ➞ True\n",
        "\n",
        "simon_says([1, 2], [5, 5]) ➞ False\n",
        "\n",
        "simon_says([1, 2, 3, 4, 5], [0, 1, 2, 3, 4]) ➞ True\n",
        "\n",
        "simon_says([1, 2, 3, 4, 5], [5, 5, 1, 2, 3]) ➞ False\n",
        "Notes\n",
        "•\tBoth input lists will be of the same length, and will have a minimum length of 2.\n",
        "•\tThe values of the 0-indexed element in the second list and the n-1th indexed element in the first list do not matter."
      ],
      "execution_count": null,
      "outputs": []
    },
    {
      "cell_type": "code",
      "metadata": {
        "id": "7wp96CgvLc2x"
      },
      "source": [
        "Question3\n",
        "A group of friends have decided to start a secret society. The name will be the first letter of each of their names, sorted in alphabetical order.\n",
        "Create a function that takes in a list of names and returns the name of the secret society.\n",
        "Examples\n",
        "society_name([\"Adam\", \"Sarah\", \"Malcolm\"]) ➞ \"AMS\"\n",
        "\n",
        "society_name([\"Harry\", \"Newt\", \"Luna\", \"Cho\"]) ➞ \"CHLN\"\n",
        "\n",
        "society_name([\"Phoebe\", \"Chandler\", \"Rachel\", \"Ross\", \"Monica\", \"Joey\"])"
      ],
      "execution_count": null,
      "outputs": []
    },
    {
      "cell_type": "code",
      "metadata": {
        "id": "z9PR2fQLMcz6",
        "colab": {
          "base_uri": "https://localhost:8080/"
        },
        "outputId": "ab97dd65-bcda-40be-d173-efbc2e9539a5"
      },
      "source": [
        "def society_name(lst):\n",
        "    return ''.join(sorted(list(list(zip(*lst))[0])))\n",
        "      \n",
        "# Driver code\n",
        "lst = ([\"Adam\", \"Sarah\", \"Malcolm\"])\n",
        "print(society_name(lst))"
      ],
      "execution_count": 29,
      "outputs": [
        {
          "output_type": "stream",
          "text": [
            "AMS\n"
          ],
          "name": "stdout"
        }
      ]
    },
    {
      "cell_type": "code",
      "metadata": {
        "colab": {
          "base_uri": "https://localhost:8080/",
          "height": 35
        },
        "id": "8_uOSRzlBL6x",
        "outputId": "02f2e55d-62fb-42d7-fbc3-9e60d9ea7dc6"
      },
      "source": [
        "society_name([\"Harry\", \"Newt\", \"Luna\", \"Cho\"]) "
      ],
      "execution_count": 30,
      "outputs": [
        {
          "output_type": "execute_result",
          "data": {
            "application/vnd.google.colaboratory.intrinsic+json": {
              "type": "string"
            },
            "text/plain": [
              "'CHLN'"
            ]
          },
          "metadata": {
            "tags": []
          },
          "execution_count": 30
        }
      ]
    },
    {
      "cell_type": "code",
      "metadata": {
        "colab": {
          "base_uri": "https://localhost:8080/",
          "height": 35
        },
        "id": "T4w2VRicBUmG",
        "outputId": "f8afbee2-0e37-4e97-b6b9-2467bda13667"
      },
      "source": [
        "society_name([\"Phoebe\", \"Chandler\", \"Rachel\", \"Ross\", \"Monica\", \"Joey\"])"
      ],
      "execution_count": 31,
      "outputs": [
        {
          "output_type": "execute_result",
          "data": {
            "application/vnd.google.colaboratory.intrinsic+json": {
              "type": "string"
            },
            "text/plain": [
              "'CJMPRR'"
            ]
          },
          "metadata": {
            "tags": []
          },
          "execution_count": 31
        }
      ]
    },
    {
      "cell_type": "code",
      "metadata": {
        "id": "VZeuCyYWBXXb"
      },
      "source": [
        "Question4\n",
        "An isogram is a word that has no duplicate letters. Create a function that takes a string and returns either True or False depending on whether or not it's an \"isogram\".\n",
        "Examples\n",
        "is_isogram(\"Algorism\") ➞ True\n",
        "\n",
        "is_isogram(\"PasSword\") ➞ False\n",
        "# Not case sensitive.\n",
        "\n",
        "is_isogram(\"Consecutive\") ➞ False\n",
        "Notes\n",
        "•\tIgnore letter case (should not be case sensitive).\n",
        "•\tAll test cases contain valid one word strings."
      ],
      "execution_count": null,
      "outputs": []
    },
    {
      "cell_type": "code",
      "metadata": {
        "colab": {
          "base_uri": "https://localhost:8080/"
        },
        "id": "SU-TGPdbCNwc",
        "outputId": "36d2c19f-aeb3-467f-d94a-d4ef3a6c7348"
      },
      "source": [
        "def is_isogram(word):\n",
        " clean_word = word.lower()\n",
        " letter_list = []\n",
        " for i in clean_word:\n",
        "  if i.isalpha():\n",
        "   if i in letter_list:\n",
        "    return False\n",
        "   letter_list.append(i)\n",
        " return True\n",
        "is_isogram(\"Algorism\")"
      ],
      "execution_count": 16,
      "outputs": [
        {
          "output_type": "execute_result",
          "data": {
            "text/plain": [
              "True"
            ]
          },
          "metadata": {
            "tags": []
          },
          "execution_count": 16
        }
      ]
    },
    {
      "cell_type": "code",
      "metadata": {
        "colab": {
          "base_uri": "https://localhost:8080/"
        },
        "id": "F0YBDlBqCOs-",
        "outputId": "1c995e82-5f91-408f-cbfc-822649f52bcd"
      },
      "source": [
        "is_isogram(\"PasSword\") "
      ],
      "execution_count": 17,
      "outputs": [
        {
          "output_type": "execute_result",
          "data": {
            "text/plain": [
              "False"
            ]
          },
          "metadata": {
            "tags": []
          },
          "execution_count": 17
        }
      ]
    },
    {
      "cell_type": "code",
      "metadata": {
        "colab": {
          "base_uri": "https://localhost:8080/"
        },
        "id": "ZppzrEu2DDet",
        "outputId": "9331950d-9f58-45c9-df8d-cd37ef2f28a9"
      },
      "source": [
        "is_isogram(\"Consecutive\") "
      ],
      "execution_count": 18,
      "outputs": [
        {
          "output_type": "execute_result",
          "data": {
            "text/plain": [
              "False"
            ]
          },
          "metadata": {
            "tags": []
          },
          "execution_count": 18
        }
      ]
    },
    {
      "cell_type": "code",
      "metadata": {
        "id": "MR0RwIleDKZJ"
      },
      "source": [
        "Question5\n",
        "Create a function that takes a string and returns True or False, depending on whether the characters are in order or not.\n",
        "Examples\n",
        "is_in_order(\"abc\") ➞ True\n",
        "\n",
        "is_in_order(\"edabit\") ➞ False\n",
        "\n",
        "is_in_order(\"123\") ➞ True\n",
        "\n",
        "is_in_order(\"xyzz\") ➞ True\n",
        "Notes\n",
        "You don't have to handle empty strings."
      ],
      "execution_count": null,
      "outputs": []
    },
    {
      "cell_type": "code",
      "metadata": {
        "colab": {
          "base_uri": "https://localhost:8080/"
        },
        "id": "6zugt97AD01z",
        "outputId": "19a2fb40-350a-4596-e83c-0d9262ed928e"
      },
      "source": [
        "def is_in_order(l):\n",
        "  s = ''.join(sorted(l))\n",
        "  if l == s:\n",
        "    print('True')\n",
        "  else :\n",
        "    print('False')\n",
        "\n",
        "is_in_order(\"abc\")"
      ],
      "execution_count": 24,
      "outputs": [
        {
          "output_type": "stream",
          "text": [
            "True\n"
          ],
          "name": "stdout"
        }
      ]
    },
    {
      "cell_type": "code",
      "metadata": {
        "colab": {
          "base_uri": "https://localhost:8080/"
        },
        "id": "SRPn7BlCGevT",
        "outputId": "b2d77751-6a69-4fb2-ffc4-1fcd738f7975"
      },
      "source": [
        "is_in_order(\"edabit\")"
      ],
      "execution_count": 25,
      "outputs": [
        {
          "output_type": "stream",
          "text": [
            "False\n"
          ],
          "name": "stdout"
        }
      ]
    },
    {
      "cell_type": "code",
      "metadata": {
        "colab": {
          "base_uri": "https://localhost:8080/"
        },
        "id": "V38kh3I3Ghaj",
        "outputId": "81c78969-b94f-4c7a-e958-f05ff93b9d03"
      },
      "source": [
        "is_in_order(\"123\")"
      ],
      "execution_count": 26,
      "outputs": [
        {
          "output_type": "stream",
          "text": [
            "True\n"
          ],
          "name": "stdout"
        }
      ]
    },
    {
      "cell_type": "code",
      "metadata": {
        "colab": {
          "base_uri": "https://localhost:8080/"
        },
        "id": "EB0mvu2VGkgi",
        "outputId": "8f81bd0a-98cf-4fd9-aae5-d5d400eb646d"
      },
      "source": [
        "is_in_order(\"xyzz\")"
      ],
      "execution_count": 27,
      "outputs": [
        {
          "output_type": "stream",
          "text": [
            "True\n"
          ],
          "name": "stdout"
        }
      ]
    }
  ]
}