{
  "nbformat": 4,
  "nbformat_minor": 0,
  "metadata": {
    "colab": {
      "name": "Untitled25.ipynb",
      "provenance": []
    },
    "kernelspec": {
      "name": "python3",
      "display_name": "Python 3"
    },
    "language_info": {
      "name": "python"
    }
  },
  "cells": [
    {
      "cell_type": "markdown",
      "metadata": {
        "id": "U0oEKuBUMWvh"
      },
      "source": [
        "Assignment No. 22"
      ]
    },
    {
      "cell_type": "code",
      "metadata": {
        "id": "Z_Yr7Ea_MbxQ"
      },
      "source": [
        "1.\n",
        "\n",
        "X = 'iNeuron'\n",
        "def func():\n",
        " print(X) "
      ],
      "execution_count": 3,
      "outputs": []
    },
    {
      "cell_type": "code",
      "metadata": {
        "colab": {
          "base_uri": "https://localhost:8080/"
        },
        "id": "2yy7ccGuMe4S",
        "outputId": "42993c9d-13f1-4e1c-fad5-52e886d323dd"
      },
      "source": [
        "func()\n",
        "\n",
        "# prints local variable \n"
      ],
      "execution_count": 4,
      "outputs": [
        {
          "output_type": "stream",
          "text": [
            "iNeuron\n"
          ],
          "name": "stdout"
        }
      ]
    },
    {
      "cell_type": "code",
      "metadata": {
        "colab": {
          "base_uri": "https://localhost:8080/"
        },
        "id": "NDVg-KeqMlX6",
        "outputId": "70ee0c4d-234a-4d2c-b443-f43aa8f00f0c"
      },
      "source": [
        "2. \n",
        "\n",
        "X = 'iNeuron'\n",
        "def func():\n",
        " X = 'NI!'\n",
        " \n",
        "\n",
        "\n",
        "func()\n",
        "print(X)\n",
        "\n",
        "\n",
        "# prints iNeuron which is defined globally because print is called outside the fuction so it takes global value"
      ],
      "execution_count": 15,
      "outputs": [
        {
          "output_type": "stream",
          "text": [
            "NI!\n",
            "iNeuron\n"
          ],
          "name": "stdout"
        }
      ]
    },
    {
      "cell_type": "code",
      "metadata": {
        "colab": {
          "base_uri": "https://localhost:8080/"
        },
        "id": "FDzvQZvzMpsL",
        "outputId": "2783b080-d143-4209-f80e-c92b80b4dc45"
      },
      "source": [
        "3.\n",
        "\n",
        "X = 'iNeuron'\n",
        "def func():\n",
        " X = 'NI'\n",
        " print(X)\n",
        "\n",
        "\n",
        "func()\n",
        "print(X)\n",
        "\n",
        "# 1st print is prints local variable as print is called within the local function while 2nd print, prints global value as it is called outside\n"
      ],
      "execution_count": 17,
      "outputs": [
        {
          "output_type": "stream",
          "text": [
            "NI\n",
            "iNeuron\n"
          ],
          "name": "stdout"
        }
      ]
    },
    {
      "cell_type": "code",
      "metadata": {
        "colab": {
          "base_uri": "https://localhost:8080/"
        },
        "id": "gCg3zpzfMpvh",
        "outputId": "9010a01f-7267-4aef-ca47-651c1a398a77"
      },
      "source": [
        "4.\n",
        "\n",
        "X = 'iNeuron'\n",
        "def func():\n",
        " global X\n",
        " X = 'NI'\n",
        "\n",
        "\n",
        "func()\n",
        "print(X)\n",
        "\n",
        "# changed value of global variable inside function using global keyword. so X becomes NI\n"
      ],
      "execution_count": 22,
      "outputs": [
        {
          "output_type": "stream",
          "text": [
            "NI\n"
          ],
          "name": "stdout"
        }
      ]
    },
    {
      "cell_type": "code",
      "metadata": {
        "colab": {
          "base_uri": "https://localhost:8080/",
          "height": 35
        },
        "id": "4wa1yLIDNMHZ",
        "outputId": "a2e31779-1503-41b1-c271-cea762753b7d"
      },
      "source": [
        "5.\n",
        "\n",
        "X = 'iNeuron'\n",
        "def func():\n",
        " X = 'NI'\n",
        "def nested():\n",
        " print(X)\n",
        " nested()\n",
        "\n",
        "\n",
        "func()\n",
        "X\n",
        "\n",
        "# global value of X gets printed"
      ],
      "execution_count": 27,
      "outputs": [
        {
          "output_type": "execute_result",
          "data": {
            "application/vnd.google.colaboratory.intrinsic+json": {
              "type": "string"
            },
            "text/plain": [
              "'iNeuron'"
            ]
          },
          "metadata": {
            "tags": []
          },
          "execution_count": 27
        }
      ]
    },
    {
      "cell_type": "code",
      "metadata": {
        "colab": {
          "base_uri": "https://localhost:8080/",
          "height": 131
        },
        "id": "P8iK_cUgNbBP",
        "outputId": "f8b212fd-9d99-4883-ee0e-ddaa75f67aba"
      },
      "source": [
        "6.\n",
        "\n",
        "def func():\n",
        " X = 'NI'\n",
        "def nested():\n",
        " nonlocal X\n",
        " X = 'Spam'\n",
        "nested()\n",
        "print(X)\n",
        "\n",
        "func()\n"
      ],
      "execution_count": 29,
      "outputs": [
        {
          "output_type": "error",
          "ename": "SyntaxError",
          "evalue": "ignored",
          "traceback": [
            "\u001b[0;36m  File \u001b[0;32m\"<ipython-input-29-e2bde91c4d21>\"\u001b[0;36m, line \u001b[0;32m6\u001b[0m\n\u001b[0;31m    nonlocal X\u001b[0m\n\u001b[0m    ^\u001b[0m\n\u001b[0;31mSyntaxError\u001b[0m\u001b[0;31m:\u001b[0m no binding for nonlocal 'X' found\n"
          ]
        }
      ]
    },
    {
      "cell_type": "code",
      "metadata": {
        "id": "o45xcR5yNoxW"
      },
      "source": [
        ""
      ],
      "execution_count": null,
      "outputs": []
    }
  ]
}