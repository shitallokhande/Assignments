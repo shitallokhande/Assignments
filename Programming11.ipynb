{
  "nbformat": 4,
  "nbformat_minor": 0,
  "metadata": {
    "colab": {
      "name": "Untitled29.ipynb",
      "provenance": []
    },
    "kernelspec": {
      "name": "python3",
      "display_name": "Python 3"
    },
    "language_info": {
      "name": "python"
    }
  },
  "cells": [
    {
      "cell_type": "code",
      "metadata": {
        "id": "4MULFE1QrGf3"
      },
      "source": [
        "Programming Assignment No. 11"
      ],
      "execution_count": null,
      "outputs": []
    },
    {
      "cell_type": "code",
      "metadata": {
        "id": "dTaeAzisrMaA"
      },
      "source": [
        "1.\tWrite a Python program to find words which are greater than given length k?"
      ],
      "execution_count": null,
      "outputs": []
    },
    {
      "cell_type": "code",
      "metadata": {
        "colab": {
          "base_uri": "https://localhost:8080/"
        },
        "id": "HOuk1LvyrN7i",
        "outputId": "f04e37a2-6478-42a4-a83d-f9da3f257e39"
      },
      "source": [
        "def greater(x,data):\n",
        "  str1 = []\n",
        "  a = data.split(\" \")\n",
        "\n",
        "  for i in a :\n",
        "    if len(i) > x :\n",
        "      str1.append(i)\n",
        "  return str1\n",
        "\n",
        "x = 4\n",
        "data = input(\"Enter the input for this program\")\n",
        "print(greater(x,data))\n",
        "\n"
      ],
      "execution_count": 6,
      "outputs": [
        {
          "output_type": "stream",
          "text": [
            "Enter the input for this programLearn Git and GitHub without any code! Using the Hello World guide, you’ll create a repository, start a branch, write comments, and open a pull request.\n",
            "['Learn', 'GitHub', 'without', 'code!', 'Using', 'Hello', 'World', 'guide,', 'you’ll', 'create', 'repository,', 'start', 'branch,', 'write', 'comments,', 'request.']\n"
          ],
          "name": "stdout"
        }
      ]
    },
    {
      "cell_type": "code",
      "metadata": {
        "id": "uUsTbRSZsWvZ"
      },
      "source": [
        "2.\tWrite a Python program for removing i-th character from a string?"
      ],
      "execution_count": 6,
      "outputs": []
    },
    {
      "cell_type": "code",
      "metadata": {
        "colab": {
          "base_uri": "https://localhost:8080/"
        },
        "id": "_lX-K3k2uYU7",
        "outputId": "e2cf4807-a611-4952-c28a-4a5fbe08489b"
      },
      "source": [
        "def remove(string,i):\n",
        "  for j in range(len(string)):\n",
        "    if j == 1 :\n",
        "      string = string.replace(string[i],\" \")\n",
        "  return string\n",
        "\n",
        "i = 5\n",
        "string = input(\"Enter the input data\")\n",
        "print(remove(string,i))"
      ],
      "execution_count": 10,
      "outputs": [
        {
          "output_type": "stream",
          "text": [
            "Enter the input dataFull Stack Data Science With 1 Year Internship\n",
            "Full  tack Data  cience With 1 Year Internship\n"
          ],
          "name": "stdout"
        }
      ]
    },
    {
      "cell_type": "code",
      "metadata": {
        "id": "_J1M6iOUvF0t"
      },
      "source": [
        "3.\tWrite a Python program to split and join a string?"
      ],
      "execution_count": 8,
      "outputs": []
    },
    {
      "cell_type": "code",
      "metadata": {
        "colab": {
          "base_uri": "https://localhost:8080/"
        },
        "id": "HO9ypGXNvY0A",
        "outputId": "04379332-3aac-4bd0-cb59-595d982488e5"
      },
      "source": [
        "def split_string(string):\n",
        "  string_list = string.split(' ')\n",
        "  string_join = '-'.join(string_list)\n",
        "  return string_join \n",
        "\n",
        "string = input(\"Enter the string which has to be split and joined\")\n",
        "print(split_string)"
      ],
      "execution_count": 45,
      "outputs": [
        {
          "output_type": "stream",
          "text": [
            "Enter the string which has to be split and joinedalready included in this program and you will get one year of internship completion certificate \n",
            "<function split_string at 0x7efc9ec63950>\n"
          ],
          "name": "stdout"
        }
      ]
    },
    {
      "cell_type": "code",
      "metadata": {
        "id": "mo8TnkYYwd_L"
      },
      "source": [
        "4.\tWrite a Python to check if a given string is binary string or not?"
      ],
      "execution_count": null,
      "outputs": []
    },
    {
      "cell_type": "code",
      "metadata": {
        "colab": {
          "base_uri": "https://localhost:8080/"
        },
        "id": "ioEVTMIowxhr",
        "outputId": "60f22f39-530a-4bfa-ecb8-a6a6e88efdcd"
      },
      "source": [
        "def binary(data):\n",
        "  a = set(data)\n",
        "  s = {'0','1'}\n",
        "  if s == a or a == {'0'} or a == {'1'}:\n",
        "    print('Given string is binary')\n",
        "  else :\n",
        "    print(\"The string is not binary\")\n",
        "\n",
        "data = input(\" Enter the input data \")\n",
        "print(binary(data))"
      ],
      "execution_count": 23,
      "outputs": [
        {
          "output_type": "stream",
          "text": [
            " Enter the input data 0111010\n",
            "Given string is binary\n",
            "None\n"
          ],
          "name": "stdout"
        }
      ]
    },
    {
      "cell_type": "code",
      "metadata": {
        "id": "58h2npamym5a"
      },
      "source": [
        "5.\tWrite a Python program to find uncommon words from two Strings?"
      ],
      "execution_count": 17,
      "outputs": []
    },
    {
      "cell_type": "code",
      "metadata": {
        "colab": {
          "base_uri": "https://localhost:8080/"
        },
        "id": "pM9MWFb3zXAf",
        "outputId": "94f8d8ae-64cd-451a-ba11-f4545a1de876"
      },
      "source": [
        "def uncommon(i,j):\n",
        " list_i = i.split()\n",
        " list_j = j.split()\n",
        " uc = ''\n",
        " for i in list_i :\n",
        "   if i not in list_j :\n",
        "     uc = uc+ ' '+i\n",
        "  \n",
        " for j in list_j :\n",
        "   if j not in list_i :\n",
        "     uc = uc+ ' ' +j\n",
        " return uc\n",
        "\n",
        "print(uncommon(' one-year internship is already included in this program','already included in this program and you will get one year of internship completion'))\n"
      ],
      "execution_count": 29,
      "outputs": [
        {
          "output_type": "stream",
          "text": [
            " one-year is and you will get one year of completion\n"
          ],
          "name": "stdout"
        }
      ]
    },
    {
      "cell_type": "code",
      "metadata": {
        "colab": {
          "base_uri": "https://localhost:8080/"
        },
        "id": "qhTNcZf304oK",
        "outputId": "6606504a-af85-4997-9e1a-86cc08148deb"
      },
      "source": [
        "6.\tWrite a Python to find all duplicate characters in string?\n",
        "\n",
        "string = 'eaf87ubvesdfeweryhbvvviuinhg'\n",
        "duplicate = []\n",
        "for char in string :\n",
        "  if string.count(char)>1:\n",
        "    if char not in duplicate :\n",
        "     duplicate.append(char)\n",
        "print(duplicate)\n"
      ],
      "execution_count": 34,
      "outputs": [
        {
          "output_type": "stream",
          "text": [
            "['e', 'f', 'u', 'b', 'v', 'h', 'i']\n"
          ],
          "name": "stdout"
        }
      ]
    },
    {
      "cell_type": "code",
      "metadata": {
        "id": "h8x1afAJ22r0"
      },
      "source": [
        "7.\tWrite a Python Program to check if a string contains any special character?"
      ],
      "execution_count": null,
      "outputs": []
    },
    {
      "cell_type": "code",
      "metadata": {
        "colab": {
          "base_uri": "https://localhost:8080/"
        },
        "id": "xEXjm_U13pkJ",
        "outputId": "c27729ff-07a2-48f8-d5de-cc78e0c0e2db"
      },
      "source": [
        "import re\n",
        "\n",
        "def check_char(string):\n",
        "\n",
        "  regex = re.compile('[@_!#$%^&*()<>?/\\|}{~:]')\n",
        "  if(regex.search(string) == None ):\n",
        "    print(\"String does not contain any special character\")\n",
        "  else :\n",
        "    print(\"String contains special character\")\n",
        "\n",
        "string = \"uyfhg !2345 okljnb <>?\"\n",
        "check_char(string)"
      ],
      "execution_count": 41,
      "outputs": [
        {
          "output_type": "stream",
          "text": [
            "String contains special character\n"
          ],
          "name": "stdout"
        }
      ]
    }
  ]
}