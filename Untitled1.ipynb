{
  "nbformat": 4,
  "nbformat_minor": 0,
  "metadata": {
    "colab": {
      "name": "Untitled1.ipynb",
      "provenance": [],
      "collapsed_sections": []
    },
    "kernelspec": {
      "name": "python3",
      "display_name": "Python 3"
    },
    "language_info": {
      "name": "python"
    }
  },
  "cells": [
    {
      "cell_type": "code",
      "metadata": {
        "id": "hDPuZm-3BvMH"
      },
      "source": [
        "                                          Programming Assignment no. 1"
      ],
      "execution_count": null,
      "outputs": []
    },
    {
      "cell_type": "code",
      "metadata": {
        "colab": {
          "base_uri": "https://localhost:8080/"
        },
        "id": "JjffbySYB37S",
        "outputId": "c5f936a3-779f-45fc-d8e9-6f42038c80b1"
      },
      "source": [
        "#Q.1. Write a Python program to print \"Hello Python\"?\n",
        "\n",
        "print(\"Hello Python\")"
      ],
      "execution_count": 5,
      "outputs": [
        {
          "output_type": "stream",
          "text": [
            "Hello Python\n"
          ],
          "name": "stdout"
        }
      ]
    },
    {
      "cell_type": "markdown",
      "metadata": {
        "id": "Hn-UfsRBB46s"
      },
      "source": [
        ""
      ]
    },
    {
      "cell_type": "code",
      "metadata": {
        "colab": {
          "base_uri": "https://localhost:8080/"
        },
        "id": "wKl00TQcSzBi",
        "outputId": "c38fb62b-1ecb-4662-b012-ff54cc2b68ef"
      },
      "source": [
        "#Q.2. Write a Python program to do arithmetical operations addition and division.?\n",
        "\n",
        "a=10\n",
        "b=15\n",
        "\n",
        "sum=a+b\n",
        "div=a/b\n",
        "\n",
        "print(\"Addition is {} and Division is {}\" .format(sum,div))"
      ],
      "execution_count": 16,
      "outputs": [
        {
          "output_type": "stream",
          "text": [
            "Addition is 25 and Division is 0.6666666666666666\n"
          ],
          "name": "stdout"
        }
      ]
    },
    {
      "cell_type": "code",
      "metadata": {
        "colab": {
          "base_uri": "https://localhost:8080/"
        },
        "id": "knjEQzmXTe1A",
        "outputId": "fb8a1742-3304-4560-93fc-702da8a07141"
      },
      "source": [
        "#Q.3. Write a Python program to find the area of a triangle?\n",
        "\n",
        "h=int(input('Enter height of triangle'))\n",
        "b=int(input('Enter height of breadth'))\n",
        "\n",
        "area = h*b/2\n",
        "print('Area of triangle is {}'.format(area))"
      ],
      "execution_count": 8,
      "outputs": [
        {
          "output_type": "stream",
          "text": [
            "Enter height of triangle12\n",
            "Enter height of breadth43\n",
            "Area of triangle is 258.0\n"
          ],
          "name": "stdout"
        }
      ]
    },
    {
      "cell_type": "code",
      "metadata": {
        "colab": {
          "base_uri": "https://localhost:8080/"
        },
        "id": "kE39Pt6OUUxB",
        "outputId": "348c5154-0adc-4433-e330-d74bf270ad13"
      },
      "source": [
        "#Q.4. Write a Python program to swap two variables?\n",
        "\n",
        "var1 = input('Enter variable 1 ')\n",
        "var2 = input('Enter variable 2 ')\n",
        "\n",
        "var3 = var2\n",
        "var2 = var1\n",
        "var1 = var3\n",
        "\n",
        "print('Swapped values of variable 1 and variable 2 are {} and {}'.format(var1,var2))"
      ],
      "execution_count": 13,
      "outputs": [
        {
          "output_type": "stream",
          "text": [
            "Enter variable 1 1\n",
            "Enter variable 2 5\n",
            "Swapped values of variable 1 and variable 2 are 5 and 1\n"
          ],
          "name": "stdout"
        }
      ]
    },
    {
      "cell_type": "code",
      "metadata": {
        "colab": {
          "base_uri": "https://localhost:8080/"
        },
        "id": "9XmsGR5vU2lN",
        "outputId": "92371686-70a3-4ba7-e72d-9edce054c03b"
      },
      "source": [
        "#Q.5. Write a Python program to generate a random number?\n",
        "\n",
        "import random\n",
        "\n",
        "print(random.randint(0,100))"
      ],
      "execution_count": 15,
      "outputs": [
        {
          "output_type": "stream",
          "text": [
            "63\n"
          ],
          "name": "stdout"
        }
      ]
    }
  ]
}