{
  "nbformat": 4,
  "nbformat_minor": 0,
  "metadata": {
    "colab": {
      "name": "Untitled30.ipynb",
      "provenance": []
    },
    "kernelspec": {
      "name": "python3",
      "display_name": "Python 3"
    },
    "language_info": {
      "name": "python"
    }
  },
  "cells": [
    {
      "cell_type": "markdown",
      "metadata": {
        "id": "mtoupiQ-cqWR"
      },
      "source": [
        "Programming Assignment No. 12"
      ]
    },
    {
      "cell_type": "code",
      "metadata": {
        "id": "RsSlyI1Fcu3_"
      },
      "source": [
        "1.\tWrite a Python program to Extract Unique values dictionary values?"
      ],
      "execution_count": null,
      "outputs": []
    },
    {
      "cell_type": "code",
      "metadata": {
        "colab": {
          "base_uri": "https://localhost:8080/"
        },
        "id": "P76IRE-Wc0mU",
        "outputId": "b2ab719a-5ebe-4950-df0d-edff340f7eb4"
      },
      "source": [
        "dict = { \"a1\": \"movies\",\n",
        "    \"a2\" : \"sports\",\n",
        "    \"a3\": \"music\",\n",
        "    \"a4\": \"music\",\n",
        "    \"a5\": \"music\",\n",
        "    \"a6\": \"movies\",\n",
        "    \"a7\": \"sports\",\n",
        "    \"a8\": \"news\",\n",
        "    \"a9\": \"sports\"}\n",
        "\n",
        "uniquesValue = set(dict.values())\n",
        "print(uniquesValue)\n",
        "print(len(uniquesValue))"
      ],
      "execution_count": 15,
      "outputs": [
        {
          "output_type": "stream",
          "text": [
            "{'news', 'music', 'movies', 'sports'}\n",
            "4\n"
          ],
          "name": "stdout"
        }
      ]
    },
    {
      "cell_type": "code",
      "metadata": {
        "id": "NBGmyHQLddJK"
      },
      "source": [
        "2.\tWrite a Python program to find the sum of all items in a dictionary?"
      ],
      "execution_count": null,
      "outputs": []
    },
    {
      "cell_type": "code",
      "metadata": {
        "colab": {
          "base_uri": "https://localhost:8080/"
        },
        "id": "OkrwecDCfhZb",
        "outputId": "c4f736cc-af88-4e02-a8e2-c5e94ee7335e"
      },
      "source": [
        "def sum_item(dict) :\n",
        "  sum = 0\n",
        "  for i in dict :\n",
        "    sum = sum + dict[i]\n",
        "  return sum\n",
        "\n",
        "dict = {\n",
        "  'x1' : 10,\n",
        "  'x2' : 30,\n",
        "  'x3' : 8,\n",
        "  'x4' : 50,\n",
        "  'x5' : 1  \n",
        "}\n",
        "\n",
        "sum_item(dict)"
      ],
      "execution_count": 20,
      "outputs": [
        {
          "output_type": "execute_result",
          "data": {
            "text/plain": [
              "99"
            ]
          },
          "metadata": {
            "tags": []
          },
          "execution_count": 20
        }
      ]
    },
    {
      "cell_type": "code",
      "metadata": {
        "id": "X20kDuvWfJWV"
      },
      "source": [
        "3.\tWrite a Python program to Merging two Dictionaries?"
      ],
      "execution_count": null,
      "outputs": []
    },
    {
      "cell_type": "code",
      "metadata": {
        "colab": {
          "base_uri": "https://localhost:8080/"
        },
        "id": "59qQKi_pguwu",
        "outputId": "0a5989da-cf71-4713-b1d0-d3829fbd9baf"
      },
      "source": [
        "dict1 = {\n",
        "    'f1' : 11,\n",
        "    'f2' : 12,\n",
        "    'f3' : 13,\n",
        "    'f4' : 14\n",
        "}\n",
        "\n",
        "dict2 = {\n",
        "    'c1' : 89,\n",
        "    'c2' : 90,\n",
        "    'c3' : 91,\n",
        "    'c4' : 92\n",
        "}\n",
        "\n",
        "dict1.update(dict2)\n",
        "print(dict1)"
      ],
      "execution_count": 24,
      "outputs": [
        {
          "output_type": "stream",
          "text": [
            "{'f1': 11, 'f2': 12, 'f3': 13, 'f4': 14, 'c1': 89, 'c2': 90, 'c3': 91, 'c4': 92}\n"
          ],
          "name": "stdout"
        }
      ]
    },
    {
      "cell_type": "code",
      "metadata": {
        "id": "PLgLojBJhghn"
      },
      "source": [
        "4.\tWrite a Python program to convert key-values list to flat dictionary?"
      ],
      "execution_count": null,
      "outputs": []
    },
    {
      "cell_type": "code",
      "metadata": {
        "id": "GU2I0mwHmS46"
      },
      "source": [
        "from itertools import product\n",
        "\n",
        "dict1 = {\n",
        "    'year' : [2017,2018,2019,2020,2021],\n",
        "    'month' : ['jan','feb','march','april','may']\n",
        "}\n",
        "\n",
        "flat_dict = dict(zip(dict1['year'],dict1['month']))\n",
        "print(str(flat_dict))"
      ],
      "execution_count": null,
      "outputs": []
    },
    {
      "cell_type": "code",
      "metadata": {
        "id": "Zs_Btupaoc9e"
      },
      "source": [
        "5.\tWrite a Python program to insertion at the beginning in OrderedDict?"
      ],
      "execution_count": null,
      "outputs": []
    },
    {
      "cell_type": "code",
      "metadata": {
        "colab": {
          "base_uri": "https://localhost:8080/"
        },
        "id": "4JrFi0tApaqt",
        "outputId": "d455a2ce-c596-4f02-90a9-7c31f30c4049"
      },
      "source": [
        "from collections import OrderedDict\n",
        "\n",
        "dict1 = OrderedDict([('ineuron','1'),('sudhanshu','2')])\n",
        "dict2 = OrderedDict([('krish','3'),('darius','4')])\n",
        "\n",
        "add_dict = OrderedDict(list(dict2.items()) + list(dict1.items()) )\n",
        "\n",
        "print(add_dict)"
      ],
      "execution_count": 33,
      "outputs": [
        {
          "output_type": "stream",
          "text": [
            "OrderedDict([('krish', '3'), ('darius', '4'), ('ineuron', '1'), ('sudhanshu', '2')])\n"
          ],
          "name": "stdout"
        }
      ]
    },
    {
      "cell_type": "code",
      "metadata": {
        "id": "z-cnXPDAqhx3"
      },
      "source": [
        "6.\tWrite a Python program to check order of character in string using OrderedDict()?"
      ],
      "execution_count": null,
      "outputs": []
    },
    {
      "cell_type": "code",
      "metadata": {
        "colab": {
          "base_uri": "https://localhost:8080/"
        },
        "id": "-wwlMOSYqxaY",
        "outputId": "b90aa956-8fa0-46cd-962a-899ccc9ba953"
      },
      "source": [
        "\n",
        "from collections import OrderedDict\n",
        "def check_order(my_input, my_pattern):\n",
        "   my_dict = OrderedDict.fromkeys(my_input)\n",
        "   pattern_length = 0\n",
        "   for key,value in my_dict.items():\n",
        "      if (key == my_pattern[pattern_length]):\n",
        "         pattern_length = pattern_length + 1\n",
        "\n",
        "      if (pattern_length == (len(my_pattern))):\n",
        "         return 'The order of pattern is correct'\n",
        "\n",
        "   return 'The order of pattern is incorrect'\n",
        "\n",
        "input = 'Hello everyone. Hope you are going well'\n",
        "input_pattern = 'eve'\n",
        "print(check_order,input_pattern)"
      ],
      "execution_count": 34,
      "outputs": [
        {
          "output_type": "stream",
          "text": [
            "<function check_order at 0x7fafc105d320> eve\n"
          ],
          "name": "stdout"
        }
      ]
    },
    {
      "cell_type": "code",
      "metadata": {
        "id": "B3jR6kO0r8KP"
      },
      "source": [
        "7.\tWrite a Python program to sort Python Dictionaries by Key or Value?"
      ],
      "execution_count": null,
      "outputs": []
    },
    {
      "cell_type": "code",
      "metadata": {
        "colab": {
          "base_uri": "https://localhost:8080/"
        },
        "id": "nqz2DQKosUbl",
        "outputId": "5a7a260d-20dd-4410-f3ca-e660ffbb883b"
      },
      "source": [
        "def dictionary(): \n",
        "      \n",
        " key_value ={}    \n",
        "   \n",
        " key_value[2] = 56       \n",
        " key_value[1] = 2 \n",
        " key_value[5] = 12 \n",
        " key_value[4] = 24\n",
        " key_value[6] = 18      \n",
        " key_value[3] = 323 \n",
        "\n",
        " for i in sorted (key_value) :\n",
        "    print ((i, key_value[i]), end =\" \")\n",
        "dictionary()             \n",
        "      \n",
        "   \n"
      ],
      "execution_count": 35,
      "outputs": [
        {
          "output_type": "stream",
          "text": [
            "(1, 2) (2, 56) (3, 323) (4, 24) (5, 12) (6, 18) "
          ],
          "name": "stdout"
        }
      ]
    }
  ]
}