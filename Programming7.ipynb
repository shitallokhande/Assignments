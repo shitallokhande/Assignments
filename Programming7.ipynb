{
  "nbformat": 4,
  "nbformat_minor": 0,
  "metadata": {
    "colab": {
      "name": "Untitled10.ipynb",
      "provenance": []
    },
    "kernelspec": {
      "name": "python3",
      "display_name": "Python 3"
    },
    "language_info": {
      "name": "python"
    }
  },
  "cells": [
    {
      "cell_type": "markdown",
      "metadata": {
        "id": "QAe0oJGuGzfw"
      },
      "source": [
        "Programming Assignment 7"
      ]
    },
    {
      "cell_type": "code",
      "metadata": {
        "colab": {
          "base_uri": "https://localhost:8080/"
        },
        "id": "3E7Cd9KSG4rK",
        "outputId": "64b7ae8c-7c20-442e-ddbb-83c6826d1563"
      },
      "source": [
        "#Q.1. Write a Python Program to find sum of array?Write a Python Program to find sum of array?\n",
        "\n",
        "arr = []\n",
        "\n",
        "arr = [4,87,90,2,7]\n",
        "\n",
        "sum_arr = sum(arr)\n",
        "\n",
        "print(\"The sum of array is : \" ,sum_arr)"
      ],
      "execution_count": 5,
      "outputs": [
        {
          "output_type": "stream",
          "text": [
            "The sum of array is :  190\n"
          ],
          "name": "stdout"
        }
      ]
    },
    {
      "cell_type": "code",
      "metadata": {
        "colab": {
          "base_uri": "https://localhost:8080/"
        },
        "id": "wfzKpt4YHfnI",
        "outputId": "bae4fa5e-271d-4e71-a427-82d75daa5fa4"
      },
      "source": [
        "#Q.2. Write a Python Program to find largest element in an array?\n",
        "\n",
        "arr = []\n",
        "\n",
        "arr = [98,76,43,90,21]\n",
        "\n",
        "max_arr = max(arr)\n",
        "\n",
        "print(max_arr)"
      ],
      "execution_count": 9,
      "outputs": [
        {
          "output_type": "stream",
          "text": [
            "98\n"
          ],
          "name": "stdout"
        }
      ]
    },
    {
      "cell_type": "code",
      "metadata": {
        "colab": {
          "base_uri": "https://localhost:8080/"
        },
        "id": "ogn8Myo7ILYM",
        "outputId": "8aadd358-79ed-4c1c-9fe9-35dcf4e0358e"
      },
      "source": [
        "#Q.3. Write a Python Program for array rotation?\n",
        "\n",
        "arr = []\n",
        "\n",
        "arr = [1,2,3,4,5,6]\n",
        "\n",
        "arr = arr[4:]+arr[:4]\n",
        "\n",
        "print(arr)"
      ],
      "execution_count": 11,
      "outputs": [
        {
          "output_type": "stream",
          "text": [
            "[5, 6, 1, 2, 3, 4]\n"
          ],
          "name": "stdout"
        }
      ]
    },
    {
      "cell_type": "code",
      "metadata": {
        "colab": {
          "base_uri": "https://localhost:8080/"
        },
        "id": "jUPDgX7CJNie",
        "outputId": "6afd8c20-38f5-47a7-8850-e24dc5791d97"
      },
      "source": [
        "#Q.4. Write a Python Program to Split the array and add the first part to the end?\n",
        "\n",
        "arr = []\n",
        "\n",
        "arr = [9,8,7,6,5,4,3,2,1]\n",
        "\n",
        "arr = arr[2:]+arr[:2]\n",
        "\n",
        "print(arr)"
      ],
      "execution_count": 12,
      "outputs": [
        {
          "output_type": "stream",
          "text": [
            "[7, 6, 5, 4, 3, 2, 1, 9, 8]\n"
          ],
          "name": "stdout"
        }
      ]
    },
    {
      "cell_type": "code",
      "metadata": {
        "colab": {
          "base_uri": "https://localhost:8080/"
        },
        "id": "dtszG01NKOvX",
        "outputId": "aeb932df-03c0-4e29-ea75-4321e431c278"
      },
      "source": [
        "#Q.5. Write a Python Program to check if given array is Monotonic?\n",
        "\n",
        "def isMonotonic(A):\n",
        "  \n",
        "    return (all(A[i] <= A[i + 1] for i in range(len(A) - 1)) or\n",
        "            all(A[i] >= A[i + 1] for i in range(len(A) - 1)))\n",
        "  \n",
        "A = [6,7,8,9]\n",
        "  \n",
        "print(isMonotonic(A))"
      ],
      "execution_count": 13,
      "outputs": [
        {
          "output_type": "stream",
          "text": [
            "True\n"
          ],
          "name": "stdout"
        }
      ]
    }
  ]
}