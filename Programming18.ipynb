{
  "nbformat": 4,
  "nbformat_minor": 0,
  "metadata": {
    "colab": {
      "name": "Untitled31.ipynb",
      "provenance": []
    },
    "kernelspec": {
      "name": "python3",
      "display_name": "Python 3"
    },
    "language_info": {
      "name": "python"
    }
  },
  "cells": [
    {
      "cell_type": "markdown",
      "metadata": {
        "id": "euXWzc3qV0C8"
      },
      "source": [
        "Assignment No. 18"
      ]
    },
    {
      "cell_type": "code",
      "metadata": {
        "id": "VgpP-W3iV68N"
      },
      "source": [
        "1. Create a function that takes a list of non-negative integers and strings and return a new list without the strings."
      ],
      "execution_count": null,
      "outputs": []
    },
    {
      "cell_type": "code",
      "metadata": {
        "colab": {
          "base_uri": "https://localhost:8080/"
        },
        "id": "FlSWn3A3V9WL",
        "outputId": "d988563c-c570-49a6-b1f0-ee2a202a9251"
      },
      "source": [
        "def new_list(list1) :\n",
        "  list2 = []\n",
        "  for i in list1 :\n",
        "    if type(i) == int :\n",
        "      list2.append(i)\n",
        "  return list2\n",
        "\n",
        "list1 = [1,5,7,'a','b',4,6,'c']\n",
        "new_list(list1)"
      ],
      "execution_count": 4,
      "outputs": [
        {
          "output_type": "execute_result",
          "data": {
            "text/plain": [
              "[1, 5, 7, 4, 6]"
            ]
          },
          "metadata": {
            "tags": []
          },
          "execution_count": 4
        }
      ]
    },
    {
      "cell_type": "code",
      "metadata": {
        "id": "unie6hhqWSHu"
      },
      "source": [
        "2. The \"Reverser\" takes a string as input and returns that string in reverse order, with the opposite case."
      ],
      "execution_count": null,
      "outputs": []
    },
    {
      "cell_type": "code",
      "metadata": {
        "colab": {
          "base_uri": "https://localhost:8080/",
          "height": 35
        },
        "id": "MnrkZH7TWt6C",
        "outputId": "585b034e-f864-4453-cab6-13d384b8b2a0"
      },
      "source": [
        "def Reverser(str1):\n",
        "  str2 = str1.swapcase()\n",
        "  str3 = str2[::-1]\n",
        "  return str3\n",
        "\n",
        "str1 = 'For any queries contact us at skype : support@ineuron.ai'\n",
        "Reverser(str1) "
      ],
      "execution_count": 5,
      "outputs": [
        {
          "output_type": "execute_result",
          "data": {
            "application/vnd.google.colaboratory.intrinsic+json": {
              "type": "string"
            },
            "text/plain": [
              "'IA.NORUENI@TROPPUS : EPYKS TA SU TCATNOC SEIREUQ YNA ROf'"
            ]
          },
          "metadata": {
            "tags": []
          },
          "execution_count": 5
        }
      ]
    },
    {
      "cell_type": "code",
      "metadata": {
        "id": "2qKHFpcidPQk"
      },
      "source": [
        "3. You can assign variables from lists like this:\n",
        "lst = [1, 2, 3, 4, 5, 6]\n",
        "first = lst[0]\n",
        "middle = lst[1:-1]\n",
        "last = lst[-1]\n",
        "\n",
        "print(first) ➞ outputs 1\n",
        "print(middle) ➞ outputs [2, 3, 4, 5]\n",
        "print(last) ➞ outputs 6\n",
        "With Python 3, you can assign variables from lists in a much more succinct way. Create variables first, middle and last from the given list using destructuring assignment (check the Resources tab for some examples), where:\n",
        "first  ➞ 1\n",
        "\n",
        "middle ➞ [2, 3, 4, 5]\n",
        "\n",
        "last ➞ 6\n",
        "Your task is to unpack the list writeyourcodehere into three variables, being first, middle, and last, with middle being everything in between the first and last element. Then print all three variables.\n"
      ],
      "execution_count": null,
      "outputs": []
    },
    {
      "cell_type": "code",
      "metadata": {
        "colab": {
          "base_uri": "https://localhost:8080/"
        },
        "id": "VuR8wHwvdR5S",
        "outputId": "712c672d-a467-401f-f5c3-814f0a7e544b"
      },
      "source": [
        "head,*middle, tail = [1,2,3,4,5,6]\n",
        "print(head)\n",
        "print(middle)\n",
        "print(tail)"
      ],
      "execution_count": 31,
      "outputs": [
        {
          "output_type": "stream",
          "text": [
            "1\n",
            "[2, 3, 4, 5]\n",
            "6\n"
          ],
          "name": "stdout"
        }
      ]
    },
    {
      "cell_type": "code",
      "metadata": {
        "id": "R8CmKcPpXhJm"
      },
      "source": [
        "4. Write a function that calculates the factorial of a number recursively."
      ],
      "execution_count": null,
      "outputs": []
    },
    {
      "cell_type": "code",
      "metadata": {
        "colab": {
          "base_uri": "https://localhost:8080/"
        },
        "id": "BKL9SP5vYgNd",
        "outputId": "315922e5-a85d-4311-afe5-75fd91985b7b"
      },
      "source": [
        "def fact(n):\n",
        "  if n == 0:\n",
        "   return 1\n",
        "  return n * fact(n-1)\n",
        "   \n",
        "num = 5;\n",
        "print(\"Factorial of\", num, \"is\",fact(num))"
      ],
      "execution_count": 8,
      "outputs": [
        {
          "output_type": "stream",
          "text": [
            "Factorial of 5 is 120\n"
          ],
          "name": "stdout"
        }
      ]
    },
    {
      "cell_type": "code",
      "metadata": {
        "id": "UYw9Aw-QYuPv"
      },
      "source": [
        "5. Write a function that moves all elements of one type to the end of the list."
      ],
      "execution_count": null,
      "outputs": []
    },
    {
      "cell_type": "code",
      "metadata": {
        "colab": {
          "base_uri": "https://localhost:8080/"
        },
        "id": "2G2UQp62ZlES",
        "outputId": "37358710-951e-4eab-8f28-55eb6c3f8dc3"
      },
      "source": [
        "test_list = ([1, 3, 2, 4, 4, 1], 1) \n",
        "test_list = test_list[::-1]\n",
        "print(test_list)"
      ],
      "execution_count": 25,
      "outputs": [
        {
          "output_type": "stream",
          "text": [
            "(1, [1, 3, 2, 4, 4, 1])\n"
          ],
          "name": "stdout"
        }
      ]
    }
  ]
}