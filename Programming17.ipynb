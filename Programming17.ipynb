{
  "nbformat": 4,
  "nbformat_minor": 0,
  "metadata": {
    "colab": {
      "name": "Untitled36.ipynb",
      "provenance": []
    },
    "kernelspec": {
      "name": "python3",
      "display_name": "Python 3"
    },
    "language_info": {
      "name": "python"
    }
  },
  "cells": [
    {
      "cell_type": "markdown",
      "metadata": {
        "id": "BcQc5nc1potK"
      },
      "source": [
        "Programming Assignment No. 17"
      ]
    },
    {
      "cell_type": "code",
      "metadata": {
        "id": "Sy5JfAkvpuf1"
      },
      "source": [
        "Question1. Create a function that takes three arguments a, b, c and returns the sum of the numbers that are evenly divided by c from the range a, b inclusive.\n",
        "Examples\n",
        "evenly_divisible(1, 10, 20) ➞ 0\n",
        "# No number between 1 and 10 can be evenly divided by 20.\n",
        "\n",
        "evenly_divisible(1, 10, 2) ➞ 30\n",
        "# 2 + 4 + 6 + 8 + 10 = 30\n",
        "\n",
        "evenly_divisible(1, 10, 3) ➞ 18\n",
        "# 3 + 6 + 9 = 18"
      ],
      "execution_count": null,
      "outputs": []
    },
    {
      "cell_type": "code",
      "metadata": {
        "colab": {
          "base_uri": "https://localhost:8080/"
        },
        "id": "ElPPuVGJpveR",
        "outputId": "aa90c8ed-ea1f-4160-a0c9-b70605d53f8b"
      },
      "source": [
        "def evenly_divisible(a,b,c) :\n",
        " s = 0\n",
        " for i in range(a ,b+1):\n",
        "  if (i % c) == 0 :\n",
        "   s = s + i\n",
        " print(s)\n",
        "\n",
        "evenly_divisible(1,10,20)\n"
      ],
      "execution_count": 27,
      "outputs": [
        {
          "output_type": "stream",
          "text": [
            "0\n"
          ],
          "name": "stdout"
        }
      ]
    },
    {
      "cell_type": "code",
      "metadata": {
        "colab": {
          "base_uri": "https://localhost:8080/"
        },
        "id": "A4cXMjO3sbRl",
        "outputId": "51708416-2dd8-45e6-f38e-7cc3d3a7d178"
      },
      "source": [
        "evenly_divisible(1,10,2)  "
      ],
      "execution_count": 28,
      "outputs": [
        {
          "output_type": "stream",
          "text": [
            "30\n"
          ],
          "name": "stdout"
        }
      ]
    },
    {
      "cell_type": "code",
      "metadata": {
        "colab": {
          "base_uri": "https://localhost:8080/"
        },
        "id": "Phm-444Cs3OA",
        "outputId": "d5fc2bb8-01d3-4018-9c9f-08b29db69011"
      },
      "source": [
        "evenly_divisible(1,10,3)"
      ],
      "execution_count": 29,
      "outputs": [
        {
          "output_type": "stream",
          "text": [
            "18\n"
          ],
          "name": "stdout"
        }
      ]
    },
    {
      "cell_type": "code",
      "metadata": {
        "id": "oX9HCtFus4jX"
      },
      "source": [
        "Question2. Create a function that returns True if a given inequality expression is correct and False otherwise.\n",
        "Examples\n",
        "correct_signs(\"3 < 7 < 11\") ➞ True\n",
        "\n",
        "correct_signs(\"13 > 44 > 33 > 1\") ➞ False\n",
        "\n",
        "correct_signs(\"1 < 2 < 6 < 9 > 3\") ➞ True"
      ],
      "execution_count": null,
      "outputs": []
    },
    {
      "cell_type": "code",
      "metadata": {
        "colab": {
          "base_uri": "https://localhost:8080/"
        },
        "id": "-RZAabjDs9dN",
        "outputId": "bd1ceebb-823e-49e8-fccd-1a2503a3c556"
      },
      "source": [
        "def correct_signs(input):\n",
        "  print(bool((input)))\n",
        "\n",
        "correct_signs(3 < 7 < 11)"
      ],
      "execution_count": 40,
      "outputs": [
        {
          "output_type": "stream",
          "text": [
            "True\n"
          ],
          "name": "stdout"
        }
      ]
    },
    {
      "cell_type": "code",
      "metadata": {
        "colab": {
          "base_uri": "https://localhost:8080/"
        },
        "id": "Z7BsjOaSvMzh",
        "outputId": "41e4cd1d-48b0-42d2-f3dd-da8c1cb1d794"
      },
      "source": [
        "correct_signs(13 > 44 > 33 > 1)"
      ],
      "execution_count": 41,
      "outputs": [
        {
          "output_type": "stream",
          "text": [
            "False\n"
          ],
          "name": "stdout"
        }
      ]
    },
    {
      "cell_type": "code",
      "metadata": {
        "colab": {
          "base_uri": "https://localhost:8080/"
        },
        "id": "hjnX_-R7vPIL",
        "outputId": "267a3063-012e-4181-ded1-bfeeeb5e9dc3"
      },
      "source": [
        "correct_signs(1 < 2 < 6 < 9 > 3)"
      ],
      "execution_count": 42,
      "outputs": [
        {
          "output_type": "stream",
          "text": [
            "True\n"
          ],
          "name": "stdout"
        }
      ]
    },
    {
      "cell_type": "code",
      "metadata": {
        "id": "pqWNoHZ0vQtk"
      },
      "source": [
        "Question3. Create a function that replaces all the vowels in a string with a specified character.\n",
        "Examples\n",
        "replace_vowels(\"the aardvark\", \"#\") ➞ \"th# ##rdv#rk\"\n",
        "\n",
        "replace_vowels(\"minnie mouse\", \"?\") ➞ \"m?nn?? m??s?\"\n",
        "\n",
        "replace_vowels(\"shakespeare\", \"*\") ➞ \"sh*k*sp**r*\""
      ],
      "execution_count": null,
      "outputs": []
    },
    {
      "cell_type": "code",
      "metadata": {
        "colab": {
          "base_uri": "https://localhost:8080/"
        },
        "id": "BmfIlVBOwLN9",
        "outputId": "880cf26a-98e9-462b-a233-5ed660180ab8"
      },
      "source": [
        "def replace_vowels(data,r) : \n",
        "  for i in data :\n",
        "   if i in \"aeiouAEIOU\" :\n",
        "    s = data.replace(i,r)\n",
        "  print(s)\n",
        "\n",
        "replace_vowels(\"the aardvark\", \"#\")"
      ],
      "execution_count": 88,
      "outputs": [
        {
          "output_type": "stream",
          "text": [
            "the ##rdv#rk\n"
          ],
          "name": "stdout"
        }
      ]
    },
    {
      "cell_type": "code",
      "metadata": {
        "colab": {
          "base_uri": "https://localhost:8080/"
        },
        "id": "OyO7hS-gwyI8",
        "outputId": "de606dc8-e71d-46ea-e177-1fb5780f3d2d"
      },
      "source": [
        "replace_vowels(\"minnie mouse\", \"?\")"
      ],
      "execution_count": 89,
      "outputs": [
        {
          "output_type": "stream",
          "text": [
            "minni? mous?\n"
          ],
          "name": "stdout"
        }
      ]
    },
    {
      "cell_type": "code",
      "metadata": {
        "colab": {
          "base_uri": "https://localhost:8080/"
        },
        "id": "amwdG0GIyde0",
        "outputId": "51020bab-5e87-41f5-c3c9-fb6e968da82e"
      },
      "source": [
        "replace_vowels(\"shakespeare\", \"*\")"
      ],
      "execution_count": 90,
      "outputs": [
        {
          "output_type": "stream",
          "text": [
            "shak*sp*ar*\n"
          ],
          "name": "stdout"
        }
      ]
    },
    {
      "cell_type": "code",
      "metadata": {
        "id": "lNwixbp_y3As"
      },
      "source": [
        "Question4. Write a function that calculates the factorial of a number recursively.\n",
        "Examples\n",
        "factorial(5) ➞ 120\n",
        "\n",
        "factorial(3) ➞ 6\n",
        "\n",
        "factorial(1) ➞ 1\n",
        "\n",
        "factorial(0) ➞ 1"
      ],
      "execution_count": null,
      "outputs": []
    },
    {
      "cell_type": "code",
      "metadata": {
        "colab": {
          "base_uri": "https://localhost:8080/"
        },
        "id": "jCPmQpm1zfAW",
        "outputId": "c2654567-70b2-42bf-aee2-1d399e393e74"
      },
      "source": [
        "def factorial(f):\n",
        "  for i in range(1,f):\n",
        "    f = f*i\n",
        "  print(f)\n",
        "factorial(5)"
      ],
      "execution_count": 68,
      "outputs": [
        {
          "output_type": "stream",
          "text": [
            "120\n"
          ],
          "name": "stdout"
        }
      ]
    },
    {
      "cell_type": "code",
      "metadata": {
        "colab": {
          "base_uri": "https://localhost:8080/"
        },
        "id": "OWz6yUIbzw9_",
        "outputId": "737f1f23-4d61-47ca-c83f-67474e21397d"
      },
      "source": [
        "factorial(3)"
      ],
      "execution_count": 70,
      "outputs": [
        {
          "output_type": "stream",
          "text": [
            "6\n"
          ],
          "name": "stdout"
        }
      ]
    },
    {
      "cell_type": "code",
      "metadata": {
        "colab": {
          "base_uri": "https://localhost:8080/"
        },
        "id": "3R_ThLyXz2Gj",
        "outputId": "e374b9f3-5815-4d5b-9cb0-359f0f9e97f3"
      },
      "source": [
        "factorial(1)"
      ],
      "execution_count": 71,
      "outputs": [
        {
          "output_type": "stream",
          "text": [
            "1\n"
          ],
          "name": "stdout"
        }
      ]
    },
    {
      "cell_type": "code",
      "metadata": {
        "colab": {
          "base_uri": "https://localhost:8080/"
        },
        "id": "yV_-N7Xez9E_",
        "outputId": "525fd5c6-51b4-49a5-e6db-2c10036bf7a9"
      },
      "source": [
        "factorial(0)"
      ],
      "execution_count": 72,
      "outputs": [
        {
          "output_type": "stream",
          "text": [
            "0\n"
          ],
          "name": "stdout"
        }
      ]
    },
    {
      "cell_type": "code",
      "metadata": {
        "id": "r8VB1f20z-M1"
      },
      "source": [
        "Question 5\n",
        "Hamming distance is the number of characters that differ between two strings.\n",
        "To illustrate:\n",
        "String1: \"abcbba\"\n",
        "String2: \"abcbda\"\n",
        "\n",
        "Hamming Distance: 1 - \"b\" vs. \"d\" is the only difference.\n",
        "Create a function that computes the hamming distance between two strings.\n",
        "Examples\n",
        "hamming_distance(\"abcde\", \"bcdef\") ➞ 5\n",
        "\n",
        "hamming_distance(\"abcde\", \"abcde\") ➞ 0\n",
        "\n",
        "hamming_distance(\"strong\", \"strung\") ➞ 1"
      ],
      "execution_count": null,
      "outputs": []
    },
    {
      "cell_type": "code",
      "metadata": {
        "id": "XGsxQOOW1XiI"
      },
      "source": [
        "def hamming_distance(a, b):\n",
        "    count =0\n",
        "    for x, y in zip(a, b):\n",
        "        if x == y:\n",
        "          pass \n",
        "        else :\n",
        "          count += 1\n",
        "    return count"
      ],
      "execution_count": 83,
      "outputs": []
    },
    {
      "cell_type": "code",
      "metadata": {
        "colab": {
          "base_uri": "https://localhost:8080/"
        },
        "id": "bytU20pe25Vh",
        "outputId": "4ef849e9-7c7d-4629-92d2-c07020204236"
      },
      "source": [
        "compare('abcde','bcdef')"
      ],
      "execution_count": 84,
      "outputs": [
        {
          "output_type": "execute_result",
          "data": {
            "text/plain": [
              "5"
            ]
          },
          "metadata": {
            "tags": []
          },
          "execution_count": 84
        }
      ]
    },
    {
      "cell_type": "code",
      "metadata": {
        "colab": {
          "base_uri": "https://localhost:8080/"
        },
        "id": "24zprhVy29o-",
        "outputId": "8b505cd2-1ebb-445b-ef06-bada7a5f10c7"
      },
      "source": [
        "hamming_distance(\"abcde\", \"abcde\")"
      ],
      "execution_count": 85,
      "outputs": [
        {
          "output_type": "execute_result",
          "data": {
            "text/plain": [
              "0"
            ]
          },
          "metadata": {
            "tags": []
          },
          "execution_count": 85
        }
      ]
    },
    {
      "cell_type": "code",
      "metadata": {
        "colab": {
          "base_uri": "https://localhost:8080/"
        },
        "id": "xqNmgqb33gO1",
        "outputId": "f9b841f2-8039-495f-e177-00b6f1999ca5"
      },
      "source": [
        "hamming_distance(\"strong\", \"strung\") "
      ],
      "execution_count": 87,
      "outputs": [
        {
          "output_type": "execute_result",
          "data": {
            "text/plain": [
              "1"
            ]
          },
          "metadata": {
            "tags": []
          },
          "execution_count": 87
        }
      ]
    }
  ]
}