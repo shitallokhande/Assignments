{
 "cells": [
  {
   "cell_type": "markdown",
   "metadata": {},
   "source": [
    "                                           Assignment 2 - Basic Python"
   ]
  },
  {
   "cell_type": "markdown",
   "metadata": {},
   "source": [
    "1. What are the Boolean data type's two values? How do you go about writing them?\n",
    "\n",
    "There are two Boolean data type : TRUE and FALSE\n",
    "If the given expression is correct it will return TRUE(1) and if it is wrong it will return FALSE(0)\n",
    "Example :"
   ]
  },
  {
   "cell_type": "code",
   "execution_count": 9,
   "metadata": {
    "scrolled": true
   },
   "outputs": [
    {
     "name": "stdout",
     "output_type": "stream",
     "text": [
      "False\n"
     ]
    }
   ],
   "source": [
    "print(1>2)                      #Prints false because 1 is not greater than 2"
   ]
  },
  {
   "cell_type": "code",
   "execution_count": 10,
   "metadata": {
    "scrolled": true
   },
   "outputs": [
    {
     "name": "stdout",
     "output_type": "stream",
     "text": [
      "True\n"
     ]
    }
   ],
   "source": [
    "print(9==9)                     #Prints true because 9 = 9"
   ]
  },
  {
   "cell_type": "code",
   "execution_count": null,
   "metadata": {},
   "outputs": [],
   "source": [
    "2. What are the three different types of Boolean operators?\n",
    "- Boolean AND\n",
    "- Boolean OR\n",
    "- Boolean NOT"
   ]
  },
  {
   "cell_type": "code",
   "execution_count": null,
   "metadata": {},
   "outputs": [],
   "source": [
    "3. Make a list of each Boolean operator's truth tables (i.e. every possible combination of Boolean values for \n",
    "the operator and what it evaluate ).\n",
    "\n",
    "i. Truth table for Boolean AND \n",
    "\n",
    "A       B       A AND B\n",
    "false  false    false\n",
    "false  true     false\n",
    "true   false    false\n",
    "true   true     true\n",
    "\n",
    "ii. Truth table for Boolean OR \n",
    "   \n",
    "A       B       A OR B\n",
    "false  false    false\n",
    "false  true     true\n",
    "true   false    true\n",
    "true   true     true\n",
    "\n",
    "iii. Truth table for Boolean NOT\n",
    "\n",
    "A      NOT A\n",
    "\n",
    "false   true\n",
    "true    false"
   ]
  },
  {
   "cell_type": "code",
   "execution_count": 3,
   "metadata": {
    "scrolled": true
   },
   "outputs": [
    {
     "name": "stdout",
     "output_type": "stream",
     "text": [
      "False\n",
      "True\n",
      "[False, False, True, False]\n"
     ]
    }
   ],
   "source": [
    "    #Example : Perform boolean operations on a list\n",
    "    list1 = [True,True,False,True]\n",
    "    \n",
    "    print(all(list1))\n",
    "    \n",
    "    print(any(list1))\n",
    "    \n",
    "    print([not x for x in list1])"
   ]
  },
  {
   "cell_type": "markdown",
   "metadata": {},
   "source": [
    "4. What are the values of the following expressions?\n"
   ]
  },
  {
   "cell_type": "code",
   "execution_count": 1,
   "metadata": {},
   "outputs": [
    {
     "data": {
      "text/plain": [
       "False"
      ]
     },
     "execution_count": 1,
     "metadata": {},
     "output_type": "execute_result"
    }
   ],
   "source": [
    "(5 > 4) and (3 == 5)"
   ]
  },
  {
   "cell_type": "code",
   "execution_count": 2,
   "metadata": {},
   "outputs": [
    {
     "data": {
      "text/plain": [
       "False"
      ]
     },
     "execution_count": 2,
     "metadata": {},
     "output_type": "execute_result"
    }
   ],
   "source": [
    "not (5 > 4)"
   ]
  },
  {
   "cell_type": "code",
   "execution_count": 3,
   "metadata": {},
   "outputs": [
    {
     "data": {
      "text/plain": [
       "True"
      ]
     },
     "execution_count": 3,
     "metadata": {},
     "output_type": "execute_result"
    }
   ],
   "source": [
    "(5 > 4) or (3 == 5)"
   ]
  },
  {
   "cell_type": "code",
   "execution_count": 4,
   "metadata": {},
   "outputs": [
    {
     "data": {
      "text/plain": [
       "False"
      ]
     },
     "execution_count": 4,
     "metadata": {},
     "output_type": "execute_result"
    }
   ],
   "source": [
    "not ((5 > 4) or (3 == 5))"
   ]
  },
  {
   "cell_type": "code",
   "execution_count": 5,
   "metadata": {},
   "outputs": [
    {
     "data": {
      "text/plain": [
       "False"
      ]
     },
     "execution_count": 5,
     "metadata": {},
     "output_type": "execute_result"
    }
   ],
   "source": [
    "(True and True) and (True == False)"
   ]
  },
  {
   "cell_type": "code",
   "execution_count": 6,
   "metadata": {},
   "outputs": [
    {
     "data": {
      "text/plain": [
       "True"
      ]
     },
     "execution_count": 6,
     "metadata": {},
     "output_type": "execute_result"
    }
   ],
   "source": [
    "(not False) or (not True)"
   ]
  },
  {
   "cell_type": "markdown",
   "metadata": {},
   "source": [
    "6. How do you tell the difference between the equal to and assignment operators?\n",
    "\n",
    "Equal to(==) operator is used to compare id two operators are equal or not. While assignment(=) operator is used to assign a value to a variable."
   ]
  },
  {
   "cell_type": "code",
   "execution_count": 6,
   "metadata": {},
   "outputs": [
    {
     "name": "stdout",
     "output_type": "stream",
     "text": [
      "This is equal to operartor’s working\n"
     ]
    }
   ],
   "source": [
    "#Example : \n",
    "a = 10                                  #assignment\n",
    "if(2==2) :                              #equal to\n",
    " print(\"This is equal to operartor’s working\") "
   ]
  },
  {
   "cell_type": "markdown",
   "metadata": {},
   "source": [
    "7. Describe a condition and when you would use one.\n",
    "\n",
    "Used in if and while loops. We can use equal to operator to test a condition and take action accordingly.\n",
    "Example the school would plan a school trip only if numbers of students coming to thr trip are greator than 100."
   ]
  },
  {
   "cell_type": "code",
   "execution_count": 8,
   "metadata": {},
   "outputs": [
    {
     "name": "stdout",
     "output_type": "stream",
     "text": [
      "Number of students coming for trip20\n",
      "Trip is cancelled\n"
     ]
    }
   ],
   "source": [
    "i = int(input(\"Number of students coming for trip\"))\n",
    "if i>=100:\n",
    "    print('School would go to trip')\n",
    "else :\n",
    "    print('Trip is cancelled')"
   ]
  },
  {
   "cell_type": "markdown",
   "metadata": {},
   "source": [
    "8. Recognize the following three blocks in this code:\n",
    "\n",
    "#This is 1st block\n",
    "spam = 0\n",
    "if spam == 10:   \n",
    "    print('eggs')\n",
    "    #This is 2nd block\n",
    "    if spam > 5:           \n",
    "        print('bacon')\n",
    "        #This is 3rd block\n",
    "    else:                  \n",
    "        print('ham')\n",
    "    print('spam')\n",
    "print('spam')\n"
   ]
  },
  {
   "cell_type": "code",
   "execution_count": 24,
   "metadata": {
    "scrolled": true
   },
   "outputs": [
    {
     "name": "stdout",
     "output_type": "stream",
     "text": [
      "Enter spam value 5\n",
      "Something else\n"
     ]
    }
   ],
   "source": [
    "'''' 9. Create a programme that prints. If 1 is stored in spam, prints Hello; if 2 is stored in spam, prints Howdy; \n",
    "and if 3 is stored in spam, prints Salutations! if there's something else in spam '''\n",
    "\n",
    "spam = int(input('Enter spam value '))\n",
    "\n",
    "if spam == 1 :\n",
    " print(\"Hello\")\n",
    "elif spam == 2 :\n",
    " print(\"Howdy\")\n",
    "elif spam == 3 :\n",
    " print(\"Salutations\")\n",
    "else :\n",
    " print(\"Something else\")"
   ]
  },
  {
   "cell_type": "markdown",
   "metadata": {},
   "source": [
    "10.If your programme is stuck in an endless loop, what keys can you press?\n",
    "- Press ctrl+c or ctrl+z"
   ]
  },
  {
   "cell_type": "markdown",
   "metadata": {},
   "source": [
    "11. How can you tell the difference between break and continue?\n",
    "\n",
    "Break leaves the loop completely and executes the statements after the loop. Whereas Continue leaves the current iteration and executes with the next value in the loop. \n",
    "Break completely exits the loop. continue skips the statements after the continue statement and keeps looping."
   ]
  },
  {
   "cell_type": "markdown",
   "metadata": {},
   "source": [
    "12. In a for loop, what is the difference between range(10), range(0, 10), and range(0, 10, 1)?\n",
    "\n",
    "range(10)- defines range from 0 to 10\n",
    "\n",
    "range(0,10) - defines range from 0 to 10\n",
    "\n",
    "range(0,10,1) - defines range from 0 to 10 with step size of 1"
   ]
  },
  {
   "cell_type": "code",
   "execution_count": 27,
   "metadata": {
    "scrolled": true
   },
   "outputs": [
    {
     "name": "stdout",
     "output_type": "stream",
     "text": [
      "1 \n",
      "\n",
      "2 \n",
      "\n",
      "3 \n",
      "\n",
      "4 \n",
      "\n",
      "5 \n",
      "\n",
      "6 \n",
      "\n",
      "7 \n",
      "\n",
      "8 \n",
      "\n",
      "9 \n",
      "\n",
      "10 \n",
      "\n",
      "0 \n",
      "\n",
      "1 \n",
      "\n",
      "2 \n",
      "\n",
      "3 \n",
      "\n",
      "4 \n",
      "\n",
      "5 \n",
      "\n",
      "6 \n",
      "\n",
      "7 \n",
      "\n",
      "8 \n",
      "\n",
      "9 \n",
      "\n",
      "10 \n",
      "\n"
     ]
    }
   ],
   "source": [
    "#13. Using a for loop, write a short programme that prints the numbers 1 to 10 Then, using a while loop, \n",
    "#create an identical programme that prints the numbers 1 to 10.\n",
    "\n",
    "for i in range(1,11):\n",
    "  print(i,\"\\n\")\n",
    "\n",
    "i=0\n",
    "while i <= 10:\n",
    "  print(i,\"\\n\")\n",
    "  i+=1\n"
   ]
  },
  {
   "cell_type": "markdown",
   "metadata": {},
   "source": [
    "14. If you had a bacon() function within a spam module, what would you call it after importing spam?\n",
    "\n",
    "import spam\n",
    "spam.module"
   ]
  }
 ],
 "metadata": {
  "kernelspec": {
   "display_name": "Python 3",
   "language": "python",
   "name": "python3"
  },
  "language_info": {
   "codemirror_mode": {
    "name": "ipython",
    "version": 3
   },
   "file_extension": ".py",
   "mimetype": "text/x-python",
   "name": "python",
   "nbconvert_exporter": "python",
   "pygments_lexer": "ipython3",
   "version": "3.6.11"
  }
 },
 "nbformat": 4,
 "nbformat_minor": 4
}
