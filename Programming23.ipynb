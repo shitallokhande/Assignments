{
  "nbformat": 4,
  "nbformat_minor": 0,
  "metadata": {
    "colab": {
      "name": "Untitled43.ipynb",
      "provenance": []
    },
    "kernelspec": {
      "name": "python3",
      "display_name": "Python 3"
    },
    "language_info": {
      "name": "python"
    }
  },
  "cells": [
    {
      "cell_type": "markdown",
      "metadata": {
        "id": "9MFaCSExWzZt"
      },
      "source": [
        "Programming Assignment No. 23"
      ]
    },
    {
      "cell_type": "code",
      "metadata": {
        "id": "SjOZ1Kw-W5BO"
      },
      "source": [
        "Question 1\n",
        "Create a function that takes a number as an argument and returns True or False depending on whether the number is symmetrical or not. \n",
        "A number is symmetrical when it is the same as its reverse.\n",
        "Examples\n",
        "is_symmetrical(7227) ➞ True\n",
        "\n",
        "is_symmetrical(12567) ➞ False\n",
        "\n",
        "is_symmetrical(44444444) ➞ True\n",
        "\n",
        "is_symmetrical(9939) ➞ False\n",
        "\n",
        "is_symmetrical(1112111) ➞ True"
      ],
      "execution_count": null,
      "outputs": []
    },
    {
      "cell_type": "code",
      "metadata": {
        "colab": {
          "base_uri": "https://localhost:8080/"
        },
        "id": "ebtKPLCdXevT",
        "outputId": "827c4bae-1e5b-4cef-e9f5-abe30124d4ec"
      },
      "source": [
        "def is_symmetrical(n) :\n",
        " if str(n) == str(n)[::-1]:\n",
        "  print('True')\n",
        " else:\n",
        "  print('False')\n",
        "\n",
        "is_symmetrical(7227)   "
      ],
      "execution_count": 5,
      "outputs": [
        {
          "output_type": "stream",
          "text": [
            "True\n"
          ],
          "name": "stdout"
        }
      ]
    },
    {
      "cell_type": "code",
      "metadata": {
        "colab": {
          "base_uri": "https://localhost:8080/"
        },
        "id": "vAylgbxiZNSt",
        "outputId": "44748cf5-c7a1-47ef-bf82-3296bc7d20eb"
      },
      "source": [
        "is_symmetrical(12567)"
      ],
      "execution_count": 6,
      "outputs": [
        {
          "output_type": "stream",
          "text": [
            "False\n"
          ],
          "name": "stdout"
        }
      ]
    },
    {
      "cell_type": "code",
      "metadata": {
        "id": "AYGce275XrFx"
      },
      "source": [
        "is_symmetrical(44444444)"
      ],
      "execution_count": 6,
      "outputs": []
    },
    {
      "cell_type": "code",
      "metadata": {
        "colab": {
          "base_uri": "https://localhost:8080/"
        },
        "id": "U2sfD_pRZSuc",
        "outputId": "589853b4-786e-4665-aa7d-355aa9eb8fc5"
      },
      "source": [
        "is_symmetrical(9939)"
      ],
      "execution_count": 7,
      "outputs": [
        {
          "output_type": "stream",
          "text": [
            "False\n"
          ],
          "name": "stdout"
        }
      ]
    },
    {
      "cell_type": "code",
      "metadata": {
        "colab": {
          "base_uri": "https://localhost:8080/"
        },
        "id": "1A8KWgFsZSx3",
        "outputId": "51f02c20-9417-4106-8011-f464a7be62b4"
      },
      "source": [
        "is_symmetrical(1112111)"
      ],
      "execution_count": 8,
      "outputs": [
        {
          "output_type": "stream",
          "text": [
            "True\n"
          ],
          "name": "stdout"
        }
      ]
    },
    {
      "cell_type": "code",
      "metadata": {
        "id": "9OSdk-2wZXhO"
      },
      "source": [
        "Question 2\n",
        "Given a string of numbers separated by a comma and space, return the product of the numbers.\n",
        "Examples\n",
        "multiply_nums(\"2, 3\") ➞ 6\n",
        "\n",
        "multiply_nums(\"1, 2, 3, 4\") ➞ 24\n",
        "\n",
        "multiply_nums(\"54, 75, 453, 0\") ➞ 0\n",
        "\n",
        "multiply_nums(\"10, -2\") ➞ -20"
      ],
      "execution_count": null,
      "outputs": []
    },
    {
      "cell_type": "code",
      "metadata": {
        "id": "ANaKCg7HZjaK"
      },
      "source": [
        "Question 3\n",
        "Create a function that squares every digit of a number.\n",
        "Examples\n",
        "square_digits(9119) ➞ 811181\n",
        "\n",
        "square_digits(2483) ➞ 416649\n",
        "\n",
        "square_digits(3212) ➞ 9414\n",
        "Notes\n",
        "The function receives an integer and must return an integer."
      ],
      "execution_count": null,
      "outputs": []
    },
    {
      "cell_type": "code",
      "metadata": {
        "colab": {
          "base_uri": "https://localhost:8080/"
        },
        "id": "GNA5yZDjauEc",
        "outputId": "c9297b34-2d48-4f69-a061-b6ba6c26309f"
      },
      "source": [
        "def square_digits(num):\n",
        "    words = list(str(num)) \n",
        "    for i in words: \n",
        "        print(int(i)**2, end=\"\") \n",
        "\n",
        "num = 9119\n",
        "square_digits(num)"
      ],
      "execution_count": 21,
      "outputs": [
        {
          "output_type": "stream",
          "text": [
            "811181"
          ],
          "name": "stdout"
        }
      ]
    },
    {
      "cell_type": "code",
      "metadata": {
        "colab": {
          "base_uri": "https://localhost:8080/"
        },
        "id": "w9dNlhDpbMhS",
        "outputId": "f4f058ef-50ac-4ead-a88a-44b136379cb5"
      },
      "source": [
        "square_digits(2483)"
      ],
      "execution_count": 22,
      "outputs": [
        {
          "output_type": "stream",
          "text": [
            "416649"
          ],
          "name": "stdout"
        }
      ]
    },
    {
      "cell_type": "code",
      "metadata": {
        "colab": {
          "base_uri": "https://localhost:8080/"
        },
        "id": "XBEZbOTdbiy1",
        "outputId": "c7bcb4bd-1972-44f4-f673-031b834296c1"
      },
      "source": [
        "square_digits(3212)"
      ],
      "execution_count": 23,
      "outputs": [
        {
          "output_type": "stream",
          "text": [
            "9414"
          ],
          "name": "stdout"
        }
      ]
    },
    {
      "cell_type": "code",
      "metadata": {
        "id": "B8dJECQHbjnB"
      },
      "source": [
        "Question 4\n",
        "Create a function that sorts a list and removes all duplicate items from it.\n",
        "Examples\n",
        "setify([1, 3, 3, 5, 5]) ➞ [1, 3, 5]\n",
        "\n",
        "setify([4, 4, 4, 4]) ➞ [4]\n",
        "\n",
        "setify([5, 7, 8, 9, 10, 15]) ➞ [5, 7, 8, 9, 10, 15]\n",
        "\n",
        "setify([3, 3, 3, 2, 1]) ➞ [1, 2, 3]"
      ],
      "execution_count": null,
      "outputs": []
    },
    {
      "cell_type": "code",
      "metadata": {
        "colab": {
          "base_uri": "https://localhost:8080/"
        },
        "id": "_6guJYWfboXg",
        "outputId": "9e0ab4a7-2a11-428e-fa8d-d6114e911dc3"
      },
      "source": [
        "def setify(l):\n",
        "  l1=[]\n",
        "  l2 = set(l)\n",
        "  l1 = list(l2)\n",
        "  return l1\n",
        "setify([1,3,3,5,5])"
      ],
      "execution_count": 25,
      "outputs": [
        {
          "output_type": "execute_result",
          "data": {
            "text/plain": [
              "[1, 3, 5]"
            ]
          },
          "metadata": {
            "tags": []
          },
          "execution_count": 25
        }
      ]
    },
    {
      "cell_type": "code",
      "metadata": {
        "colab": {
          "base_uri": "https://localhost:8080/"
        },
        "id": "2RYyORKVb3ZP",
        "outputId": "c21d395f-2455-401f-9cb2-5f87be19573b"
      },
      "source": [
        "setify([4, 4, 4, 4])"
      ],
      "execution_count": 26,
      "outputs": [
        {
          "output_type": "execute_result",
          "data": {
            "text/plain": [
              "[4]"
            ]
          },
          "metadata": {
            "tags": []
          },
          "execution_count": 26
        }
      ]
    },
    {
      "cell_type": "code",
      "metadata": {
        "colab": {
          "base_uri": "https://localhost:8080/"
        },
        "id": "DWdDikTFb95d",
        "outputId": "31039e22-1e5b-441b-9087-238a219ee96f"
      },
      "source": [
        "setify([5, 7, 8, 9, 10, 15])"
      ],
      "execution_count": 27,
      "outputs": [
        {
          "output_type": "execute_result",
          "data": {
            "text/plain": [
              "[5, 7, 8, 9, 10, 15]"
            ]
          },
          "metadata": {
            "tags": []
          },
          "execution_count": 27
        }
      ]
    },
    {
      "cell_type": "code",
      "metadata": {
        "colab": {
          "base_uri": "https://localhost:8080/"
        },
        "id": "2t46s-aCcA-P",
        "outputId": "8d36fe0c-c469-4d17-8e61-aa00d90608dc"
      },
      "source": [
        "setify([3, 3, 3, 2, 1])"
      ],
      "execution_count": 28,
      "outputs": [
        {
          "output_type": "execute_result",
          "data": {
            "text/plain": [
              "[1, 2, 3]"
            ]
          },
          "metadata": {
            "tags": []
          },
          "execution_count": 28
        }
      ]
    },
    {
      "cell_type": "code",
      "metadata": {
        "id": "PMkOjjSgcCop"
      },
      "source": [
        "Question 5\n",
        "Create a function that returns the mean of all digits.\n",
        "Examples\n",
        "mean(42) ➞ 3\n",
        "\n",
        "mean(12345) ➞ 3\n",
        "\n",
        "mean(666) ➞ 6\n",
        "Notes\n",
        "•\tThe mean of all digits is the sum of digits / how many digits there are (e.g. mean of digits in 512 is (5+1+2)/3(number of digits) = 8/3=2).\n",
        "•\tThe mean will always be an integer."
      ],
      "execution_count": null,
      "outputs": []
    },
    {
      "cell_type": "code",
      "metadata": {
        "colab": {
          "base_uri": "https://localhost:8080/"
        },
        "id": "vRubCy-OcVug",
        "outputId": "b7befa09-1bae-4424-b4fc-da74b35af884"
      },
      "source": [
        "def mean(n):\n",
        "  s=0\n",
        "  #l = len(str(n))\n",
        "  for i in str(n):\n",
        "    s = s+int(i)\n",
        "  #o =s/l\n",
        "  return s/len(str(n))\n",
        "mean(42)"
      ],
      "execution_count": 43,
      "outputs": [
        {
          "output_type": "execute_result",
          "data": {
            "text/plain": [
              "3.0"
            ]
          },
          "metadata": {
            "tags": []
          },
          "execution_count": 43
        }
      ]
    },
    {
      "cell_type": "code",
      "metadata": {
        "colab": {
          "base_uri": "https://localhost:8080/"
        },
        "id": "W4MaHF6ZcipP",
        "outputId": "332e6da6-3bce-4805-d66a-813f19ea0f93"
      },
      "source": [
        "mean(12345)"
      ],
      "execution_count": 44,
      "outputs": [
        {
          "output_type": "execute_result",
          "data": {
            "text/plain": [
              "3.0"
            ]
          },
          "metadata": {
            "tags": []
          },
          "execution_count": 44
        }
      ]
    },
    {
      "cell_type": "code",
      "metadata": {
        "colab": {
          "base_uri": "https://localhost:8080/"
        },
        "id": "ssCJ_mIsecy9",
        "outputId": "2eed49a1-5534-43e1-e6c5-bf23108eec20"
      },
      "source": [
        "mean(666)"
      ],
      "execution_count": 45,
      "outputs": [
        {
          "output_type": "execute_result",
          "data": {
            "text/plain": [
              "6.0"
            ]
          },
          "metadata": {
            "tags": []
          },
          "execution_count": 45
        }
      ]
    }
  ]
}