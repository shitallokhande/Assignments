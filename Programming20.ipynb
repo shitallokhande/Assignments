{
  "nbformat": 4,
  "nbformat_minor": 0,
  "metadata": {
    "colab": {
      "name": "Untitled38.ipynb",
      "provenance": [],
      "collapsed_sections": []
    },
    "kernelspec": {
      "name": "python3",
      "display_name": "Python 3"
    },
    "language_info": {
      "name": "python"
    }
  },
  "cells": [
    {
      "cell_type": "markdown",
      "metadata": {
        "id": "wh5XwMaMgF_y"
      },
      "source": [
        "Proframming Assignment No. 20"
      ]
    },
    {
      "cell_type": "code",
      "metadata": {
        "id": "BJvKf21hgLra"
      },
      "source": [
        "Question1\n",
        "Create a function that takes a list of strings and integers, and filters out the list so that it returns a list of integers only.\n",
        "Examples\n",
        "filter_list([1, 2, 3, \"a\", \"b\", 4]) ➞ [1, 2, 3, 4]\n",
        "\n",
        "filter_list([\"A\", 0, \"Edabit\", 1729, \"Python\", \"1729\"]) ➞ [0, 1729]\n",
        "\n",
        "filter_list([\"Nothing\", \"here\"]) ➞ []"
      ],
      "execution_count": null,
      "outputs": []
    },
    {
      "cell_type": "code",
      "metadata": {
        "colab": {
          "base_uri": "https://localhost:8080/"
        },
        "id": "JoeAS9CvgPQc",
        "outputId": "c0edd127-6f18-45fe-94b5-b0002b170d21"
      },
      "source": [
        "def filter_list(l):\n",
        "  l1 = []\n",
        "  for i in l :\n",
        "    if type(i) == int:\n",
        "      l1.append(i)\n",
        "  return l1\n",
        "\n",
        "filter_list([1, 2, 3, \"a\", \"b\", 4])"
      ],
      "execution_count": null,
      "outputs": [
        {
          "output_type": "execute_result",
          "data": {
            "text/plain": [
              "[1, 2, 3, 4]"
            ]
          },
          "metadata": {
            "tags": []
          },
          "execution_count": 7
        }
      ]
    },
    {
      "cell_type": "code",
      "metadata": {
        "colab": {
          "base_uri": "https://localhost:8080/"
        },
        "id": "CSMhLuuigayU",
        "outputId": "f1fca5f1-fc30-41b1-cd0b-f8c93b2d6582"
      },
      "source": [
        "filter_list([\"A\", 0, \"Edabit\", 1729, \"Python\", \"1729\"])"
      ],
      "execution_count": null,
      "outputs": [
        {
          "output_type": "execute_result",
          "data": {
            "text/plain": [
              "[0, 1729]"
            ]
          },
          "metadata": {
            "tags": []
          },
          "execution_count": 8
        }
      ]
    },
    {
      "cell_type": "code",
      "metadata": {
        "colab": {
          "base_uri": "https://localhost:8080/"
        },
        "id": "zQ1Fe_90guWq",
        "outputId": "3cb2cd4a-a041-4377-c913-5e9d0aaacb72"
      },
      "source": [
        "filter_list([\"Nothing\", \"here\"])"
      ],
      "execution_count": null,
      "outputs": [
        {
          "output_type": "execute_result",
          "data": {
            "text/plain": [
              "[]"
            ]
          },
          "metadata": {
            "tags": []
          },
          "execution_count": 9
        }
      ]
    },
    {
      "cell_type": "code",
      "metadata": {
        "id": "kkU5UoBMgwhl"
      },
      "source": [
        "Question2\n",
        "Given a list of numbers, create a function which returns the list but with each element's index in the list added to itself. \n",
        "This means you add 0 to the number at index 0, add 1 to the number at index 1, etc...\n",
        "Examples\n",
        "add_indexes([0, 0, 0, 0, 0]) ➞ [0, 1, 2, 3, 4]\n",
        "\n",
        "add_indexes([1, 2, 3, 4, 5]) ➞ [1, 3, 5, 7, 9]\n",
        "\n",
        "add_indexes([5, 4, 3, 2, 1]) ➞ [5, 5, 5, 5, 5]"
      ],
      "execution_count": null,
      "outputs": []
    },
    {
      "cell_type": "code",
      "metadata": {
        "colab": {
          "base_uri": "https://localhost:8080/"
        },
        "id": "6qDfh0vH8nSt",
        "outputId": "90c8f8b7-df4e-4dd3-c6b4-899faab8313f"
      },
      "source": [
        "def add_indexes(l):\n",
        " l1 = []\n",
        " s=0\n",
        " for i in l:\n",
        "  s = i + l.index(i)\n",
        "  l1.append(s)\n",
        " print(l1)\n",
        "\n",
        "add_indexes([0,0,0,0,0]) "
      ],
      "execution_count": 92,
      "outputs": [
        {
          "output_type": "stream",
          "text": [
            "[0, 0, 0, 0, 0]\n"
          ],
          "name": "stdout"
        }
      ]
    },
    {
      "cell_type": "code",
      "metadata": {
        "id": "ks6CoRtRAlrf",
        "colab": {
          "base_uri": "https://localhost:8080/"
        },
        "outputId": "0891d3ec-a203-44a5-a75c-ff31dd5b6d87"
      },
      "source": [
        "add_indexes([1, 2, 3, 4, 5])"
      ],
      "execution_count": 87,
      "outputs": [
        {
          "output_type": "stream",
          "text": [
            "[1, 3, 5, 7, 9]\n"
          ],
          "name": "stdout"
        }
      ]
    },
    {
      "cell_type": "code",
      "metadata": {
        "id": "UM6FFkxoAq6c",
        "colab": {
          "base_uri": "https://localhost:8080/"
        },
        "outputId": "0b73f50d-f65f-47a7-ca55-f591981cc8db"
      },
      "source": [
        "add_indexes([5, 4, 3, 2, 1])"
      ],
      "execution_count": 88,
      "outputs": [
        {
          "output_type": "stream",
          "text": [
            "[5, 5, 5, 5, 5]\n"
          ],
          "name": "stdout"
        }
      ]
    },
    {
      "cell_type": "code",
      "metadata": {
        "id": "5IQHdm6yh9Pd"
      },
      "source": [
        "Question3\n",
        "Create a function that takes the height and radius of a cone as arguments and returns the volume of the cone rounded to the nearest hundredth. \n",
        "See the resources tab for the formula.\n",
        " \n",
        "Examples\n",
        "cone_volume(3, 2) ➞ 12.57\n",
        "\n",
        "cone_volume(15, 6) ➞ 565.49\n",
        "\n",
        "cone_volume(18, 0) ➞ 0"
      ],
      "execution_count": null,
      "outputs": []
    },
    {
      "cell_type": "code",
      "metadata": {
        "colab": {
          "base_uri": "https://localhost:8080/"
        },
        "id": "5w8A13hoysvC",
        "outputId": "a3b85a4d-2b44-435d-f11d-8e0d6ca78bfa"
      },
      "source": [
        "def cone_volume(h,r):\n",
        "  pi = 3.17\n",
        "  volume = (pi*r*r*h)/3\n",
        "  return round(volume,2)\n",
        "\n",
        "cone_volume(3, 2)"
      ],
      "execution_count": null,
      "outputs": [
        {
          "output_type": "execute_result",
          "data": {
            "text/plain": [
              "12.68"
            ]
          },
          "metadata": {
            "tags": []
          },
          "execution_count": 11
        }
      ]
    },
    {
      "cell_type": "code",
      "metadata": {
        "colab": {
          "base_uri": "https://localhost:8080/"
        },
        "id": "NaK5evMfzIfE",
        "outputId": "3344bbbb-bfba-4c54-8582-8563f4cddf10"
      },
      "source": [
        "cone_volume(15, 6)"
      ],
      "execution_count": null,
      "outputs": [
        {
          "output_type": "execute_result",
          "data": {
            "text/plain": [
              "570.6"
            ]
          },
          "metadata": {
            "tags": []
          },
          "execution_count": 12
        }
      ]
    },
    {
      "cell_type": "code",
      "metadata": {
        "colab": {
          "base_uri": "https://localhost:8080/"
        },
        "id": "xR7BVafozgRi",
        "outputId": "cd109525-c29d-4841-eefe-0e6df63762b4"
      },
      "source": [
        "cone_volume(18, 0)"
      ],
      "execution_count": null,
      "outputs": [
        {
          "output_type": "execute_result",
          "data": {
            "text/plain": [
              "0.0"
            ]
          },
          "metadata": {
            "tags": []
          },
          "execution_count": 13
        }
      ]
    },
    {
      "cell_type": "code",
      "metadata": {
        "id": "Fn09dwKKziJY"
      },
      "source": [
        "Question4\n",
        "This Triangular Number Sequence is generated from a pattern of dots that form a triangle. The first 5 numbers of the sequence, or dots, are: \n",
        "1, 3, 6, 10, 15\n",
        "This means that the first triangle has just one dot, the second one has three dots, the third one has 6 dots and so on.\n",
        "Write a function that gives the number of dots with its corresponding triangle number of the sequence.\n",
        "Examples\n",
        "triangle(1) ➞ 1\n",
        "\n",
        "triangle(6) ➞ 21\n",
        "\n",
        "triangle(215) ➞ 23220"
      ],
      "execution_count": null,
      "outputs": []
    },
    {
      "cell_type": "code",
      "metadata": {
        "colab": {
          "base_uri": "https://localhost:8080/"
        },
        "id": "fhyjW4hr0HPA",
        "outputId": "950afe1b-96a1-4cbb-84f1-9c62af67de6b"
      },
      "source": [
        "def triangle(dot):\n",
        "  dots = dot*(dot+1)/2\n",
        "  return dots\n",
        "triangle(1)"
      ],
      "execution_count": null,
      "outputs": [
        {
          "output_type": "execute_result",
          "data": {
            "text/plain": [
              "1.0"
            ]
          },
          "metadata": {
            "tags": []
          },
          "execution_count": 19
        }
      ]
    },
    {
      "cell_type": "code",
      "metadata": {
        "colab": {
          "base_uri": "https://localhost:8080/"
        },
        "id": "qoFZCWyB0w32",
        "outputId": "ad184e05-cc22-418b-9268-6cc222b99792"
      },
      "source": [
        "triangle(6)"
      ],
      "execution_count": null,
      "outputs": [
        {
          "output_type": "execute_result",
          "data": {
            "text/plain": [
              "21.0"
            ]
          },
          "metadata": {
            "tags": []
          },
          "execution_count": 20
        }
      ]
    },
    {
      "cell_type": "code",
      "metadata": {
        "colab": {
          "base_uri": "https://localhost:8080/"
        },
        "id": "0-bv9XNz06M_",
        "outputId": "f06520ef-8644-46e0-eff6-64b9e5effb9e"
      },
      "source": [
        "triangle(215)"
      ],
      "execution_count": null,
      "outputs": [
        {
          "output_type": "execute_result",
          "data": {
            "text/plain": [
              "23220.0"
            ]
          },
          "metadata": {
            "tags": []
          },
          "execution_count": 21
        }
      ]
    },
    {
      "cell_type": "code",
      "metadata": {
        "id": "OBLt8zR306y2"
      },
      "source": [
        "Question5\n",
        "Create a function that takes a list of numbers between 1 and 10 (excluding one number) and returns the missing number.\n",
        "Examples\n",
        "missing_num([1, 2, 3, 4, 6, 7, 8, 9, 10]) ➞ 5\n",
        "\n",
        "missing_num([7, 2, 3, 6, 5, 9, 1, 4, 8]) ➞ 10\n",
        "\n",
        "missing_num([10, 5, 1, 2, 4, 6, 8, 3, 9]) ➞ 7"
      ],
      "execution_count": null,
      "outputs": []
    },
    {
      "cell_type": "code",
      "metadata": {
        "colab": {
          "base_uri": "https://localhost:8080/"
        },
        "id": "Y2JE4rrW1Tbp",
        "outputId": "165264d5-7e50-4bb5-ec4c-b4502a442aea"
      },
      "source": [
        "def missing_num(a):\n",
        "    n = len(a)\n",
        "    total = (n + 1)*(n + 2)/2\n",
        "    sum_a = sum(a)\n",
        "    return total - sum_a\n",
        "missing_num([1, 2, 3, 4, 6, 7, 8, 9, 10])"
      ],
      "execution_count": null,
      "outputs": [
        {
          "output_type": "execute_result",
          "data": {
            "text/plain": [
              "5.0"
            ]
          },
          "metadata": {
            "tags": []
          },
          "execution_count": 23
        }
      ]
    },
    {
      "cell_type": "code",
      "metadata": {
        "colab": {
          "base_uri": "https://localhost:8080/"
        },
        "id": "El7x-Qgp0-ud",
        "outputId": "7db7980e-db5b-4be2-f0f6-3eebc6684c8e"
      },
      "source": [
        "missing_num([7, 2, 3, 6, 5, 9, 1, 4, 8])\n"
      ],
      "execution_count": null,
      "outputs": [
        {
          "output_type": "execute_result",
          "data": {
            "text/plain": [
              "10.0"
            ]
          },
          "metadata": {
            "tags": []
          },
          "execution_count": 24
        }
      ]
    },
    {
      "cell_type": "code",
      "metadata": {
        "colab": {
          "base_uri": "https://localhost:8080/"
        },
        "id": "PaLM_2_X1wTa",
        "outputId": "819b8268-68d0-45c6-92ce-ea790b5e57ef"
      },
      "source": [
        "missing_num([10, 5, 1, 2, 4, 6, 8, 3, 9])"
      ],
      "execution_count": null,
      "outputs": [
        {
          "output_type": "execute_result",
          "data": {
            "text/plain": [
              "7.0"
            ]
          },
          "metadata": {
            "tags": []
          },
          "execution_count": 25
        }
      ]
    }
  ]
}