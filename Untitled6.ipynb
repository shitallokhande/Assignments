{
  "nbformat": 4,
  "nbformat_minor": 0,
  "metadata": {
    "colab": {
      "name": "Untitled6.ipynb",
      "provenance": []
    },
    "kernelspec": {
      "name": "python3",
      "display_name": "Python 3"
    },
    "language_info": {
      "name": "python"
    }
  },
  "cells": [
    {
      "cell_type": "markdown",
      "metadata": {
        "id": "-foc0Nv5Gdcb"
      },
      "source": [
        "Python Assignment 5"
      ]
    },
    {
      "cell_type": "code",
      "metadata": {
        "id": "iZU9xgVZGiHU"
      },
      "source": [
        "1. What does an empty dictionary's code look like?\n",
        "\n",
        "{}"
      ],
      "execution_count": null,
      "outputs": []
    },
    {
      "cell_type": "code",
      "metadata": {
        "id": "ZEm3VxvqGln-"
      },
      "source": [
        "2. What is the value of a dictionary value with the key 'foo' and the value 42?\n",
        "\n",
        "{'foo': 42}"
      ],
      "execution_count": null,
      "outputs": []
    },
    {
      "cell_type": "code",
      "metadata": {
        "id": "6jnbr5gJGrcf"
      },
      "source": [
        "3. What is the most significant distinction between a dictionary and a list?\n",
        "\n",
        "The items in a dictionary are unordered, while the items in a list are ordered."
      ],
      "execution_count": null,
      "outputs": []
    },
    {
      "cell_type": "code",
      "metadata": {
        "id": "xtx-BTP0GzV9"
      },
      "source": [
        "4. What happens if you try to access spam['foo'] if spam is {'bar': 100}?\n",
        "\n",
        "KeyError error."
      ],
      "execution_count": null,
      "outputs": []
    },
    {
      "cell_type": "code",
      "metadata": {
        "id": "9qS73JeFG41L"
      },
      "source": [
        "5. If a dictionary is stored in spam, what is the difference between the expressions 'cat' in spam and 'cat' in spam.keys()?\n",
        "\n",
        "No difference"
      ],
      "execution_count": null,
      "outputs": []
    },
    {
      "cell_type": "code",
      "metadata": {
        "id": "jW9N8EWZHAD5"
      },
      "source": [
        "6. If a dictionary is stored in spam, what is the difference between the expressions 'cat' in spam and 'cat' in spam.values()?\n",
        "\n",
        "'cat' in spam checks whether there is a 'cat' key in the dictionary, \n",
        "while 'cat' in spam.values() checks whether there is a value 'cat' for one of the keys in spam."
      ],
      "execution_count": null,
      "outputs": []
    },
    {
      "cell_type": "code",
      "metadata": {
        "id": "lPlMF5KQHUCV"
      },
      "source": [
        "7. What is a shortcut for the following code?\n",
        "if 'color' not in spam:\n",
        "spam['color'] = 'black'\n",
        "\n",
        "\n",
        "spam.setdefault('color', 'black')"
      ],
      "execution_count": null,
      "outputs": []
    },
    {
      "cell_type": "code",
      "metadata": {
        "id": "i5r40P5NHamm"
      },
      "source": [
        "8. How do you \"pretty print\" dictionary values using which module and function?\n",
        "\n",
        "pprint.pprint()"
      ],
      "execution_count": null,
      "outputs": []
    }
  ]
}