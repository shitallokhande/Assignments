{
  "nbformat": 4,
  "nbformat_minor": 0,
  "metadata": {
    "colab": {
      "name": "Untitled4.ipynb",
      "provenance": []
    },
    "kernelspec": {
      "name": "python3",
      "display_name": "Python 3"
    },
    "language_info": {
      "name": "python"
    }
  },
  "cells": [
    {
      "cell_type": "markdown",
      "metadata": {
        "id": "RvbU23vSsuK9"
      },
      "source": [
        "                  Python Programming Assignment : 4"
      ]
    },
    {
      "cell_type": "code",
      "metadata": {
        "colab": {
          "base_uri": "https://localhost:8080/"
        },
        "id": "07MtzyJes3I0",
        "outputId": "096e7964-a0b5-47c6-df49-929d89c3e064"
      },
      "source": [
        "#Q.1. Write a Python Program to Find the Factorial of a Number?\n",
        "\n",
        "import math\n",
        "\n",
        "num = int(input('Enter the number'))\n",
        "\n",
        "f = math.factorial(num)\n",
        "print(f)\n"
      ],
      "execution_count": 14,
      "outputs": [
        {
          "output_type": "stream",
          "text": [
            "Enter the number10\n",
            "3628800\n"
          ],
          "name": "stdout"
        }
      ]
    },
    {
      "cell_type": "code",
      "metadata": {
        "colab": {
          "base_uri": "https://localhost:8080/"
        },
        "id": "Zl_RRQ-otHYk",
        "outputId": "4c1d451c-f24f-4dbd-800f-33c4f7b97f45"
      },
      "source": [
        "#Q.2. Write a Python Program to Display the multiplication Table?\n",
        "\n",
        "a = int(input(\"Enter the number to find its multiplication table\"))\n",
        "\n",
        "for i in range(1,11):\n",
        "  table = i*a\n",
        "  print('{} * {} = {}'.format(i,a,table))"
      ],
      "execution_count": 15,
      "outputs": [
        {
          "output_type": "stream",
          "text": [
            "Enter the number to find its multiplication table10\n",
            "1 * 10 = 10\n",
            "2 * 10 = 20\n",
            "3 * 10 = 30\n",
            "4 * 10 = 40\n",
            "5 * 10 = 50\n",
            "6 * 10 = 60\n",
            "7 * 10 = 70\n",
            "8 * 10 = 80\n",
            "9 * 10 = 90\n",
            "10 * 10 = 100\n"
          ],
          "name": "stdout"
        }
      ]
    },
    {
      "cell_type": "code",
      "metadata": {
        "colab": {
          "base_uri": "https://localhost:8080/"
        },
        "id": "bQBCAbzEvZ0q",
        "outputId": "e7ce43b1-4c2b-4560-d7c1-79e724ddfc16"
      },
      "source": [
        "#Q.3. Write a Python Program to Print the Fibonacci sequence?\n",
        "\n",
        "x = int(input('Enter the number'))\n",
        "n1=0\n",
        "n2=1\n",
        "count=0\n",
        "\n",
        "if(x) < 0:\n",
        "  print('Enter a positive number')\n",
        "\n",
        "elif(x==0):\n",
        "  print(\"Fibonacci sequence : 1\")\n",
        "\n",
        "else : \n",
        " while (count<x):\n",
        "  print(n1)\n",
        "  n = n1+n2\n",
        "  n1=n2\n",
        "  n2=n\n",
        "  count+=1"
      ],
      "execution_count": 24,
      "outputs": [
        {
          "output_type": "stream",
          "text": [
            "Enter the number10\n",
            "0\n",
            "1\n",
            "1\n",
            "2\n",
            "3\n",
            "5\n",
            "8\n",
            "13\n",
            "21\n",
            "34\n"
          ],
          "name": "stdout"
        }
      ]
    },
    {
      "cell_type": "code",
      "metadata": {
        "colab": {
          "base_uri": "https://localhost:8080/"
        },
        "id": "1d6qNq2BwyJD",
        "outputId": "86597aa3-708c-4431-c75f-70eddeb42a2b"
      },
      "source": [
        " #Q.4. Write a Python Program to Check Armstrong Number?\n",
        "\n",
        " n = 407\n",
        "\n",
        "order = len(str(n))\n",
        "\n",
        "sum = 0\n",
        "\n",
        "temp = n\n",
        "while temp > 0:\n",
        "   digit = temp % 10\n",
        "   sum += digit ** order\n",
        "   temp //= 10\n",
        "\n",
        "if n == sum:\n",
        "   print(n,\"is an Armstrong number\")\n",
        "else:\n",
        "   print(n,\"is not an Armstrong number\")"
      ],
      "execution_count": 26,
      "outputs": [
        {
          "output_type": "stream",
          "text": [
            "407 is an Armstrong number\n"
          ],
          "name": "stdout"
        }
      ]
    },
    {
      "cell_type": "code",
      "metadata": {
        "colab": {
          "base_uri": "https://localhost:8080/"
        },
        "id": "piGonHulyKwL",
        "outputId": "96a81d2f-7212-4efc-8f33-bd4a995812d8"
      },
      "source": [
        "#Q.5. Write a Python Program to Find Armstrong Number in an Interval?\n",
        "\n",
        "start = 1\n",
        "end = 200\n",
        "\n",
        "for num in range(start, end + 1):\n",
        "\n",
        "   order = len(str(num))\n",
        "    \n",
        "   sum = 0\n",
        "\n",
        "   temp = num\n",
        "   while temp > 0:\n",
        "       digit = temp % 10\n",
        "       sum += digit ** order\n",
        "       temp //= 10\n",
        "\n",
        "   if num == sum:\n",
        "       print(num)"
      ],
      "execution_count": 28,
      "outputs": [
        {
          "output_type": "stream",
          "text": [
            "1\n",
            "2\n",
            "3\n",
            "4\n",
            "5\n",
            "6\n",
            "7\n",
            "8\n",
            "9\n",
            "153\n"
          ],
          "name": "stdout"
        }
      ]
    },
    {
      "cell_type": "code",
      "metadata": {
        "colab": {
          "base_uri": "https://localhost:8080/"
        },
        "id": "tP6l9MqMy9i4",
        "outputId": "add433ed-00e0-49e2-a43c-a3e30a0fee5b"
      },
      "source": [
        "#Q.6. Write a Python Program to Find the Sum of Natural Numbers?\n",
        "\n",
        "l = int(input('Enter the number you want to add upto'))\n",
        "sum=0\n",
        "\n",
        "while (l>0):\n",
        " sum += l\n",
        " l -= 1\n",
        "print(sum)"
      ],
      "execution_count": 36,
      "outputs": [
        {
          "output_type": "stream",
          "text": [
            "Enter the number you want to add upto9\n",
            "45\n"
          ],
          "name": "stdout"
        }
      ]
    }
  ]
}