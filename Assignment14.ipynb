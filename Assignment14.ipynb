{
  "nbformat": 4,
  "nbformat_minor": 0,
  "metadata": {
    "colab": {
      "name": "Untitled22.ipynb",
      "provenance": [],
      "collapsed_sections": []
    },
    "kernelspec": {
      "name": "python3",
      "display_name": "Python 3"
    },
    "language_info": {
      "name": "python"
    }
  },
  "cells": [
    {
      "cell_type": "markdown",
      "metadata": {
        "id": "RJq04YnDxegS"
      },
      "source": [
        "Assignment No. 14"
      ]
    },
    {
      "cell_type": "code",
      "metadata": {
        "id": "whwdRnQexh83"
      },
      "source": [
        "1. What does RGBA stand for?\n",
        "\n",
        "Red Green Blue Alpha"
      ],
      "execution_count": null,
      "outputs": []
    },
    {
      "cell_type": "code",
      "metadata": {
        "id": "JVbsMpHvxyw0"
      },
      "source": [
        "2. From the Pillow module, how do you get the RGBA value of any images?\n",
        "\n",
        "In Pillow, RGBA values are represented by a tuple of four integer values. For example, the color red is represented by (255, 0, 0, 255). \n",
        "This color has the maximum amount of red, no green or blue, and the maximum alpha value, meaning it is fully opaque. \n",
        "Green is represented by (0, 255, 0, 255), and blue is (0, 0, 255, 255). \n",
        "White, the combination of all colors, is (255, 255, 255, 255), while black, which has no color at all, is (0, 0, 0, 255).\n",
        "\n",
        "If a color has an alpha value of 0, it is invisible, and it doesn’t really matter what the RGB values are. \n",
        "After all, invisible red looks the same as invisible black.\n",
        "\n",
        "Pillow offers the ImageColor.getcolor() function so you don’t have to memorize RGBA values for the colors you want to use. \n",
        "This function takes a color name string as its first argument, and the string 'RGBA' as its second argument, and it returns an RGBA tuple."
      ],
      "execution_count": null,
      "outputs": []
    },
    {
      "cell_type": "code",
      "metadata": {
        "id": "gtLHTP3-yP6s"
      },
      "source": [
        "3. What is a box tuple, and how does it work?\n",
        "\n",
        "Image pixels are addressed with x- and y-coordinates, which respectively specify a pixel’s horizontal and vertical location in an image. \n",
        "The origin is the pixel at the top-left corner of the image and is specified with the notation (0, 0).\n",
        " The first zero represents the x-coordinate, which starts at zero at the origin and increases going from left to right. \n",
        " The second zero represents the y-coordinate, which starts at zero at the origin and increases going down the image. \n",
        " This bears repeating: y-coordinates increase going downward, which is the opposite of how you may remember y-coordinates being used in math class. \n",
        "\n",
        "Many of Pillow’s functions and methods take a box tuple argument. \n",
        "This means Pillow is expecting a tuple of four integer coordinates that represent a rectangular region in an image. "
      ],
      "execution_count": null,
      "outputs": []
    },
    {
      "cell_type": "code",
      "metadata": {
        "id": "ZjXWw97by1GC"
      },
      "source": [
        "4. Use your image and load in notebook then, How can you find out the width and height of an Image object?\n",
        "\n",
        " croppedIm.save('image.png')"
      ],
      "execution_count": null,
      "outputs": []
    },
    {
      "cell_type": "code",
      "metadata": {
        "id": "MLJXMQaEzZdv"
      },
      "source": [
        "6. After making changes to an Image object, how could you save it as an image file?\n",
        "\n",
        " croppedIm.save('image.png')"
      ],
      "execution_count": null,
      "outputs": []
    },
    {
      "cell_type": "code",
      "metadata": {
        "id": "_eXP2ycEzzcw"
      },
      "source": [
        "7. What module contains Pillow’s shape-drawing code?\n",
        "\n",
        "ImageDraw() module"
      ],
      "execution_count": null,
      "outputs": []
    },
    {
      "cell_type": "code",
      "metadata": {
        "id": "lczjrfssz9iT"
      },
      "source": [
        "8. Image objects do not have drawing methods. What kind of object does? How do you get this kind of object?\n",
        "\n",
        "1. points\n",
        "2. lines\n",
        "3. rectangles\n",
        "4. ellipses"
      ],
      "execution_count": null,
      "outputs": []
    }
  ]
}